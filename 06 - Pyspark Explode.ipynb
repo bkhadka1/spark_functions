{
 "cells": [
  {
   "cell_type": "code",
   "execution_count": 0,
   "metadata": {
    "application/vnd.databricks.v1+cell": {
     "cellMetadata": {
      "byteLimit": 2048000,
      "rowLimit": 10000
     },
     "inputWidgets": {},
     "nuid": "b561762a-978e-4b5a-a5a0-cad2646d674b",
     "showTitle": true,
     "title": "Create dataframe with array column"
    }
   },
   "outputs": [],
   "source": [
    "array_appliance=[\n",
    "    (\"raja\",['Tv',\"AC\",\"Oven\",\"washingmachine\"]),\n",
    "    (\"ashu\",['Tv',\"AC\",\"Oven\",None]),\n",
    "    (\"ravi\",[\"grinder\",\"washingmachine\"]),\n",
    "    (\"ram\",['Tv']),(\"ramesh\",[None])]"
   ]
  },
  {
   "cell_type": "code",
   "execution_count": 0,
   "metadata": {
    "application/vnd.databricks.v1+cell": {
     "cellMetadata": {
      "byteLimit": 2048000,
      "rowLimit": 10000
     },
     "inputWidgets": {},
     "nuid": "2780aa04-f9a2-4519-b72d-92b498c116be",
     "showTitle": false,
     "title": ""
    }
   },
   "outputs": [
    {
     "output_type": "stream",
     "name": "stdout",
     "output_type": "stream",
     "text": [
      "root\n |-- Name: string (nullable = true)\n |-- Appliance: array (nullable = true)\n |    |-- element: string (containsNull = true)\n\n"
     ]
    },
    {
     "output_type": "display_data",
     "data": {
      "text/html": [
       "<style scoped>\n",
       "  .table-result-container {\n",
       "    max-height: 300px;\n",
       "    overflow: auto;\n",
       "  }\n",
       "  table, th, td {\n",
       "    border: 1px solid black;\n",
       "    border-collapse: collapse;\n",
       "  }\n",
       "  th, td {\n",
       "    padding: 5px;\n",
       "  }\n",
       "  th {\n",
       "    text-align: left;\n",
       "  }\n",
       "</style><div class='table-result-container'><table class='table-result'><thead style='background-color: white'><tr><th>Name</th><th>Appliance</th></tr></thead><tbody><tr><td>raja</td><td>List(Tv, AC, Oven, washingmachine)</td></tr><tr><td>ashu</td><td>List(Tv, AC, Oven, null)</td></tr><tr><td>ravi</td><td>List(grinder, washingmachine)</td></tr><tr><td>ram</td><td>List(Tv)</td></tr><tr><td>ramesh</td><td>List(null)</td></tr></tbody></table></div>"
      ]
     },
     "metadata": {
      "application/vnd.databricks.v1+output": {
       "addedWidgets": {},
       "aggData": [],
       "aggError": "",
       "aggOverflow": false,
       "aggSchema": [],
       "aggSeriesLimitReached": false,
       "aggType": "",
       "arguments": {},
       "columnCustomDisplayInfos": {},
       "data": [
        [
         "raja",
         [
          "Tv",
          "AC",
          "Oven",
          "washingmachine"
         ]
        ],
        [
         "ashu",
         [
          "Tv",
          "AC",
          "Oven",
          null
         ]
        ],
        [
         "ravi",
         [
          "grinder",
          "washingmachine"
         ]
        ],
        [
         "ram",
         [
          "Tv"
         ]
        ],
        [
         "ramesh",
         [
          null
         ]
        ]
       ],
       "datasetInfos": [],
       "dbfsResultPath": null,
       "isJsonSchema": true,
       "metadata": {},
       "overflow": false,
       "plotOptions": {
        "customPlotOptions": {},
        "displayType": "table",
        "pivotAggregation": null,
        "pivotColumns": null,
        "xColumns": null,
        "yColumns": null
       },
       "removedWidgets": [],
       "schema": [
        {
         "metadata": "{}",
         "name": "Name",
         "type": "\"string\""
        },
        {
         "metadata": "{}",
         "name": "Appliance",
         "type": "{\"type\":\"array\",\"elementType\":\"string\",\"containsNull\":true}"
        }
       ],
       "type": "table"
      }
     },
     "output_type": "display_data"
    }
   ],
   "source": [
    "df_app = spark.createDataFrame(data=array_appliance, schema = [\"Name\",\"Appliance\"])\n",
    "df_app.printSchema()\n",
    "display(df_app)"
   ]
  },
  {
   "cell_type": "code",
   "execution_count": 0,
   "metadata": {
    "application/vnd.databricks.v1+cell": {
     "cellMetadata": {
      "byteLimit": 2048000,
      "rowLimit": 10000
     },
     "inputWidgets": {},
     "nuid": "da55b1e3-a3e6-4fe7-821b-2c624bdcf71f",
     "showTitle": false,
     "title": ""
    }
   },
   "outputs": [
    {
     "output_type": "stream",
     "name": "stdout",
     "output_type": "stream",
     "text": [
      "root\n |-- Name: string (nullable = true)\n |-- Brand: map (nullable = true)\n |    |-- key: string\n |    |-- value: string (valueContainsNull = true)\n\n"
     ]
    },
    {
     "output_type": "display_data",
     "data": {
      "text/html": [
       "<style scoped>\n",
       "  .table-result-container {\n",
       "    max-height: 300px;\n",
       "    overflow: auto;\n",
       "  }\n",
       "  table, th, td {\n",
       "    border: 1px solid black;\n",
       "    border-collapse: collapse;\n",
       "  }\n",
       "  th, td {\n",
       "    padding: 5px;\n",
       "  }\n",
       "  th {\n",
       "    text-align: left;\n",
       "  }\n",
       "</style><div class='table-result-container'><table class='table-result'><thead style='background-color: white'><tr><th>Name</th><th>Brand</th></tr></thead><tbody><tr><td>raja</td><td>Map(washingmachine -> LG, AC -> LG, Tv -> LG, Oven -> LG)</td></tr><tr><td>ashu</td><td>Map(AC -> Voltas, Tv -> OPENPLUS, Oven -> null)</td></tr><tr><td>ravi</td><td>Map(grinder -> preeti, washingmachine -> croma)</td></tr><tr><td>ram</td><td>Map(Tv -> samsung)</td></tr><tr><td>ramesh</td><td>null</td></tr></tbody></table></div>"
      ]
     },
     "metadata": {
      "application/vnd.databricks.v1+output": {
       "addedWidgets": {},
       "aggData": [],
       "aggError": "",
       "aggOverflow": false,
       "aggSchema": [],
       "aggSeriesLimitReached": false,
       "aggType": "",
       "arguments": {},
       "columnCustomDisplayInfos": {},
       "data": [
        [
         "raja",
         {
          "AC": "LG",
          "Oven": "LG",
          "Tv": "LG",
          "washingmachine": "LG"
         }
        ],
        [
         "ashu",
         {
          "AC": "Voltas",
          "Oven": null,
          "Tv": "OPENPLUS"
         }
        ],
        [
         "ravi",
         {
          "grinder": "preeti",
          "washingmachine": "croma"
         }
        ],
        [
         "ram",
         {
          "Tv": "samsung"
         }
        ],
        [
         "ramesh",
         null
        ]
       ],
       "datasetInfos": [],
       "dbfsResultPath": null,
       "isJsonSchema": true,
       "metadata": {},
       "overflow": false,
       "plotOptions": {
        "customPlotOptions": {},
        "displayType": "table",
        "pivotAggregation": null,
        "pivotColumns": null,
        "xColumns": null,
        "yColumns": null
       },
       "removedWidgets": [],
       "schema": [
        {
         "metadata": "{}",
         "name": "Name",
         "type": "\"string\""
        },
        {
         "metadata": "{}",
         "name": "Brand",
         "type": "{\"type\":\"map\",\"keyType\":\"string\",\"valueType\":\"string\",\"valueContainsNull\":true}"
        }
       ],
       "type": "table"
      }
     },
     "output_type": "display_data"
    }
   ],
   "source": [
    "array_appliances = [\n",
    "    (\"raja\", {'Tv': 'LG', \"AC\": 'LG', \"Oven\": 'LG', \"washingmachine\": 'LG'}),\n",
    "    (\"ashu\", {'Tv': 'OPENPLUS', \"AC\": 'Voltas', \"Oven\": None}),\n",
    "    (\"ravi\", {'grinder': 'preeti', \"washingmachine\": 'croma'}),\n",
    "    (\"ram\", {'Tv': 'samsung'}),\n",
    "    (\"ramesh\", None)\n",
    "]\n",
    "df_brand = spark.createDataFrame(data= array_appliances,schema=[\"Name\",\"Brand\"])\n",
    "df_brand.printSchema()\n",
    "display(df_brand)\n"
   ]
  },
  {
   "cell_type": "code",
   "execution_count": 0,
   "metadata": {
    "application/vnd.databricks.v1+cell": {
     "cellMetadata": {
      "byteLimit": 2048000,
      "rowLimit": 10000
     },
     "inputWidgets": {},
     "nuid": "b7b03d6b-b87d-4b6e-8718-9f4315de5b33",
     "showTitle": true,
     "title": "Explode array field"
    }
   },
   "outputs": [
    {
     "output_type": "display_data",
     "data": {
      "text/html": [
       "<style scoped>\n",
       "  .table-result-container {\n",
       "    max-height: 300px;\n",
       "    overflow: auto;\n",
       "  }\n",
       "  table, th, td {\n",
       "    border: 1px solid black;\n",
       "    border-collapse: collapse;\n",
       "  }\n",
       "  th, td {\n",
       "    padding: 5px;\n",
       "  }\n",
       "  th {\n",
       "    text-align: left;\n",
       "  }\n",
       "</style><div class='table-result-container'><table class='table-result'><thead style='background-color: white'><tr><th>Name</th><th>col</th></tr></thead><tbody><tr><td>raja</td><td>Tv</td></tr><tr><td>raja</td><td>AC</td></tr><tr><td>raja</td><td>Oven</td></tr><tr><td>raja</td><td>washingmachine</td></tr><tr><td>ashu</td><td>Tv</td></tr><tr><td>ashu</td><td>AC</td></tr><tr><td>ashu</td><td>Oven</td></tr><tr><td>ashu</td><td>null</td></tr><tr><td>ravi</td><td>grinder</td></tr><tr><td>ravi</td><td>washingmachine</td></tr><tr><td>ram</td><td>Tv</td></tr><tr><td>ramesh</td><td>null</td></tr></tbody></table></div>"
      ]
     },
     "metadata": {
      "application/vnd.databricks.v1+output": {
       "addedWidgets": {},
       "aggData": [],
       "aggError": "",
       "aggOverflow": false,
       "aggSchema": [],
       "aggSeriesLimitReached": false,
       "aggType": "",
       "arguments": {},
       "columnCustomDisplayInfos": {},
       "data": [
        [
         "raja",
         "Tv"
        ],
        [
         "raja",
         "AC"
        ],
        [
         "raja",
         "Oven"
        ],
        [
         "raja",
         "washingmachine"
        ],
        [
         "ashu",
         "Tv"
        ],
        [
         "ashu",
         "AC"
        ],
        [
         "ashu",
         "Oven"
        ],
        [
         "ashu",
         null
        ],
        [
         "ravi",
         "grinder"
        ],
        [
         "ravi",
         "washingmachine"
        ],
        [
         "ram",
         "Tv"
        ],
        [
         "ramesh",
         null
        ]
       ],
       "datasetInfos": [],
       "dbfsResultPath": null,
       "isJsonSchema": true,
       "metadata": {},
       "overflow": false,
       "plotOptions": {
        "customPlotOptions": {},
        "displayType": "table",
        "pivotAggregation": null,
        "pivotColumns": null,
        "xColumns": null,
        "yColumns": null
       },
       "removedWidgets": [],
       "schema": [
        {
         "metadata": "{}",
         "name": "Name",
         "type": "\"string\""
        },
        {
         "metadata": "{}",
         "name": "col",
         "type": "\"string\""
        }
       ],
       "type": "table"
      }
     },
     "output_type": "display_data"
    },
    {
     "output_type": "stream",
     "name": "stdout",
     "output_type": "stream",
     "text": [
      "root\n |-- Name: string (nullable = true)\n |-- col: string (nullable = true)\n\n"
     ]
    }
   ],
   "source": [
    "from pyspark.sql.functions import explode\n",
    "df2 = df_app.select(df_app.Name,explode(df_app.Appliance))\n",
    "display(df2)\n",
    "df2.printSchema()"
   ]
  },
  {
   "cell_type": "code",
   "execution_count": 0,
   "metadata": {
    "application/vnd.databricks.v1+cell": {
     "cellMetadata": {
      "byteLimit": 2048000,
      "rowLimit": 10000
     },
     "inputWidgets": {},
     "nuid": "2135b32b-4e72-4d76-a1fa-388adc29c225",
     "showTitle": true,
     "title": "Explode Map field"
    }
   },
   "outputs": [
    {
     "output_type": "display_data",
     "data": {
      "text/html": [
       "<style scoped>\n",
       "  .table-result-container {\n",
       "    max-height: 300px;\n",
       "    overflow: auto;\n",
       "  }\n",
       "  table, th, td {\n",
       "    border: 1px solid black;\n",
       "    border-collapse: collapse;\n",
       "  }\n",
       "  th, td {\n",
       "    padding: 5px;\n",
       "  }\n",
       "  th {\n",
       "    text-align: left;\n",
       "  }\n",
       "</style><div class='table-result-container'><table class='table-result'><thead style='background-color: white'><tr><th>Name</th><th>key</th><th>value</th></tr></thead><tbody><tr><td>raja</td><td>washingmachine</td><td>LG</td></tr><tr><td>raja</td><td>AC</td><td>LG</td></tr><tr><td>raja</td><td>Tv</td><td>LG</td></tr><tr><td>raja</td><td>Oven</td><td>LG</td></tr><tr><td>ashu</td><td>AC</td><td>Voltas</td></tr><tr><td>ashu</td><td>Tv</td><td>OPENPLUS</td></tr><tr><td>ashu</td><td>Oven</td><td>null</td></tr><tr><td>ravi</td><td>grinder</td><td>preeti</td></tr><tr><td>ravi</td><td>washingmachine</td><td>croma</td></tr><tr><td>ram</td><td>Tv</td><td>samsung</td></tr></tbody></table></div>"
      ]
     },
     "metadata": {
      "application/vnd.databricks.v1+output": {
       "addedWidgets": {},
       "aggData": [],
       "aggError": "",
       "aggOverflow": false,
       "aggSchema": [],
       "aggSeriesLimitReached": false,
       "aggType": "",
       "arguments": {},
       "columnCustomDisplayInfos": {},
       "data": [
        [
         "raja",
         "washingmachine",
         "LG"
        ],
        [
         "raja",
         "AC",
         "LG"
        ],
        [
         "raja",
         "Tv",
         "LG"
        ],
        [
         "raja",
         "Oven",
         "LG"
        ],
        [
         "ashu",
         "AC",
         "Voltas"
        ],
        [
         "ashu",
         "Tv",
         "OPENPLUS"
        ],
        [
         "ashu",
         "Oven",
         null
        ],
        [
         "ravi",
         "grinder",
         "preeti"
        ],
        [
         "ravi",
         "washingmachine",
         "croma"
        ],
        [
         "ram",
         "Tv",
         "samsung"
        ]
       ],
       "datasetInfos": [],
       "dbfsResultPath": null,
       "isJsonSchema": true,
       "metadata": {},
       "overflow": false,
       "plotOptions": {
        "customPlotOptions": {},
        "displayType": "table",
        "pivotAggregation": null,
        "pivotColumns": null,
        "xColumns": null,
        "yColumns": null
       },
       "removedWidgets": [],
       "schema": [
        {
         "metadata": "{}",
         "name": "Name",
         "type": "\"string\""
        },
        {
         "metadata": "{}",
         "name": "key",
         "type": "\"string\""
        },
        {
         "metadata": "{}",
         "name": "value",
         "type": "\"string\""
        }
       ],
       "type": "table"
      }
     },
     "output_type": "display_data"
    },
    {
     "output_type": "stream",
     "name": "stdout",
     "output_type": "stream",
     "text": [
      "root\n |-- Name: string (nullable = true)\n |-- col: string (nullable = true)\n\n"
     ]
    }
   ],
   "source": [
    "df3 = df_brand.select(df_brand.Name,explode(df_brand.Brand))\n",
    "display(df3)\n",
    "df2.printSchema()"
   ]
  },
  {
   "cell_type": "code",
   "execution_count": 0,
   "metadata": {
    "application/vnd.databricks.v1+cell": {
     "cellMetadata": {
      "byteLimit": 2048000,
      "rowLimit": 10000
     },
     "inputWidgets": {},
     "nuid": "45b762f3-c73a-4601-94a8-d812b0ca8946",
     "showTitle": true,
     "title": "EXPLODE_OUTER "
    }
   },
   "outputs": [
    {
     "output_type": "display_data",
     "data": {
      "text/html": [
       "<style scoped>\n",
       "  .table-result-container {\n",
       "    max-height: 300px;\n",
       "    overflow: auto;\n",
       "  }\n",
       "  table, th, td {\n",
       "    border: 1px solid black;\n",
       "    border-collapse: collapse;\n",
       "  }\n",
       "  th, td {\n",
       "    padding: 5px;\n",
       "  }\n",
       "  th {\n",
       "    text-align: left;\n",
       "  }\n",
       "</style><div class='table-result-container'><table class='table-result'><thead style='background-color: white'><tr><th>Name</th><th>col</th></tr></thead><tbody><tr><td>raja</td><td>Tv</td></tr><tr><td>raja</td><td>AC</td></tr><tr><td>raja</td><td>Oven</td></tr><tr><td>raja</td><td>washingmachine</td></tr><tr><td>ashu</td><td>Tv</td></tr><tr><td>ashu</td><td>AC</td></tr><tr><td>ashu</td><td>Oven</td></tr><tr><td>ashu</td><td>null</td></tr><tr><td>ravi</td><td>grinder</td></tr><tr><td>ravi</td><td>washingmachine</td></tr><tr><td>ram</td><td>Tv</td></tr><tr><td>ramesh</td><td>null</td></tr></tbody></table></div>"
      ]
     },
     "metadata": {
      "application/vnd.databricks.v1+output": {
       "addedWidgets": {},
       "aggData": [],
       "aggError": "",
       "aggOverflow": false,
       "aggSchema": [],
       "aggSeriesLimitReached": false,
       "aggType": "",
       "arguments": {},
       "columnCustomDisplayInfos": {},
       "data": [
        [
         "raja",
         "Tv"
        ],
        [
         "raja",
         "AC"
        ],
        [
         "raja",
         "Oven"
        ],
        [
         "raja",
         "washingmachine"
        ],
        [
         "ashu",
         "Tv"
        ],
        [
         "ashu",
         "AC"
        ],
        [
         "ashu",
         "Oven"
        ],
        [
         "ashu",
         null
        ],
        [
         "ravi",
         "grinder"
        ],
        [
         "ravi",
         "washingmachine"
        ],
        [
         "ram",
         "Tv"
        ],
        [
         "ramesh",
         null
        ]
       ],
       "datasetInfos": [],
       "dbfsResultPath": null,
       "isJsonSchema": true,
       "metadata": {},
       "overflow": false,
       "plotOptions": {
        "customPlotOptions": {},
        "displayType": "table",
        "pivotAggregation": null,
        "pivotColumns": null,
        "xColumns": null,
        "yColumns": null
       },
       "removedWidgets": [],
       "schema": [
        {
         "metadata": "{}",
         "name": "Name",
         "type": "\"string\""
        },
        {
         "metadata": "{}",
         "name": "col",
         "type": "\"string\""
        }
       ],
       "type": "table"
      }
     },
     "output_type": "display_data"
    },
    {
     "output_type": "display_data",
     "data": {
      "text/html": [
       "<style scoped>\n",
       "  .table-result-container {\n",
       "    max-height: 300px;\n",
       "    overflow: auto;\n",
       "  }\n",
       "  table, th, td {\n",
       "    border: 1px solid black;\n",
       "    border-collapse: collapse;\n",
       "  }\n",
       "  th, td {\n",
       "    padding: 5px;\n",
       "  }\n",
       "  th {\n",
       "    text-align: left;\n",
       "  }\n",
       "</style><div class='table-result-container'><table class='table-result'><thead style='background-color: white'><tr><th>Name</th><th>key</th><th>value</th></tr></thead><tbody><tr><td>raja</td><td>washingmachine</td><td>LG</td></tr><tr><td>raja</td><td>AC</td><td>LG</td></tr><tr><td>raja</td><td>Tv</td><td>LG</td></tr><tr><td>raja</td><td>Oven</td><td>LG</td></tr><tr><td>ashu</td><td>AC</td><td>Voltas</td></tr><tr><td>ashu</td><td>Tv</td><td>OPENPLUS</td></tr><tr><td>ashu</td><td>Oven</td><td>null</td></tr><tr><td>ravi</td><td>grinder</td><td>preeti</td></tr><tr><td>ravi</td><td>washingmachine</td><td>croma</td></tr><tr><td>ram</td><td>Tv</td><td>samsung</td></tr><tr><td>ramesh</td><td>null</td><td>null</td></tr></tbody></table></div>"
      ]
     },
     "metadata": {
      "application/vnd.databricks.v1+output": {
       "addedWidgets": {},
       "aggData": [],
       "aggError": "",
       "aggOverflow": false,
       "aggSchema": [],
       "aggSeriesLimitReached": false,
       "aggType": "",
       "arguments": {},
       "columnCustomDisplayInfos": {},
       "data": [
        [
         "raja",
         "washingmachine",
         "LG"
        ],
        [
         "raja",
         "AC",
         "LG"
        ],
        [
         "raja",
         "Tv",
         "LG"
        ],
        [
         "raja",
         "Oven",
         "LG"
        ],
        [
         "ashu",
         "AC",
         "Voltas"
        ],
        [
         "ashu",
         "Tv",
         "OPENPLUS"
        ],
        [
         "ashu",
         "Oven",
         null
        ],
        [
         "ravi",
         "grinder",
         "preeti"
        ],
        [
         "ravi",
         "washingmachine",
         "croma"
        ],
        [
         "ram",
         "Tv",
         "samsung"
        ],
        [
         "ramesh",
         null,
         null
        ]
       ],
       "datasetInfos": [],
       "dbfsResultPath": null,
       "isJsonSchema": true,
       "metadata": {},
       "overflow": false,
       "plotOptions": {
        "customPlotOptions": {},
        "displayType": "table",
        "pivotAggregation": null,
        "pivotColumns": null,
        "xColumns": null,
        "yColumns": null
       },
       "removedWidgets": [],
       "schema": [
        {
         "metadata": "{}",
         "name": "Name",
         "type": "\"string\""
        },
        {
         "metadata": "{}",
         "name": "key",
         "type": "\"string\""
        },
        {
         "metadata": "{}",
         "name": "value",
         "type": "\"string\""
        }
       ],
       "type": "table"
      }
     },
     "output_type": "display_data"
    }
   ],
   "source": [
    "#  In PySpark, EXPLODE_OUTER is a function that is used in combination with the explode function to handle the cases where the input array or map might be null or empty. It is used to ensure that even if the input collection is empty or null, a single row is still generated with a null value for the exploded column.\n",
    "display(df_app.select(df_app.Name,explode_outer(df_app.Appliance)))\n",
    "display(df_brand.select(df_brand.Name,explode_outer(df_brand.Brand)))"
   ]
  },
  {
   "cell_type": "code",
   "execution_count": 0,
   "metadata": {
    "application/vnd.databricks.v1+cell": {
     "cellMetadata": {
      "byteLimit": 2048000,
      "rowLimit": 10000
     },
     "inputWidgets": {},
     "nuid": "2f9e3787-4bc5-4406-b2d1-cfc51d357974",
     "showTitle": true,
     "title": "Positional explode"
    }
   },
   "outputs": [
    {
     "output_type": "display_data",
     "data": {
      "text/plain": [
       "\u001B[0;31m---------------------------------------------------------------------------\u001B[0m\n",
       "\u001B[0;31mNameError\u001B[0m                                 Traceback (most recent call last)\n",
       "\u001B[0;32m<command-3408809049778230>\u001B[0m in \u001B[0;36m<cell line: 1>\u001B[0;34m()\u001B[0m\n",
       "\u001B[0;32m----> 1\u001B[0;31m \u001B[0mdisplay\u001B[0m\u001B[0;34m(\u001B[0m\u001B[0mdf_app\u001B[0m\u001B[0;34m.\u001B[0m\u001B[0mselect\u001B[0m\u001B[0;34m(\u001B[0m\u001B[0mdf_app\u001B[0m\u001B[0;34m.\u001B[0m\u001B[0mName\u001B[0m\u001B[0;34m,\u001B[0m\u001B[0mposexplode\u001B[0m\u001B[0;34m(\u001B[0m\u001B[0mdf_app\u001B[0m\u001B[0;34m.\u001B[0m\u001B[0mAppliance\u001B[0m\u001B[0;34m)\u001B[0m\u001B[0;34m)\u001B[0m\u001B[0;34m)\u001B[0m\u001B[0;34m\u001B[0m\u001B[0;34m\u001B[0m\u001B[0m\n",
       "\u001B[0m\u001B[1;32m      2\u001B[0m \u001B[0mdisplay\u001B[0m\u001B[0;34m(\u001B[0m\u001B[0mdf_brand\u001B[0m\u001B[0;34m.\u001B[0m\u001B[0mselect\u001B[0m\u001B[0;34m(\u001B[0m\u001B[0mdf_brand\u001B[0m\u001B[0;34m.\u001B[0m\u001B[0mName\u001B[0m\u001B[0;34m,\u001B[0m\u001B[0mposexplode\u001B[0m\u001B[0;34m(\u001B[0m\u001B[0mdf_brand\u001B[0m\u001B[0;34m.\u001B[0m\u001B[0mBrand\u001B[0m\u001B[0;34m)\u001B[0m\u001B[0;34m)\u001B[0m\u001B[0;34m)\u001B[0m\u001B[0;34m\u001B[0m\u001B[0;34m\u001B[0m\u001B[0m\n",
       "\n",
       "\u001B[0;31mNameError\u001B[0m: name 'posexplode' is not defined"
      ]
     },
     "metadata": {
      "application/vnd.databricks.v1+output": {
       "arguments": {},
       "data": "\u001B[0;31m---------------------------------------------------------------------------\u001B[0m\n\u001B[0;31mNameError\u001B[0m                                 Traceback (most recent call last)\n\u001B[0;32m<command-3408809049778230>\u001B[0m in \u001B[0;36m<cell line: 1>\u001B[0;34m()\u001B[0m\n\u001B[0;32m----> 1\u001B[0;31m \u001B[0mdisplay\u001B[0m\u001B[0;34m(\u001B[0m\u001B[0mdf_app\u001B[0m\u001B[0;34m.\u001B[0m\u001B[0mselect\u001B[0m\u001B[0;34m(\u001B[0m\u001B[0mdf_app\u001B[0m\u001B[0;34m.\u001B[0m\u001B[0mName\u001B[0m\u001B[0;34m,\u001B[0m\u001B[0mposexplode\u001B[0m\u001B[0;34m(\u001B[0m\u001B[0mdf_app\u001B[0m\u001B[0;34m.\u001B[0m\u001B[0mAppliance\u001B[0m\u001B[0;34m)\u001B[0m\u001B[0;34m)\u001B[0m\u001B[0;34m)\u001B[0m\u001B[0;34m\u001B[0m\u001B[0;34m\u001B[0m\u001B[0m\n\u001B[0m\u001B[1;32m      2\u001B[0m \u001B[0mdisplay\u001B[0m\u001B[0;34m(\u001B[0m\u001B[0mdf_brand\u001B[0m\u001B[0;34m.\u001B[0m\u001B[0mselect\u001B[0m\u001B[0;34m(\u001B[0m\u001B[0mdf_brand\u001B[0m\u001B[0;34m.\u001B[0m\u001B[0mName\u001B[0m\u001B[0;34m,\u001B[0m\u001B[0mposexplode\u001B[0m\u001B[0;34m(\u001B[0m\u001B[0mdf_brand\u001B[0m\u001B[0;34m.\u001B[0m\u001B[0mBrand\u001B[0m\u001B[0;34m)\u001B[0m\u001B[0;34m)\u001B[0m\u001B[0;34m)\u001B[0m\u001B[0;34m\u001B[0m\u001B[0;34m\u001B[0m\u001B[0m\n\n\u001B[0;31mNameError\u001B[0m: name 'posexplode' is not defined",
       "errorSummary": "<span class='ansi-red-fg'>NameError</span>: name 'posexplode' is not defined",
       "errorTraceType": "ansi",
       "metadata": {},
       "type": "ipynbError"
      }
     },
     "output_type": "display_data"
    }
   ],
   "source": [
    "display(df_app.select(df_app.Name,posexplode(df_app.Appliance)))\n",
    "display(df_brand.select(df_brand.Name,posexplode(df_brand.Brand)))"
   ]
  },
  {
   "cell_type": "code",
   "execution_count": 0,
   "metadata": {
    "application/vnd.databricks.v1+cell": {
     "cellMetadata": {
      "byteLimit": 2048000,
      "rowLimit": 10000
     },
     "inputWidgets": {},
     "nuid": "9c8c643b-0969-4a00-b73d-c4e7efd96a31",
     "showTitle": false,
     "title": ""
    }
   },
   "outputs": [
    {
     "output_type": "display_data",
     "data": {
      "text/html": [
       "<style scoped>\n",
       "  .table-result-container {\n",
       "    max-height: 300px;\n",
       "    overflow: auto;\n",
       "  }\n",
       "  table, th, td {\n",
       "    border: 1px solid black;\n",
       "    border-collapse: collapse;\n",
       "  }\n",
       "  th, td {\n",
       "    padding: 5px;\n",
       "  }\n",
       "  th {\n",
       "    text-align: left;\n",
       "  }\n",
       "</style><div class='table-result-container'><table class='table-result'><thead style='background-color: white'><tr><th>Name</th><th>pos</th><th>col</th></tr></thead><tbody><tr><td>raja</td><td>0</td><td>Tv</td></tr><tr><td>raja</td><td>1</td><td>AC</td></tr><tr><td>raja</td><td>2</td><td>Oven</td></tr><tr><td>raja</td><td>3</td><td>washingmachine</td></tr><tr><td>ashu</td><td>0</td><td>Tv</td></tr><tr><td>ashu</td><td>1</td><td>AC</td></tr><tr><td>ashu</td><td>2</td><td>Oven</td></tr><tr><td>ashu</td><td>3</td><td>null</td></tr><tr><td>ravi</td><td>0</td><td>grinder</td></tr><tr><td>ravi</td><td>1</td><td>washingmachine</td></tr><tr><td>ram</td><td>0</td><td>Tv</td></tr><tr><td>ramesh</td><td>0</td><td>null</td></tr></tbody></table></div>"
      ]
     },
     "metadata": {
      "application/vnd.databricks.v1+output": {
       "addedWidgets": {},
       "aggData": [],
       "aggError": "",
       "aggOverflow": false,
       "aggSchema": [],
       "aggSeriesLimitReached": false,
       "aggType": "",
       "arguments": {},
       "columnCustomDisplayInfos": {},
       "data": [
        [
         "raja",
         0,
         "Tv"
        ],
        [
         "raja",
         1,
         "AC"
        ],
        [
         "raja",
         2,
         "Oven"
        ],
        [
         "raja",
         3,
         "washingmachine"
        ],
        [
         "ashu",
         0,
         "Tv"
        ],
        [
         "ashu",
         1,
         "AC"
        ],
        [
         "ashu",
         2,
         "Oven"
        ],
        [
         "ashu",
         3,
         null
        ],
        [
         "ravi",
         0,
         "grinder"
        ],
        [
         "ravi",
         1,
         "washingmachine"
        ],
        [
         "ram",
         0,
         "Tv"
        ],
        [
         "ramesh",
         0,
         null
        ]
       ],
       "datasetInfos": [],
       "dbfsResultPath": null,
       "isJsonSchema": true,
       "metadata": {},
       "overflow": false,
       "plotOptions": {
        "customPlotOptions": {},
        "displayType": "table",
        "pivotAggregation": null,
        "pivotColumns": null,
        "xColumns": null,
        "yColumns": null
       },
       "removedWidgets": [],
       "schema": [
        {
         "metadata": "{}",
         "name": "Name",
         "type": "\"string\""
        },
        {
         "metadata": "{}",
         "name": "pos",
         "type": "\"integer\""
        },
        {
         "metadata": "{}",
         "name": "col",
         "type": "\"string\""
        }
       ],
       "type": "table"
      }
     },
     "output_type": "display_data"
    },
    {
     "output_type": "display_data",
     "data": {
      "text/html": [
       "<style scoped>\n",
       "  .table-result-container {\n",
       "    max-height: 300px;\n",
       "    overflow: auto;\n",
       "  }\n",
       "  table, th, td {\n",
       "    border: 1px solid black;\n",
       "    border-collapse: collapse;\n",
       "  }\n",
       "  th, td {\n",
       "    padding: 5px;\n",
       "  }\n",
       "  th {\n",
       "    text-align: left;\n",
       "  }\n",
       "</style><div class='table-result-container'><table class='table-result'><thead style='background-color: white'><tr><th>Name</th><th>pos</th><th>key</th><th>value</th></tr></thead><tbody><tr><td>raja</td><td>0</td><td>washingmachine</td><td>LG</td></tr><tr><td>raja</td><td>1</td><td>AC</td><td>LG</td></tr><tr><td>raja</td><td>2</td><td>Tv</td><td>LG</td></tr><tr><td>raja</td><td>3</td><td>Oven</td><td>LG</td></tr><tr><td>ashu</td><td>0</td><td>AC</td><td>Voltas</td></tr><tr><td>ashu</td><td>1</td><td>Tv</td><td>OPENPLUS</td></tr><tr><td>ashu</td><td>2</td><td>Oven</td><td>null</td></tr><tr><td>ravi</td><td>0</td><td>grinder</td><td>preeti</td></tr><tr><td>ravi</td><td>1</td><td>washingmachine</td><td>croma</td></tr><tr><td>ram</td><td>0</td><td>Tv</td><td>samsung</td></tr><tr><td>ramesh</td><td>null</td><td>null</td><td>null</td></tr></tbody></table></div>"
      ]
     },
     "metadata": {
      "application/vnd.databricks.v1+output": {
       "addedWidgets": {},
       "aggData": [],
       "aggError": "",
       "aggOverflow": false,
       "aggSchema": [],
       "aggSeriesLimitReached": false,
       "aggType": "",
       "arguments": {},
       "columnCustomDisplayInfos": {},
       "data": [
        [
         "raja",
         0,
         "washingmachine",
         "LG"
        ],
        [
         "raja",
         1,
         "AC",
         "LG"
        ],
        [
         "raja",
         2,
         "Tv",
         "LG"
        ],
        [
         "raja",
         3,
         "Oven",
         "LG"
        ],
        [
         "ashu",
         0,
         "AC",
         "Voltas"
        ],
        [
         "ashu",
         1,
         "Tv",
         "OPENPLUS"
        ],
        [
         "ashu",
         2,
         "Oven",
         null
        ],
        [
         "ravi",
         0,
         "grinder",
         "preeti"
        ],
        [
         "ravi",
         1,
         "washingmachine",
         "croma"
        ],
        [
         "ram",
         0,
         "Tv",
         "samsung"
        ],
        [
         "ramesh",
         null,
         null,
         null
        ]
       ],
       "datasetInfos": [],
       "dbfsResultPath": null,
       "isJsonSchema": true,
       "metadata": {},
       "overflow": false,
       "plotOptions": {
        "customPlotOptions": {},
        "displayType": "table",
        "pivotAggregation": null,
        "pivotColumns": null,
        "xColumns": null,
        "yColumns": null
       },
       "removedWidgets": [],
       "schema": [
        {
         "metadata": "{}",
         "name": "Name",
         "type": "\"string\""
        },
        {
         "metadata": "{}",
         "name": "pos",
         "type": "\"integer\""
        },
        {
         "metadata": "{}",
         "name": "key",
         "type": "\"string\""
        },
        {
         "metadata": "{}",
         "name": "value",
         "type": "\"string\""
        }
       ],
       "type": "table"
      }
     },
     "output_type": "display_data"
    }
   ],
   "source": [
    "display(df_app.select(df_app.Name,posexplode_outer(df_app.Appliance)))\n",
    "display(df_brand.select(df_brand.Name,posexplode_outer(df_brand.Brand)))"
   ]
  },
  {
   "cell_type": "code",
   "execution_count": 0,
   "metadata": {
    "application/vnd.databricks.v1+cell": {
     "cellMetadata": {
      "byteLimit": 2048000,
      "rowLimit": 10000
     },
     "inputWidgets": {},
     "nuid": "3b6b0712-84b3-4724-8a18-cf2d222da3b0",
     "showTitle": false,
     "title": ""
    }
   },
   "outputs": [],
   "source": [
    "employeeJsonString = \"\"\"\n",
    "[\n",
    "    {\n",
    "        \"firstName\": \"Oindrila\",\n",
    "        \"lastName\": \"Chakraborty\",\n",
    "        \"companies\": [\n",
    "            {\n",
    "                \"company\": \"LTIMindtree\",\n",
    "                \"exp\": 1.3\n",
    "            },\n",
    "            {\n",
    "                \"company\": \"Cognizant Technology Solutions\",\n",
    "                \"exp\": 0.11\n",
    "            },\n",
    "            {},\n",
    "            {\n",
    "                \"company\": \"PwC\",\n",
    "                \"exp\": 2.10\n",
    "            },\n",
    "            {\n",
    "                \"company\": \"Digital Avenues Limited\",\n",
    "                \"exp\": 0.8\n",
    "            },\n",
    "            {\n",
    "                \"company\": \"KPMG\",\n",
    "                \"exp\": 0.6\n",
    "            },\n",
    "            {\n",
    "                \"company\": \"Cognizant Technology Solutions\",\n",
    "                \"exp\": 2.11\n",
    "            },\n",
    "            {\n",
    "                \"company\": \"Aryasoft Technologies\",\n",
    "                \"exp\": 1.10\n",
    "            }\n",
    "        ]\n",
    "    },\n",
    "    {\n",
    "        \"firstName\": \"Soumyajyoti\",\n",
    "        \"lastName\": \"Bagchi\",\n",
    "        \"companies\": [\n",
    "            {\n",
    "                \"company\": \"Accenture India Pvt Ltd\",\n",
    "                \"exp\": 1.1\n",
    "            },\n",
    "            {\n",
    "                \"company\": \"Cognizant Technology Solutions\",\n",
    "                \"exp\": 6.2\n",
    "            },\n",
    "            {},\n",
    "            {\n",
    "                \"company\": \"Tata Consultancy Services\",\n",
    "                \"exp\": 6.7\n",
    "            }\n",
    "        ]\n",
    "    },\n",
    "    {},\n",
    "    {\n",
    "      \n",
    "        \"firstName\": \"Narendra\",\n",
    "        \"lastName\": \"Modi\",\n",
    "        \"companies\": []\n",
    "      \n",
    "    },\n",
    "    {\n",
    "        \"firstName\": \"Ayan\",\n",
    "        \"lastName\": \"Dutta\",\n",
    "        \"companies\": [\n",
    "            {\n",
    "                \"company\": \"Eli Lily\",\n",
    "                \"exp\": 1.4\n",
    "            },\n",
    "            {\n",
    "                \"company\": \"Cognizant Technology Solutions\",\n",
    "                \"exp\": 3.2\n",
    "            },\n",
    "            {\n",
    "                \"company\": \"Tata Consultancy Services\",\n",
    "                \"exp\": 4.3\n",
    "            },\n",
    "            {}\n",
    "        ]\n",
    "    },\n",
    "    {\n",
    "        \"firstName\": \"Debarshi\",\n",
    "        \"lastName\": \"Das\",\n",
    "        \"companies\": [\n",
    "            {},\n",
    "            {\n",
    "                \"company\": \"Eli Lily\",\n",
    "                \"exp\": 2.1\n",
    "            },\n",
    "            {\n",
    "                \"company\": \"KPMG\",\n",
    "                \"exp\": 0.9\n",
    "            },\n",
    "            {\n",
    "                \"company\": \"Cognizant Technology Solutions\",\n",
    "                \"exp\": 4.3\n",
    "            },\n",
    "            {\n",
    "                \"company\": \"Tata Consultancy Services\",\n",
    "                \"exp\": 3.8\n",
    "            }\n",
    "        ]\n",
    "    }\n",
    "]\n",
    "\"\"\""
   ]
  },
  {
   "cell_type": "code",
   "execution_count": 0,
   "metadata": {
    "application/vnd.databricks.v1+cell": {
     "cellMetadata": {
      "byteLimit": 2048000,
      "rowLimit": 10000
     },
     "inputWidgets": {},
     "nuid": "1dfc37ab-1e4e-4920-b5c6-a956c7ca1caf",
     "showTitle": false,
     "title": ""
    }
   },
   "outputs": [
    {
     "output_type": "display_data",
     "data": {
      "text/html": [
       "<style scoped>\n",
       "  .table-result-container {\n",
       "    max-height: 300px;\n",
       "    overflow: auto;\n",
       "  }\n",
       "  table, th, td {\n",
       "    border: 1px solid black;\n",
       "    border-collapse: collapse;\n",
       "  }\n",
       "  th, td {\n",
       "    padding: 5px;\n",
       "  }\n",
       "  th {\n",
       "    text-align: left;\n",
       "  }\n",
       "</style><div class='table-result-container'><table class='table-result'><thead style='background-color: white'><tr><th>companies</th><th>firstName</th><th>lastName</th></tr></thead><tbody><tr><td>List(Map(exp -> 1.3, company -> LTIMindtree), Map(exp -> 0.11, company -> Cognizant Technology Solutions), Map(), Map(exp -> 2.1, company -> PwC), Map(exp -> 0.8, company -> Digital Avenues Limited), Map(exp -> 0.6, company -> KPMG), Map(exp -> 2.11, company -> Cognizant Technology Solutions), Map(exp -> 1.1, company -> Aryasoft Technologies))</td><td>Oindrila</td><td>Chakraborty</td></tr><tr><td>List(Map(exp -> 1.1, company -> Accenture India Pvt Ltd), Map(exp -> 6.2, company -> Cognizant Technology Solutions), Map(), Map(exp -> 6.7, company -> Tata Consultancy Services))</td><td>Soumyajyoti</td><td>Bagchi</td></tr><tr><td>null</td><td>null</td><td>null</td></tr><tr><td>List()</td><td>Narendra</td><td>Modi</td></tr><tr><td>List(Map(exp -> 1.4, company -> Eli Lily), Map(exp -> 3.2, company -> Cognizant Technology Solutions), Map(exp -> 4.3, company -> Tata Consultancy Services), Map())</td><td>Ayan</td><td>Dutta</td></tr><tr><td>List(Map(), Map(exp -> 2.1, company -> Eli Lily), Map(exp -> 0.9, company -> KPMG), Map(exp -> 4.3, company -> Cognizant Technology Solutions), Map(exp -> 3.8, company -> Tata Consultancy Services))</td><td>Debarshi</td><td>Das</td></tr></tbody></table></div>"
      ]
     },
     "metadata": {
      "application/vnd.databricks.v1+output": {
       "addedWidgets": {},
       "aggData": [],
       "aggError": "",
       "aggOverflow": false,
       "aggSchema": [],
       "aggSeriesLimitReached": false,
       "aggType": "",
       "arguments": {},
       "columnCustomDisplayInfos": {},
       "data": [
        [
         [
          {
           "company": "LTIMindtree",
           "exp": "1.3"
          },
          {
           "company": "Cognizant Technology Solutions",
           "exp": "0.11"
          },
          {},
          {
           "company": "PwC",
           "exp": "2.1"
          },
          {
           "company": "Digital Avenues Limited",
           "exp": "0.8"
          },
          {
           "company": "KPMG",
           "exp": "0.6"
          },
          {
           "company": "Cognizant Technology Solutions",
           "exp": "2.11"
          },
          {
           "company": "Aryasoft Technologies",
           "exp": "1.1"
          }
         ],
         "Oindrila",
         "Chakraborty"
        ],
        [
         [
          {
           "company": "Accenture India Pvt Ltd",
           "exp": "1.1"
          },
          {
           "company": "Cognizant Technology Solutions",
           "exp": "6.2"
          },
          {},
          {
           "company": "Tata Consultancy Services",
           "exp": "6.7"
          }
         ],
         "Soumyajyoti",
         "Bagchi"
        ],
        [
         null,
         null,
         null
        ],
        [
         [],
         "Narendra",
         "Modi"
        ],
        [
         [
          {
           "company": "Eli Lily",
           "exp": "1.4"
          },
          {
           "company": "Cognizant Technology Solutions",
           "exp": "3.2"
          },
          {
           "company": "Tata Consultancy Services",
           "exp": "4.3"
          },
          {}
         ],
         "Ayan",
         "Dutta"
        ],
        [
         [
          {},
          {
           "company": "Eli Lily",
           "exp": "2.1"
          },
          {
           "company": "KPMG",
           "exp": "0.9"
          },
          {
           "company": "Cognizant Technology Solutions",
           "exp": "4.3"
          },
          {
           "company": "Tata Consultancy Services",
           "exp": "3.8"
          }
         ],
         "Debarshi",
         "Das"
        ]
       ],
       "datasetInfos": [],
       "dbfsResultPath": null,
       "isJsonSchema": true,
       "metadata": {},
       "overflow": false,
       "plotOptions": {
        "customPlotOptions": {},
        "displayType": "table",
        "pivotAggregation": null,
        "pivotColumns": null,
        "xColumns": null,
        "yColumns": null
       },
       "removedWidgets": [],
       "schema": [
        {
         "metadata": "{}",
         "name": "companies",
         "type": "{\"type\":\"array\",\"elementType\":{\"type\":\"map\",\"keyType\":\"string\",\"valueType\":\"string\",\"valueContainsNull\":true},\"containsNull\":true}"
        },
        {
         "metadata": "{}",
         "name": "firstName",
         "type": "\"string\""
        },
        {
         "metadata": "{}",
         "name": "lastName",
         "type": "\"string\""
        }
       ],
       "type": "table"
      }
     },
     "output_type": "display_data"
    },
    {
     "output_type": "stream",
     "name": "stdout",
     "output_type": "stream",
     "text": [
      "root\n |-- companies: array (nullable = true)\n |    |-- element: map (containsNull = true)\n |    |    |-- key: string\n |    |    |-- value: string (valueContainsNull = true)\n |-- firstName: string (nullable = true)\n |-- lastName: string (nullable = true)\n\n"
     ]
    }
   ],
   "source": [
    "import json\n",
    "\n",
    "# \"Create\" a \"List\" of \"Objects\" from the \"JSON String\" using the \"json.loads ()\" Method \n",
    "employeeList = json.loads(employeeJsonString)\n",
    "\n",
    "# \"Create\" a \"DataFrame\" from a \"List\" of \"Objects\"\n",
    "dfEmployee = spark.createDataFrame(employeeList)\n",
    "\n",
    "# Display the Content of the Created DataFrame from a \"JSON String\"\n",
    "display(dfEmployee)\n",
    "\n",
    "# Print the \"Schema\" of the Created DataFrame from a \"JSON String\"\n",
    "dfEmployee.printSchema()"
   ]
  },
  {
   "cell_type": "code",
   "execution_count": 0,
   "metadata": {
    "application/vnd.databricks.v1+cell": {
     "cellMetadata": {},
     "inputWidgets": {},
     "nuid": "d9899679-5147-48ba-ab8b-e850a32d1712",
     "showTitle": false,
     "title": ""
    }
   },
   "outputs": [],
   "source": []
  }
 ],
 "metadata": {
  "application/vnd.databricks.v1+notebook": {
   "dashboards": [],
   "language": "python",
   "notebookMetadata": {
    "pythonIndentUnit": 4
   },
   "notebookName": "06 - Pyspark Explode",
   "widgets": {}
  }
 },
 "nbformat": 4,
 "nbformat_minor": 0
}
