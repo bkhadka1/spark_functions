{
 "cells": [
  {
   "cell_type": "code",
   "execution_count": 0,
   "metadata": {
    "application/vnd.databricks.v1+cell": {
     "cellMetadata": {
      "byteLimit": 2048000,
      "rowLimit": 10000
     },
     "inputWidgets": {},
     "nuid": "547c6d86-1ad4-47b7-a6ea-fdf559655112",
     "showTitle": false,
     "tableResultSettingsMap": {},
     "title": ""
    }
   },
   "outputs": [
    {
     "output_type": "stream",
     "name": "stdout",
     "output_type": "stream",
     "text": [
      "Number of partitions: 5\n"
     ]
    }
   ],
   "source": [
    "from pyspark.sql import SparkSession\n",
    "\n",
    "# Initialize Spark Session\n",
    "spark = SparkSession.builder \\\n",
    "    .appName(\"DataFrame Partitions Example\") \\\n",
    "    .getOrCreate()\n",
    "\n",
    "# Data array\n",
    "data = [1, 2, 3, 4, 5, 6, 7, 8, 9, 10, 11, 12]\n",
    "\n",
    "# Create DataFrame from data\n",
    "df = spark.createDataFrame([(x,) for x in data], [\"value\"])\n",
    "\n",
    "# Repartition to 5 partitions\n",
    "df_repartitioned = df.repartition(5)\n",
    "\n",
    "# Print number of partitions\n",
    "num_partitions = df_repartitioned.rdd.getNumPartitions()\n",
    "print(f\"Number of partitions: {num_partitions}\")\n"
   ]
  },
  {
   "cell_type": "code",
   "execution_count": 0,
   "metadata": {
    "application/vnd.databricks.v1+cell": {
     "cellMetadata": {
      "byteLimit": 2048000,
      "rowLimit": 10000
     },
     "inputWidgets": {},
     "nuid": "5b7bc8eb-6433-411b-b83f-638e9c302d58",
     "showTitle": false,
     "tableResultSettingsMap": {},
     "title": ""
    }
   },
   "outputs": [
    {
     "output_type": "stream",
     "name": "stdout",
     "output_type": "stream",
     "text": [
      "Total number of records: 25\n"
     ]
    },
    {
     "output_type": "display_data",
     "data": {
      "text/html": [
       "<style scoped>\n",
       "  .table-result-container {\n",
       "    max-height: 300px;\n",
       "    overflow: auto;\n",
       "  }\n",
       "  table, th, td {\n",
       "    border: 1px solid black;\n",
       "    border-collapse: collapse;\n",
       "  }\n",
       "  th, td {\n",
       "    padding: 5px;\n",
       "  }\n",
       "  th {\n",
       "    text-align: left;\n",
       "  }\n",
       "</style><div class='table-result-container'><table class='table-result'><thead style='background-color: white'><tr><th>value</th></tr></thead><tbody><tr><td>1827|2008-01-01|WEB|JUAN|NH|2008|TRUE</td></tr><tr><td>1828|2008-01-02|TH|JUAN|NH|2008|FALSE</td></tr><tr><td>1829|2008-01-03|FR|JUAN|NH|2008|FALSE</td></tr><tr><td>1830|2008-01-04|SA|JUAN|NH|2008|FALSE</td></tr><tr><td>1831|2008-01-05|SU|JUAN|NH|2008|FALSE</td></tr><tr><td>1832|2008-01-06|MO|JUAN|NH|2008|FALSE</td></tr><tr><td>1833|2008-01-07|TU|JUAN|NH|2008|FALSE</td></tr><tr><td>1837|2008-01-08|WE|JUAN|NH|2008|FALSE</td></tr><tr><td>1838|2008-01-09|TH|JUAN|NH|2008|FALSE</td></tr><tr><td>1839|2008-01-10|FR|JUAN|NH|2008|FALSE</td></tr><tr><td>1837|2008-01-11|SA|JUAN|NH|2008|FALSE</td></tr><tr><td>1838|2008-01-12|SU|JUAN|NH|2008|FALSE</td></tr><tr><td>1839|2008-01-13|MO|JUAN|NH|2008|FALSE</td></tr><tr><td>1840|2008-01-14|TU|JUAN|NH|2008|FALSE</td></tr><tr><td>1841|2008-01-14|WE|JUAN|NH|2008|FALSE</td></tr><tr><td>1842|2008-01-16|TH|JUAN|NH|2008|FALSE</td></tr><tr><td>1842|2008-01-17|FR|JUAN|NH|2008|FALSE</td></tr><tr><td>1843|2008-01-18|SA|JUAN|NH|2008|FALSE</td></tr><tr><td>1845|2008-01-19|SU|JUAN|NH|2008|FALSE</td></tr><tr><td>1846|2008-01-20|MO|JUAN|NH|2008|FALSE</td></tr><tr><td>1847|2008-01-21|TU|JUAN|NH|2008|FALSE</td></tr><tr><td>1848|2008-01-24|WE|JUAN|NH|2008|FALSE</td></tr><tr><td>1849|2008-01-24|TH|JUAN|NH|2008|FALSE</td></tr><tr><td>1851|2008-01-25|FR|JUAN|NH|2008|FALSE</td></tr><tr><td>1851|2008-01-26|SA|JUAN|NH|2008|FALSE</td></tr></tbody></table></div>"
      ]
     },
     "metadata": {
      "application/vnd.databricks.v1+output": {
       "addedWidgets": {},
       "aggData": [],
       "aggError": "",
       "aggOverflow": false,
       "aggSchema": [],
       "aggSeriesLimitReached": false,
       "aggType": "",
       "arguments": {},
       "columnCustomDisplayInfos": {},
       "data": [
        [
         "1827|2008-01-01|WEB|JUAN|NH|2008|TRUE"
        ],
        [
         "1828|2008-01-02|TH|JUAN|NH|2008|FALSE"
        ],
        [
         "1829|2008-01-03|FR|JUAN|NH|2008|FALSE"
        ],
        [
         "1830|2008-01-04|SA|JUAN|NH|2008|FALSE"
        ],
        [
         "1831|2008-01-05|SU|JUAN|NH|2008|FALSE"
        ],
        [
         "1832|2008-01-06|MO|JUAN|NH|2008|FALSE"
        ],
        [
         "1833|2008-01-07|TU|JUAN|NH|2008|FALSE"
        ],
        [
         "1837|2008-01-08|WE|JUAN|NH|2008|FALSE"
        ],
        [
         "1838|2008-01-09|TH|JUAN|NH|2008|FALSE"
        ],
        [
         "1839|2008-01-10|FR|JUAN|NH|2008|FALSE"
        ],
        [
         "1837|2008-01-11|SA|JUAN|NH|2008|FALSE"
        ],
        [
         "1838|2008-01-12|SU|JUAN|NH|2008|FALSE"
        ],
        [
         "1839|2008-01-13|MO|JUAN|NH|2008|FALSE"
        ],
        [
         "1840|2008-01-14|TU|JUAN|NH|2008|FALSE"
        ],
        [
         "1841|2008-01-14|WE|JUAN|NH|2008|FALSE"
        ],
        [
         "1842|2008-01-16|TH|JUAN|NH|2008|FALSE"
        ],
        [
         "1842|2008-01-17|FR|JUAN|NH|2008|FALSE"
        ],
        [
         "1843|2008-01-18|SA|JUAN|NH|2008|FALSE"
        ],
        [
         "1845|2008-01-19|SU|JUAN|NH|2008|FALSE"
        ],
        [
         "1846|2008-01-20|MO|JUAN|NH|2008|FALSE"
        ],
        [
         "1847|2008-01-21|TU|JUAN|NH|2008|FALSE"
        ],
        [
         "1848|2008-01-24|WE|JUAN|NH|2008|FALSE"
        ],
        [
         "1849|2008-01-24|TH|JUAN|NH|2008|FALSE"
        ],
        [
         "1851|2008-01-25|FR|JUAN|NH|2008|FALSE"
        ],
        [
         "1851|2008-01-26|SA|JUAN|NH|2008|FALSE"
        ]
       ],
       "datasetInfos": [],
       "dbfsResultPath": null,
       "isJsonSchema": true,
       "metadata": {},
       "overflow": false,
       "plotOptions": {
        "customPlotOptions": {},
        "displayType": "table",
        "pivotAggregation": null,
        "pivotColumns": null,
        "xColumns": null,
        "yColumns": null
       },
       "removedWidgets": [],
       "schema": [
        {
         "metadata": "{}",
         "name": "value",
         "type": "\"string\""
        }
       ],
       "type": "table"
      }
     },
     "output_type": "display_data"
    },
    {
     "output_type": "stream",
     "name": "stdout",
     "output_type": "stream",
     "text": [
      "\nNumber of partitions: 4\n"
     ]
    }
   ],
   "source": [
    "# Manual data input\n",
    "data = [\n",
    "    \"1827|2008-01-01|WEB|JUAN|NH|2008|TRUE\",\n",
    "    \"1828|2008-01-02|TH|JUAN|NH|2008|FALSE\",\n",
    "    \"1829|2008-01-03|FR|JUAN|NH|2008|FALSE\",\n",
    "    \"1830|2008-01-04|SA|JUAN|NH|2008|FALSE\",\n",
    "    \"1831|2008-01-05|SU|JUAN|NH|2008|FALSE\",\n",
    "    \"1832|2008-01-06|MO|JUAN|NH|2008|FALSE\",\n",
    "    \"1833|2008-01-07|TU|JUAN|NH|2008|FALSE\",\n",
    "    \"1837|2008-01-08|WE|JUAN|NH|2008|FALSE\",\n",
    "    \"1838|2008-01-09|TH|JUAN|NH|2008|FALSE\",\n",
    "    \"1839|2008-01-10|FR|JUAN|NH|2008|FALSE\",\n",
    "    \"1837|2008-01-11|SA|JUAN|NH|2008|FALSE\",\n",
    "    \"1838|2008-01-12|SU|JUAN|NH|2008|FALSE\",\n",
    "    \"1839|2008-01-13|MO|JUAN|NH|2008|FALSE\",\n",
    "    \"1840|2008-01-14|TU|JUAN|NH|2008|FALSE\",\n",
    "    \"1841|2008-01-14|WE|JUAN|NH|2008|FALSE\",\n",
    "    \"1842|2008-01-16|TH|JUAN|NH|2008|FALSE\",\n",
    "    \"1842|2008-01-17|FR|JUAN|NH|2008|FALSE\",\n",
    "    \"1843|2008-01-18|SA|JUAN|NH|2008|FALSE\",\n",
    "    \"1845|2008-01-19|SU|JUAN|NH|2008|FALSE\",\n",
    "    \"1846|2008-01-20|MO|JUAN|NH|2008|FALSE\",\n",
    "    \"1847|2008-01-21|TU|JUAN|NH|2008|FALSE\",\n",
    "    \"1848|2008-01-24|WE|JUAN|NH|2008|FALSE\",\n",
    "    \"1849|2008-01-24|TH|JUAN|NH|2008|FALSE\",\n",
    "    \"1851|2008-01-25|FR|JUAN|NH|2008|FALSE\",\n",
    "    \"1851|2008-01-26|SA|JUAN|NH|2008|FALSE\"\n",
    "]\n",
    "\n",
    "# Create DataFrame from the data\n",
    "df = spark.createDataFrame([(line,) for line in data], [\"value\"])\n",
    "\n",
    "# Convert to RDD\n",
    "rdd = df.rdd\n",
    "\n",
    "# Count the number of records\n",
    "record_count = rdd.count()\n",
    "\n",
    "print(f\"Total number of records: {record_count}\")\n",
    "\n",
    "# Show the data\n",
    "display(df)\n",
    "\n",
    "# Print number of partitions\n",
    "print(f\"\\nNumber of partitions: {rdd.getNumPartitions()}\")"
   ]
  },
  {
   "cell_type": "code",
   "execution_count": 0,
   "metadata": {
    "application/vnd.databricks.v1+cell": {
     "cellMetadata": {
      "byteLimit": 2048000,
      "rowLimit": 10000
     },
     "inputWidgets": {},
     "nuid": "012662ef-f595-4762-b43d-64c6ae48be8c",
     "showTitle": false,
     "tableResultSettingsMap": {},
     "title": ""
    }
   },
   "outputs": [
    {
     "output_type": "stream",
     "name": "stdout",
     "output_type": "stream",
     "text": [
      "('In', 1)\n('Lists', 2)\n('Python', 3)\n('a', 3)\n('access', 1)\n('actions', 1)\n('add', 1)\n('aggregation', 1)\n('allow', 1)\n('an', 2)\n('and', 2)\n('article', 1)\n('create', 1)\n('find', 1)\n('from', 1)\n('heterogeneous', 1)\n('hold', 1)\n('how', 3)\n('in', 2)\n('item', 2)\n('items', 4)\n('learn', 1)\n('list', 8)\n('loop', 1)\n('many', 1)\n('more', 1)\n('number', 1)\n('of', 2)\n('on', 1)\n('remove', 1)\n('reversing', 1)\n('sorting', 1)\n('the', 4)\n('this', 1)\n('through', 1)\n('to', 5)\n('transformation', 1)\n('types', 1)\n('us', 1)\n('we', 1)\n('will', 1)\n"
     ]
    }
   ],
   "source": [
    "# Input paragraph\n",
    "text = \"\"\"Python Lists allow us to hold items of heterogeneous types. In this article, we will learn how to create a list in Python; access the list items; find the number of items in the list, how to add an item to list; how to remove an item from the list; loop through list items; sorting a list, reversing a list, and many more transformation and aggregation actions on Python Lists.\"\"\"\n",
    "\n",
    "# Create RDD from the text\n",
    "text_rdd = spark.sparkContext.parallelize([text])\n",
    "\n",
    "# Split into words and keep original case, strip punctuation\n",
    "words_rdd = text_rdd.flatMap(lambda line: line.split()) \\\n",
    "    .map(lambda word: word.strip('.,;:!?()[]{}'))\n",
    "\n",
    "# Count each word\n",
    "word_counts = words_rdd.map(lambda word: (word, 1)) \\\n",
    "    .reduceByKey(lambda a, b: a + b)\n",
    "\n",
    "# Collect and sort results by word\n",
    "results = word_counts.collect()\n",
    "results_sorted = sorted(results, key=lambda x: x[0])\n",
    "\n",
    "# Print each tuple\n",
    "for item in results_sorted:\n",
    "    print(item)"
   ]
  },
  {
   "cell_type": "code",
   "execution_count": 0,
   "metadata": {
    "application/vnd.databricks.v1+cell": {
     "cellMetadata": {
      "byteLimit": 2048000,
      "rowLimit": 10000
     },
     "inputWidgets": {},
     "nuid": "aca553f8-bdcc-415c-b93d-13a954d00dca",
     "showTitle": false,
     "tableResultSettingsMap": {},
     "title": ""
    }
   },
   "outputs": [
    {
     "output_type": "display_data",
     "data": {
      "text/html": [
       "<style scoped>\n",
       "  .table-result-container {\n",
       "    max-height: 300px;\n",
       "    overflow: auto;\n",
       "  }\n",
       "  table, th, td {\n",
       "    border: 1px solid black;\n",
       "    border-collapse: collapse;\n",
       "  }\n",
       "  th, td {\n",
       "    padding: 5px;\n",
       "  }\n",
       "  th {\n",
       "    text-align: left;\n",
       "  }\n",
       "</style><div class='table-result-container'><table class='table-result'><thead style='background-color: white'><tr><th>firstname</th><th>middlename</th><th>lastname</th><th>id</th><th>gender</th><th>salary</th></tr></thead><tbody><tr><td>Michael</td><td>Rose</td><td></td><td>40288</td><td>M</td><td>4000</td></tr><tr><td>Robert</td><td></td><td>Williams</td><td>42114</td><td>M</td><td>4000</td></tr><tr><td>Maria</td><td>Anne</td><td>Jones</td><td>39192</td><td>F</td><td>4000</td></tr></tbody></table></div>"
      ]
     },
     "metadata": {
      "application/vnd.databricks.v1+output": {
       "addedWidgets": {},
       "aggData": [],
       "aggError": "",
       "aggOverflow": false,
       "aggSchema": [],
       "aggSeriesLimitReached": false,
       "aggType": "",
       "arguments": {},
       "columnCustomDisplayInfos": {},
       "data": [
        [
         "Michael",
         "Rose",
         "",
         "40288",
         "M",
         4000
        ],
        [
         "Robert",
         "",
         "Williams",
         "42114",
         "M",
         4000
        ],
        [
         "Maria",
         "Anne",
         "Jones",
         "39192",
         "F",
         4000
        ]
       ],
       "datasetInfos": [],
       "dbfsResultPath": null,
       "isJsonSchema": true,
       "metadata": {},
       "overflow": false,
       "plotOptions": {
        "customPlotOptions": {},
        "displayType": "table",
        "pivotAggregation": null,
        "pivotColumns": null,
        "xColumns": null,
        "yColumns": null
       },
       "removedWidgets": [],
       "schema": [
        {
         "metadata": "{}",
         "name": "firstname",
         "type": "\"string\""
        },
        {
         "metadata": "{}",
         "name": "middlename",
         "type": "\"string\""
        },
        {
         "metadata": "{}",
         "name": "lastname",
         "type": "\"string\""
        },
        {
         "metadata": "{}",
         "name": "id",
         "type": "\"string\""
        },
        {
         "metadata": "{}",
         "name": "gender",
         "type": "\"string\""
        },
        {
         "metadata": "{}",
         "name": "salary",
         "type": "\"integer\""
        }
       ],
       "type": "table"
      }
     },
     "output_type": "display_data"
    },
    {
     "output_type": "display_data",
     "data": {
      "text/html": [
       "<style scoped>\n",
       "  .table-result-container {\n",
       "    max-height: 300px;\n",
       "    overflow: auto;\n",
       "  }\n",
       "  table, th, td {\n",
       "    border: 1px solid black;\n",
       "    border-collapse: collapse;\n",
       "  }\n",
       "  th, td {\n",
       "    padding: 5px;\n",
       "  }\n",
       "  th {\n",
       "    text-align: left;\n",
       "  }\n",
       "</style><div class='table-result-container'><table class='table-result'><thead style='background-color: white'><tr><th>firstname</th><th>middlename</th><th>lastname</th><th>id</th><th>gender</th><th>salary</th></tr></thead><tbody><tr><td>Michael</td><td>Rose</td><td></td><td>40288</td><td>M</td><td>4000</td></tr><tr><td>Robert</td><td></td><td>Williams</td><td>42114</td><td>M</td><td>4000</td></tr><tr><td>Maria</td><td>Anne</td><td>Jones</td><td>39192</td><td>F</td><td>4000</td></tr></tbody></table></div>"
      ]
     },
     "metadata": {
      "application/vnd.databricks.v1+output": {
       "addedWidgets": {},
       "aggData": [],
       "aggError": "",
       "aggOverflow": false,
       "aggSchema": [],
       "aggSeriesLimitReached": false,
       "aggType": "",
       "arguments": {},
       "columnCustomDisplayInfos": {},
       "data": [
        [
         "Michael",
         "Rose",
         "",
         "40288",
         "M",
         4000
        ],
        [
         "Robert",
         "",
         "Williams",
         "42114",
         "M",
         4000
        ],
        [
         "Maria",
         "Anne",
         "Jones",
         "39192",
         "F",
         4000
        ]
       ],
       "datasetInfos": [],
       "dbfsResultPath": null,
       "isJsonSchema": true,
       "metadata": {},
       "overflow": false,
       "plotOptions": {
        "customPlotOptions": {},
        "displayType": "table",
        "pivotAggregation": null,
        "pivotColumns": null,
        "xColumns": null,
        "yColumns": null
       },
       "removedWidgets": [],
       "schema": [
        {
         "metadata": "{}",
         "name": "firstname",
         "type": "\"string\""
        },
        {
         "metadata": "{}",
         "name": "middlename",
         "type": "\"string\""
        },
        {
         "metadata": "{}",
         "name": "lastname",
         "type": "\"string\""
        },
        {
         "metadata": "{}",
         "name": "id",
         "type": "\"string\""
        },
        {
         "metadata": "{}",
         "name": "gender",
         "type": "\"string\""
        },
        {
         "metadata": "{}",
         "name": "salary",
         "type": "\"integer\""
        }
       ],
       "type": "table"
      }
     },
     "output_type": "display_data"
    }
   ],
   "source": [
    "from pyspark.sql.types import StructType, StructField, StringType, IntegerType\n",
    "\n",
    "data = [\n",
    "    (\"James\", \"\", \"Smith\", \"36636\", \"M\", 3000),\n",
    "    (\"Michael\", \"Rose\", \"\", \"40288\", \"M\", 4000),\n",
    "    (\"Robert\", \"\", \"Williams\", \"42114\", \"M\", 4000),\n",
    "    (\"Maria\", \"Anne\", \"Jones\", \"39192\", \"F\", 4000),\n",
    "    (\"Jen\", \"Mary\", \"Brown\", \"\", \"F\", -1)\n",
    "]\n",
    "\n",
    "schema = StructType([\n",
    "    StructField(\"firstname\", StringType(), True),\n",
    "    StructField(\"middlename\", StringType(), True),\n",
    "    StructField(\"lastname\", StringType(), True),\n",
    "    StructField(\"id\", StringType(), True),\n",
    "    StructField(\"gender\", StringType(), True),\n",
    "    StructField(\"salary\", IntegerType(), True)\n",
    "])\n",
    "\n",
    "# Create DataFrame\n",
    "df = spark.createDataFrame(data, schema)\n",
    "\n",
    "# a) Register DataFrame as view named 'Users'\n",
    "df.createOrReplaceTempView(\"Users\")\n",
    "\n",
    "# b) DataFrame API: Filter users with salary > 3000\n",
    "df_filtered = df.filter(df.salary > 3000)\n",
    "display(df_filtered)\n",
    "\n",
    "# b) SQL: Query users with salary > 3000\n",
    "result_sql = spark.sql(\n",
    "    \"SELECT * FROM Users WHERE salary > 3000\"\n",
    ")\n",
    "display(result_sql)"
   ]
  },
  {
   "cell_type": "code",
   "execution_count": 0,
   "metadata": {
    "application/vnd.databricks.v1+cell": {
     "cellMetadata": {
      "byteLimit": 2048000,
      "rowLimit": 10000
     },
     "inputWidgets": {},
     "nuid": "8af8dcfc-47a5-489a-82cd-66f02a09b5f7",
     "showTitle": false,
     "tableResultSettingsMap": {},
     "title": ""
    }
   },
   "outputs": [
    {
     "output_type": "display_data",
     "data": {
      "text/html": [
       "<style scoped>\n",
       "  .table-result-container {\n",
       "    max-height: 300px;\n",
       "    overflow: auto;\n",
       "  }\n",
       "  table, th, td {\n",
       "    border: 1px solid black;\n",
       "    border-collapse: collapse;\n",
       "  }\n",
       "  th, td {\n",
       "    padding: 5px;\n",
       "  }\n",
       "  th {\n",
       "    text-align: left;\n",
       "  }\n",
       "</style><div class='table-result-container'><table class='table-result'><thead style='background-color: white'><tr><th>firstname</th></tr></thead><tbody></tbody></table></div>"
      ]
     },
     "metadata": {
      "application/vnd.databricks.v1+output": {
       "addedWidgets": {},
       "aggData": [],
       "aggError": "",
       "aggOverflow": false,
       "aggSchema": [],
       "aggSeriesLimitReached": false,
       "aggType": "",
       "arguments": {},
       "columnCustomDisplayInfos": {},
       "data": [],
       "datasetInfos": [],
       "dbfsResultPath": null,
       "isJsonSchema": true,
       "metadata": {},
       "overflow": false,
       "plotOptions": {
        "customPlotOptions": {},
        "displayType": "table",
        "pivotAggregation": null,
        "pivotColumns": null,
        "xColumns": null,
        "yColumns": null
       },
       "removedWidgets": [],
       "schema": [
        {
         "metadata": "{}",
         "name": "firstname",
         "type": "\"string\""
        }
       ],
       "type": "table"
      }
     },
     "output_type": "display_data"
    }
   ],
   "source": [
    "from pyspark.sql.types import StructType, StructField, StringType, IntegerType\n",
    "\n",
    "structureData = [\n",
    "    ((\"James\", \"\", \"Smith\"), \"36636\", \"M\", 3100),\n",
    "    ((\"Michael\", \"Rose\", \"\"), \"40288\", \"M\", 4300),\n",
    "    ((\"Robert\", \"\", \"Williams\"), \"42114\", \"M\", 1400),\n",
    "    ((\"Maria\", \"Anne\", \"Jones\"), \"39192\", \"F\", 5500),\n",
    "    ((\"Jen\", \"Mary\", \"Brown\"), \"\", \"F\", -1)\n",
    "]\n",
    "\n",
    "structureSchema = StructType([\n",
    "    StructField('name', StructType([\n",
    "        StructField('firstname', StringType(), True),\n",
    "        StructField('middlename', StringType(), True),\n",
    "        StructField('lastname', StringType(), True)\n",
    "    ])),\n",
    "    StructField('id', StringType(), True),\n",
    "    StructField('gender', StringType(), True),\n",
    "    StructField('salary', IntegerType(), True)\n",
    "])\n",
    "\n",
    "# Create DataFrame\n",
    "df = spark.createDataFrame(structureData, structureSchema)\n",
    "\n",
    "# c) Register DataFrame as view named 'Users'\n",
    "df.createOrReplaceTempView(\"Users\")\n",
    "\n",
    "# d) SQL to return 'firstname' when 'lastname' is 'Rose'\n",
    "result_sql = spark.sql(\n",
    "    \"SELECT name.firstname FROM Users WHERE name.lastname = 'Rose'\"\n",
    ")\n",
    "display(result_sql)\n",
    "\n",
    "# Since Rose is a middle name nothing is returned."
   ]
  }
 ],
 "metadata": {
  "application/vnd.databricks.v1+notebook": {
   "computePreferences": null,
   "dashboards": [],
   "environmentMetadata": {
    "base_environment": "",
    "environment_version": "4"
   },
   "inputWidgetPreferences": null,
   "language": "python",
   "notebookMetadata": {
    "pythonIndentUnit": 4
   },
   "notebookName": "spark_assignment",
   "widgets": {}
  },
  "language_info": {
   "name": "python"
  }
 },
 "nbformat": 4,
 "nbformat_minor": 0
}