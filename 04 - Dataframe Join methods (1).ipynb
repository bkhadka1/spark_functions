{
 "cells": [
  {
   "cell_type": "code",
   "execution_count": 0,
   "metadata": {
    "application/vnd.databricks.v1+cell": {
     "cellMetadata": {
      "byteLimit": 2048000,
      "rowLimit": 10000
     },
     "inputWidgets": {},
     "nuid": "f1bf41a1-aa9b-4cb5-936b-0f7e8e1d50a9",
     "showTitle": true,
     "tableResultSettingsMap": {},
     "title": "different joining methods"
    }
   },
   "outputs": [],
   "source": [
    "#inner \n",
    "# syntax\n",
    "# DF1.join(DF2,DF1.key=DF2.key,join_type) \n",
    "# Full Outer Join --> Outer,Full,fullouter,full_outer\n",
    "# left Outer Join --> Left,fullouter,left_outer\n",
    "# Right Outer Join --> right,rightouter,right_outer\n",
    "# Left Semi--> semi,leftsemi,left_semi\n",
    "# Left Anti --> anti,leftanti,left_anti\n"
   ]
  },
  {
   "cell_type": "code",
   "execution_count": 0,
   "metadata": {
    "application/vnd.databricks.v1+cell": {
     "cellMetadata": {
      "byteLimit": 2048000,
      "rowLimit": 10000
     },
     "inputWidgets": {},
     "nuid": "71449d38-a5cc-408e-8925-0a946ef1322e",
     "showTitle": true,
     "tableResultSettingsMap": {},
     "title": "Create Employee Dataframe"
    }
   },
   "outputs": [
    {
     "output_type": "display_data",
     "data": {
      "text/html": [
       "<style scoped>\n",
       "  .table-result-container {\n",
       "    max-height: 300px;\n",
       "    overflow: auto;\n",
       "  }\n",
       "  table, th, td {\n",
       "    border: 1px solid black;\n",
       "    border-collapse: collapse;\n",
       "  }\n",
       "  th, td {\n",
       "    padding: 5px;\n",
       "  }\n",
       "  th {\n",
       "    text-align: left;\n",
       "  }\n",
       "</style><div class='table-result-container'><table class='table-result'><thead style='background-color: white'><tr><th>employee_id</th><th>name</th><th>doj</th><th>employee_dep_id</th><th>gender</th><th>salary</th></tr></thead><tbody><tr><td>10</td><td>raju</td><td>1999</td><td>100</td><td>M</td><td>2000</td></tr><tr><td>20</td><td>ravi</td><td>1999</td><td>100</td><td>M</td><td>1000</td></tr><tr><td>30</td><td>avishu</td><td>2005</td><td>100</td><td>F</td><td>2500</td></tr><tr><td>40</td><td>rakesh kumar</td><td>1999</td><td>101</td><td>M</td><td>4000</td></tr><tr><td>50</td><td>ravi</td><td>2000</td><td>104</td><td>M</td><td>5000</td></tr><tr><td>80</td><td>sunny</td><td>2008</td><td>104</td><td>M</td><td>null</td></tr></tbody></table></div>"
      ]
     },
     "metadata": {
      "application/vnd.databricks.v1+output": {
       "addedWidgets": {},
       "aggData": [],
       "aggError": "",
       "aggOverflow": false,
       "aggSchema": [],
       "aggSeriesLimitReached": false,
       "aggType": "",
       "arguments": {},
       "columnCustomDisplayInfos": {},
       "data": [
        [
         10,
         "raju",
         "1999",
         "100",
         "M",
         2000
        ],
        [
         20,
         "ravi",
         "1999",
         "100",
         "M",
         1000
        ],
        [
         30,
         "avishu",
         "2005",
         "100",
         "F",
         2500
        ],
        [
         40,
         "rakesh kumar",
         "1999",
         "101",
         "M",
         4000
        ],
        [
         50,
         "ravi",
         "2000",
         "104",
         "M",
         5000
        ],
        [
         80,
         "sunny",
         "2008",
         "104",
         "M",
         null
        ]
       ],
       "datasetInfos": [],
       "dbfsResultPath": null,
       "isJsonSchema": true,
       "metadata": {},
       "overflow": false,
       "plotOptions": {
        "customPlotOptions": {},
        "displayType": "table",
        "pivotAggregation": null,
        "pivotColumns": null,
        "xColumns": null,
        "yColumns": null
       },
       "removedWidgets": [],
       "schema": [
        {
         "metadata": "{}",
         "name": "employee_id",
         "type": "\"long\""
        },
        {
         "metadata": "{}",
         "name": "name",
         "type": "\"string\""
        },
        {
         "metadata": "{}",
         "name": "doj",
         "type": "\"string\""
        },
        {
         "metadata": "{}",
         "name": "employee_dep_id",
         "type": "\"string\""
        },
        {
         "metadata": "{}",
         "name": "gender",
         "type": "\"string\""
        },
        {
         "metadata": "{}",
         "name": "salary",
         "type": "\"long\""
        }
       ],
       "type": "table"
      }
     },
     "output_type": "display_data"
    }
   ],
   "source": [
    "employee_data=[(10,\"raju\",\"1999\",\"100\",\"M\",2000),(20,\"ravi\",\"1999\",\"100\",\"M\",1000),(30,\"avishu\",\"2005\",\"100\",\"F\",2500),(40,\"rakesh kumar\",\"1999\",\"101\",\"M\",4000),(50,\"ravi\",\"2000\",\"104\",\"M\",5000),(80,\"sunny\",\"2008\",\"104\",\"M\",None)] # Create sample employee data as a list of tuples, where each tuple represents an employee record:\n",
    "# (employee_id, name, doj (date of joining), employee_dep_id, gender, salary)\n",
    "\n",
    "employee_schema=[\"employee_id\",\"name\",\"doj\",\"employee_dep_id\",\"gender\",\"salary\"] # Define the schema/column names for the employee DataFrame.\n",
    "\n",
    "\n",
    "employee_df =spark.createDataFrame(data=employee_data,schema=employee_schema) # Create a Spark DataFrame using the sample data and schema.\n",
    "display(employee_df) # Display the employee DataFrame in an interactive tabular view in Databricks."
   ]
  },
  {
   "cell_type": "code",
   "execution_count": 0,
   "metadata": {
    "application/vnd.databricks.v1+cell": {
     "cellMetadata": {
      "byteLimit": 2048000,
      "rowLimit": 10000
     },
     "inputWidgets": {},
     "nuid": "fa27c67f-784f-4c7d-b69b-c665f0527ab5",
     "showTitle": false,
     "tableResultSettingsMap": {},
     "title": ""
    }
   },
   "outputs": [
    {
     "output_type": "display_data",
     "data": {
      "text/html": [
       "<style scoped>\n",
       "  .table-result-container {\n",
       "    max-height: 300px;\n",
       "    overflow: auto;\n",
       "  }\n",
       "  table, th, td {\n",
       "    border: 1px solid black;\n",
       "    border-collapse: collapse;\n",
       "  }\n",
       "  th, td {\n",
       "    padding: 5px;\n",
       "  }\n",
       "  th {\n",
       "    text-align: left;\n",
       "  }\n",
       "</style><div class='table-result-container'><table class='table-result'><thead style='background-color: white'><tr><th>dept_name</th><th>dept_id</th></tr></thead><tbody><tr><td>hr</td><td>100</td></tr><tr><td>supply</td><td>200</td></tr><tr><td>sales</td><td>104</td></tr><tr><td>stock</td><td>400</td></tr></tbody></table></div>"
      ]
     },
     "metadata": {
      "application/vnd.databricks.v1+output": {
       "addedWidgets": {},
       "aggData": [],
       "aggError": "",
       "aggOverflow": false,
       "aggSchema": [],
       "aggSeriesLimitReached": false,
       "aggType": "",
       "arguments": {},
       "columnCustomDisplayInfos": {},
       "data": [
        [
         "hr",
         "100"
        ],
        [
         "supply",
         "200"
        ],
        [
         "sales",
         "104"
        ],
        [
         "stock",
         "400"
        ]
       ],
       "datasetInfos": [],
       "dbfsResultPath": null,
       "isJsonSchema": true,
       "metadata": {},
       "overflow": false,
       "plotOptions": {
        "customPlotOptions": {},
        "displayType": "table",
        "pivotAggregation": null,
        "pivotColumns": null,
        "xColumns": null,
        "yColumns": null
       },
       "removedWidgets": [],
       "schema": [
        {
         "metadata": "{}",
         "name": "dept_name",
         "type": "\"string\""
        },
        {
         "metadata": "{}",
         "name": "dept_id",
         "type": "\"string\""
        }
       ],
       "type": "table"
      }
     },
     "output_type": "display_data"
    }
   ],
   "source": [
    "department_data = [(\"hr\",\"100\"),(\"supply\",\"200\"),(\"sales\",\"104\"),(\"stock\",\"400\")] # Create sample department data as a list of tuples, where each tuple represents a department record:\n",
    "# (dept_name, dept_id)\n",
    "department_data_schema = [\"dept_name\",\"dept_id\"] # Define the schema/column names for the department DataFrame.\n",
    "\n",
    "\n",
    "departmentDf = spark.createDataFrame(data=department_data,schema = department_data_schema) # Create a Spark DataFrame using the sample department data and schema.\n",
    "display(departmentDf) # Display the department DataFrame in an interactive tabular view in Databricks."
   ]
  },
  {
   "cell_type": "code",
   "execution_count": 0,
   "metadata": {
    "application/vnd.databricks.v1+cell": {
     "cellMetadata": {
      "byteLimit": 2048000,
      "rowLimit": 10000
     },
     "inputWidgets": {},
     "nuid": "9d61d910-8777-4717-bd0e-f85bb1c42a17",
     "showTitle": true,
     "tableResultSettingsMap": {},
     "title": "Inner join"
    }
   },
   "outputs": [
    {
     "output_type": "display_data",
     "data": {
      "text/html": [
       "<style scoped>\n",
       "  .table-result-container {\n",
       "    max-height: 300px;\n",
       "    overflow: auto;\n",
       "  }\n",
       "  table, th, td {\n",
       "    border: 1px solid black;\n",
       "    border-collapse: collapse;\n",
       "  }\n",
       "  th, td {\n",
       "    padding: 5px;\n",
       "  }\n",
       "  th {\n",
       "    text-align: left;\n",
       "  }\n",
       "</style><div class='table-result-container'><table class='table-result'><thead style='background-color: white'><tr><th>employee_id</th><th>name</th><th>doj</th><th>employee_dep_id</th><th>gender</th><th>salary</th><th>dept_name</th><th>dept_id</th></tr></thead><tbody><tr><td>10</td><td>raju</td><td>1999</td><td>100</td><td>M</td><td>2000</td><td>hr</td><td>100</td></tr><tr><td>20</td><td>ravi</td><td>1999</td><td>100</td><td>M</td><td>1000</td><td>hr</td><td>100</td></tr><tr><td>30</td><td>avishu</td><td>2005</td><td>100</td><td>F</td><td>2500</td><td>hr</td><td>100</td></tr><tr><td>50</td><td>ravi</td><td>2000</td><td>104</td><td>M</td><td>5000</td><td>sales</td><td>104</td></tr><tr><td>80</td><td>sunny</td><td>2008</td><td>104</td><td>M</td><td>null</td><td>sales</td><td>104</td></tr></tbody></table></div>"
      ]
     },
     "metadata": {
      "application/vnd.databricks.v1+output": {
       "addedWidgets": {},
       "aggData": [],
       "aggError": "",
       "aggOverflow": false,
       "aggSchema": [],
       "aggSeriesLimitReached": false,
       "aggType": "",
       "arguments": {},
       "columnCustomDisplayInfos": {},
       "data": [
        [
         10,
         "raju",
         "1999",
         "100",
         "M",
         2000,
         "hr",
         "100"
        ],
        [
         20,
         "ravi",
         "1999",
         "100",
         "M",
         1000,
         "hr",
         "100"
        ],
        [
         30,
         "avishu",
         "2005",
         "100",
         "F",
         2500,
         "hr",
         "100"
        ],
        [
         50,
         "ravi",
         "2000",
         "104",
         "M",
         5000,
         "sales",
         "104"
        ],
        [
         80,
         "sunny",
         "2008",
         "104",
         "M",
         null,
         "sales",
         "104"
        ]
       ],
       "datasetInfos": [],
       "dbfsResultPath": null,
       "isJsonSchema": true,
       "metadata": {},
       "overflow": false,
       "plotOptions": {
        "customPlotOptions": {},
        "displayType": "table",
        "pivotAggregation": null,
        "pivotColumns": null,
        "xColumns": null,
        "yColumns": null
       },
       "removedWidgets": [],
       "schema": [
        {
         "metadata": "{}",
         "name": "employee_id",
         "type": "\"long\""
        },
        {
         "metadata": "{}",
         "name": "name",
         "type": "\"string\""
        },
        {
         "metadata": "{}",
         "name": "doj",
         "type": "\"string\""
        },
        {
         "metadata": "{}",
         "name": "employee_dep_id",
         "type": "\"string\""
        },
        {
         "metadata": "{}",
         "name": "gender",
         "type": "\"string\""
        },
        {
         "metadata": "{}",
         "name": "salary",
         "type": "\"long\""
        },
        {
         "metadata": "{}",
         "name": "dept_name",
         "type": "\"string\""
        },
        {
         "metadata": "{}",
         "name": "dept_id",
         "type": "\"string\""
        }
       ],
       "type": "table"
      }
     },
     "output_type": "display_data"
    }
   ],
   "source": [
    "df_join = employee_df.join(departmentDf,employee_df.employee_dep_id == departmentDf.dept_id , \"inner\" ) # Perform an inner join between employee_df and departmentDf DataFrames.\n",
    "# - Join condition: employee_df.employee_dep_id matches departmentDf.dept_id\n",
    "# - Inner join: only rows with matching department IDs in both DataFrames are included\n",
    "# Store the result in df_join and display it in an interactive tabular view in Databricks.\n",
    "display(df_join)"
   ]
  },
  {
   "cell_type": "code",
   "execution_count": 0,
   "metadata": {
    "application/vnd.databricks.v1+cell": {
     "cellMetadata": {
      "byteLimit": 2048000,
      "rowLimit": 10000
     },
     "inputWidgets": {},
     "nuid": "689775cf-b210-4c75-96a1-f80a2c25e338",
     "showTitle": true,
     "tableResultSettingsMap": {},
     "title": "Full outer join"
    }
   },
   "outputs": [
    {
     "output_type": "display_data",
     "data": {
      "text/html": [
       "<style scoped>\n",
       "  .table-result-container {\n",
       "    max-height: 300px;\n",
       "    overflow: auto;\n",
       "  }\n",
       "  table, th, td {\n",
       "    border: 1px solid black;\n",
       "    border-collapse: collapse;\n",
       "  }\n",
       "  th, td {\n",
       "    padding: 5px;\n",
       "  }\n",
       "  th {\n",
       "    text-align: left;\n",
       "  }\n",
       "</style><div class='table-result-container'><table class='table-result'><thead style='background-color: white'><tr><th>employee_id</th><th>name</th><th>doj</th><th>employee_dep_id</th><th>gender</th><th>salary</th><th>dept_name</th><th>dept_id</th></tr></thead><tbody><tr><td>10</td><td>raju</td><td>1999</td><td>100</td><td>M</td><td>2000</td><td>hr</td><td>100</td></tr><tr><td>20</td><td>ravi</td><td>1999</td><td>100</td><td>M</td><td>1000</td><td>hr</td><td>100</td></tr><tr><td>30</td><td>avishu</td><td>2005</td><td>100</td><td>F</td><td>2500</td><td>hr</td><td>100</td></tr><tr><td>40</td><td>rakesh kumar</td><td>1999</td><td>101</td><td>M</td><td>4000</td><td>null</td><td>null</td></tr><tr><td>50</td><td>ravi</td><td>2000</td><td>104</td><td>M</td><td>5000</td><td>sales</td><td>104</td></tr><tr><td>80</td><td>sunny</td><td>2008</td><td>104</td><td>M</td><td>null</td><td>sales</td><td>104</td></tr><tr><td>null</td><td>null</td><td>null</td><td>null</td><td>null</td><td>null</td><td>supply</td><td>200</td></tr><tr><td>null</td><td>null</td><td>null</td><td>null</td><td>null</td><td>null</td><td>stock</td><td>400</td></tr></tbody></table></div>"
      ]
     },
     "metadata": {
      "application/vnd.databricks.v1+output": {
       "addedWidgets": {},
       "aggData": [],
       "aggError": "",
       "aggOverflow": false,
       "aggSchema": [],
       "aggSeriesLimitReached": false,
       "aggType": "",
       "arguments": {},
       "columnCustomDisplayInfos": {},
       "data": [
        [
         10,
         "raju",
         "1999",
         "100",
         "M",
         2000,
         "hr",
         "100"
        ],
        [
         20,
         "ravi",
         "1999",
         "100",
         "M",
         1000,
         "hr",
         "100"
        ],
        [
         30,
         "avishu",
         "2005",
         "100",
         "F",
         2500,
         "hr",
         "100"
        ],
        [
         40,
         "rakesh kumar",
         "1999",
         "101",
         "M",
         4000,
         null,
         null
        ],
        [
         50,
         "ravi",
         "2000",
         "104",
         "M",
         5000,
         "sales",
         "104"
        ],
        [
         80,
         "sunny",
         "2008",
         "104",
         "M",
         null,
         "sales",
         "104"
        ],
        [
         null,
         null,
         null,
         null,
         null,
         null,
         "supply",
         "200"
        ],
        [
         null,
         null,
         null,
         null,
         null,
         null,
         "stock",
         "400"
        ]
       ],
       "datasetInfos": [],
       "dbfsResultPath": null,
       "isJsonSchema": true,
       "metadata": {},
       "overflow": false,
       "plotOptions": {
        "customPlotOptions": {},
        "displayType": "table",
        "pivotAggregation": null,
        "pivotColumns": null,
        "xColumns": null,
        "yColumns": null
       },
       "removedWidgets": [],
       "schema": [
        {
         "metadata": "{}",
         "name": "employee_id",
         "type": "\"long\""
        },
        {
         "metadata": "{}",
         "name": "name",
         "type": "\"string\""
        },
        {
         "metadata": "{}",
         "name": "doj",
         "type": "\"string\""
        },
        {
         "metadata": "{}",
         "name": "employee_dep_id",
         "type": "\"string\""
        },
        {
         "metadata": "{}",
         "name": "gender",
         "type": "\"string\""
        },
        {
         "metadata": "{}",
         "name": "salary",
         "type": "\"long\""
        },
        {
         "metadata": "{}",
         "name": "dept_name",
         "type": "\"string\""
        },
        {
         "metadata": "{}",
         "name": "dept_id",
         "type": "\"string\""
        }
       ],
       "type": "table"
      }
     },
     "output_type": "display_data"
    }
   ],
   "source": [
    "df_join = employee_df.join(departmentDf,employee_df.employee_dep_id == departmentDf.dept_id , \"full\" )\n",
    "display(df_join) # Perform a full outer join between employee_df and departmentDf DataFrames.\n",
    "# - Join condition: employee_df.employee_dep_id matches departmentDf.dept_id\n",
    "# - Full outer join: includes all rows from both DataFrames, with nulls where there is no match\n",
    "# Store the result in df_join and display it in an interactive tabular view in Databricks."
   ]
  },
  {
   "cell_type": "code",
   "execution_count": 0,
   "metadata": {
    "application/vnd.databricks.v1+cell": {
     "cellMetadata": {
      "byteLimit": 2048000,
      "rowLimit": 10000
     },
     "inputWidgets": {},
     "nuid": "cab292b9-0157-4657-88e3-63d65d5638f3",
     "showTitle": true,
     "tableResultSettingsMap": {},
     "title": "left outer join"
    }
   },
   "outputs": [
    {
     "output_type": "display_data",
     "data": {
      "text/html": [
       "<style scoped>\n",
       "  .table-result-container {\n",
       "    max-height: 300px;\n",
       "    overflow: auto;\n",
       "  }\n",
       "  table, th, td {\n",
       "    border: 1px solid black;\n",
       "    border-collapse: collapse;\n",
       "  }\n",
       "  th, td {\n",
       "    padding: 5px;\n",
       "  }\n",
       "  th {\n",
       "    text-align: left;\n",
       "  }\n",
       "</style><div class='table-result-container'><table class='table-result'><thead style='background-color: white'><tr><th>employee_id</th><th>name</th><th>doj</th><th>employee_dep_id</th><th>gender</th><th>salary</th><th>dept_name</th><th>dept_id</th></tr></thead><tbody><tr><td>10</td><td>raju</td><td>1999</td><td>100</td><td>M</td><td>2000</td><td>hr</td><td>100</td></tr><tr><td>20</td><td>ravi</td><td>1999</td><td>100</td><td>M</td><td>1000</td><td>hr</td><td>100</td></tr><tr><td>30</td><td>avishu</td><td>2005</td><td>100</td><td>F</td><td>2500</td><td>hr</td><td>100</td></tr><tr><td>40</td><td>rakesh kumar</td><td>1999</td><td>101</td><td>M</td><td>4000</td><td>null</td><td>null</td></tr><tr><td>50</td><td>ravi</td><td>2000</td><td>104</td><td>M</td><td>5000</td><td>sales</td><td>104</td></tr><tr><td>80</td><td>sunny</td><td>2008</td><td>104</td><td>M</td><td>null</td><td>sales</td><td>104</td></tr></tbody></table></div>"
      ]
     },
     "metadata": {
      "application/vnd.databricks.v1+output": {
       "addedWidgets": {},
       "aggData": [],
       "aggError": "",
       "aggOverflow": false,
       "aggSchema": [],
       "aggSeriesLimitReached": false,
       "aggType": "",
       "arguments": {},
       "columnCustomDisplayInfos": {},
       "data": [
        [
         10,
         "raju",
         "1999",
         "100",
         "M",
         2000,
         "hr",
         "100"
        ],
        [
         20,
         "ravi",
         "1999",
         "100",
         "M",
         1000,
         "hr",
         "100"
        ],
        [
         30,
         "avishu",
         "2005",
         "100",
         "F",
         2500,
         "hr",
         "100"
        ],
        [
         40,
         "rakesh kumar",
         "1999",
         "101",
         "M",
         4000,
         null,
         null
        ],
        [
         50,
         "ravi",
         "2000",
         "104",
         "M",
         5000,
         "sales",
         "104"
        ],
        [
         80,
         "sunny",
         "2008",
         "104",
         "M",
         null,
         "sales",
         "104"
        ]
       ],
       "datasetInfos": [],
       "dbfsResultPath": null,
       "isJsonSchema": true,
       "metadata": {},
       "overflow": false,
       "plotOptions": {
        "customPlotOptions": {},
        "displayType": "table",
        "pivotAggregation": null,
        "pivotColumns": null,
        "xColumns": null,
        "yColumns": null
       },
       "removedWidgets": [],
       "schema": [
        {
         "metadata": "{}",
         "name": "employee_id",
         "type": "\"long\""
        },
        {
         "metadata": "{}",
         "name": "name",
         "type": "\"string\""
        },
        {
         "metadata": "{}",
         "name": "doj",
         "type": "\"string\""
        },
        {
         "metadata": "{}",
         "name": "employee_dep_id",
         "type": "\"string\""
        },
        {
         "metadata": "{}",
         "name": "gender",
         "type": "\"string\""
        },
        {
         "metadata": "{}",
         "name": "salary",
         "type": "\"long\""
        },
        {
         "metadata": "{}",
         "name": "dept_name",
         "type": "\"string\""
        },
        {
         "metadata": "{}",
         "name": "dept_id",
         "type": "\"string\""
        }
       ],
       "type": "table"
      }
     },
     "output_type": "display_data"
    }
   ],
   "source": [
    "df_join = employee_df.join(departmentDf,employee_df.employee_dep_id == departmentDf.dept_id , \"left\" )\n",
    "display(df_join) # Perform a left outer join between employee_df and departmentDf DataFrames.\n",
    "# - Join condition: employee_df.employee_dep_id matches departmentDf.dept_id\n",
    "# - Left join: includes all rows from employee_df and matching rows from departmentDf; \n",
    "#   if there is no match, departmentDf columns will contain null\n",
    "# Store the result in df_join and display it in an interactive tabular view in Databricks."
   ]
  },
  {
   "cell_type": "code",
   "execution_count": 0,
   "metadata": {
    "application/vnd.databricks.v1+cell": {
     "cellMetadata": {
      "byteLimit": 2048000,
      "rowLimit": 10000
     },
     "inputWidgets": {},
     "nuid": "9793f754-dbf9-4db5-b7a0-8b3e663f576a",
     "showTitle": true,
     "tableResultSettingsMap": {},
     "title": "Right outer join"
    }
   },
   "outputs": [
    {
     "output_type": "display_data",
     "data": {
      "text/html": [
       "<style scoped>\n",
       "  .table-result-container {\n",
       "    max-height: 300px;\n",
       "    overflow: auto;\n",
       "  }\n",
       "  table, th, td {\n",
       "    border: 1px solid black;\n",
       "    border-collapse: collapse;\n",
       "  }\n",
       "  th, td {\n",
       "    padding: 5px;\n",
       "  }\n",
       "  th {\n",
       "    text-align: left;\n",
       "  }\n",
       "</style><div class='table-result-container'><table class='table-result'><thead style='background-color: white'><tr><th>employee_id</th><th>name</th><th>doj</th><th>employee_dep_id</th><th>gender</th><th>salary</th><th>dept_name</th><th>dept_id</th></tr></thead><tbody><tr><td>30</td><td>avishu</td><td>2005</td><td>100</td><td>F</td><td>2500</td><td>hr</td><td>100</td></tr><tr><td>20</td><td>ravi</td><td>1999</td><td>100</td><td>M</td><td>1000</td><td>hr</td><td>100</td></tr><tr><td>10</td><td>raju</td><td>1999</td><td>100</td><td>M</td><td>2000</td><td>hr</td><td>100</td></tr><tr><td>null</td><td>null</td><td>null</td><td>null</td><td>null</td><td>null</td><td>supply</td><td>200</td></tr><tr><td>80</td><td>sunny</td><td>2008</td><td>104</td><td>M</td><td>null</td><td>sales</td><td>104</td></tr><tr><td>50</td><td>ravi</td><td>2000</td><td>104</td><td>M</td><td>5000</td><td>sales</td><td>104</td></tr><tr><td>null</td><td>null</td><td>null</td><td>null</td><td>null</td><td>null</td><td>stock</td><td>400</td></tr></tbody></table></div>"
      ]
     },
     "metadata": {
      "application/vnd.databricks.v1+output": {
       "addedWidgets": {},
       "aggData": [],
       "aggError": "",
       "aggOverflow": false,
       "aggSchema": [],
       "aggSeriesLimitReached": false,
       "aggType": "",
       "arguments": {},
       "columnCustomDisplayInfos": {},
       "data": [
        [
         30,
         "avishu",
         "2005",
         "100",
         "F",
         2500,
         "hr",
         "100"
        ],
        [
         20,
         "ravi",
         "1999",
         "100",
         "M",
         1000,
         "hr",
         "100"
        ],
        [
         10,
         "raju",
         "1999",
         "100",
         "M",
         2000,
         "hr",
         "100"
        ],
        [
         null,
         null,
         null,
         null,
         null,
         null,
         "supply",
         "200"
        ],
        [
         80,
         "sunny",
         "2008",
         "104",
         "M",
         null,
         "sales",
         "104"
        ],
        [
         50,
         "ravi",
         "2000",
         "104",
         "M",
         5000,
         "sales",
         "104"
        ],
        [
         null,
         null,
         null,
         null,
         null,
         null,
         "stock",
         "400"
        ]
       ],
       "datasetInfos": [],
       "dbfsResultPath": null,
       "isJsonSchema": true,
       "metadata": {},
       "overflow": false,
       "plotOptions": {
        "customPlotOptions": {},
        "displayType": "table",
        "pivotAggregation": null,
        "pivotColumns": null,
        "xColumns": null,
        "yColumns": null
       },
       "removedWidgets": [],
       "schema": [
        {
         "metadata": "{}",
         "name": "employee_id",
         "type": "\"long\""
        },
        {
         "metadata": "{}",
         "name": "name",
         "type": "\"string\""
        },
        {
         "metadata": "{}",
         "name": "doj",
         "type": "\"string\""
        },
        {
         "metadata": "{}",
         "name": "employee_dep_id",
         "type": "\"string\""
        },
        {
         "metadata": "{}",
         "name": "gender",
         "type": "\"string\""
        },
        {
         "metadata": "{}",
         "name": "salary",
         "type": "\"long\""
        },
        {
         "metadata": "{}",
         "name": "dept_name",
         "type": "\"string\""
        },
        {
         "metadata": "{}",
         "name": "dept_id",
         "type": "\"string\""
        }
       ],
       "type": "table"
      }
     },
     "output_type": "display_data"
    }
   ],
   "source": [
    "df_join = employee_df.join(departmentDf,employee_df.employee_dep_id == departmentDf.dept_id , \"right\" )\n",
    "display(df_join) # Perform a right outer join between employee_df and departmentDf DataFrames.\n",
    "# - Join condition: employee_df.employee_dep_id matches departmentDf.dept_id\n",
    "# - Right join: includes all rows from departmentDf and matching rows from employee_df;\n",
    "#   if there is no match, employee_df columns will contain null\n",
    "# Store the result in df_join and display it in an interactive tabular view in Databricks."
   ]
  },
  {
   "cell_type": "code",
   "execution_count": 0,
   "metadata": {
    "application/vnd.databricks.v1+cell": {
     "cellMetadata": {
      "byteLimit": 2048000,
      "rowLimit": 10000
     },
     "inputWidgets": {},
     "nuid": "c7733d45-8738-4967-85e1-39ffcaf5c1d8",
     "showTitle": false,
     "tableResultSettingsMap": {},
     "title": ""
    }
   },
   "outputs": [
    {
     "output_type": "display_data",
     "data": {
      "text/html": [
       "<style scoped>\n",
       "  .table-result-container {\n",
       "    max-height: 300px;\n",
       "    overflow: auto;\n",
       "  }\n",
       "  table, th, td {\n",
       "    border: 1px solid black;\n",
       "    border-collapse: collapse;\n",
       "  }\n",
       "  th, td {\n",
       "    padding: 5px;\n",
       "  }\n",
       "  th {\n",
       "    text-align: left;\n",
       "  }\n",
       "</style><div class='table-result-container'><table class='table-result'><thead style='background-color: white'><tr><th>employee_id</th><th>name</th><th>doj</th><th>employee_dep_id</th><th>gender</th><th>salary</th></tr></thead><tbody><tr><td>10</td><td>raju</td><td>1999</td><td>100</td><td>M</td><td>2000</td></tr><tr><td>20</td><td>ravi</td><td>1999</td><td>100</td><td>M</td><td>1000</td></tr><tr><td>30</td><td>avishu</td><td>2005</td><td>100</td><td>F</td><td>2500</td></tr><tr><td>40</td><td>rakesh kumar</td><td>1999</td><td>101</td><td>M</td><td>4000</td></tr><tr><td>50</td><td>ravi</td><td>2000</td><td>104</td><td>M</td><td>5000</td></tr><tr><td>80</td><td>sunny</td><td>2008</td><td>104</td><td>M</td><td>null</td></tr></tbody></table></div>"
      ]
     },
     "metadata": {
      "application/vnd.databricks.v1+output": {
       "addedWidgets": {},
       "aggData": [],
       "aggError": "",
       "aggOverflow": false,
       "aggSchema": [],
       "aggSeriesLimitReached": false,
       "aggType": "",
       "arguments": {},
       "columnCustomDisplayInfos": {},
       "data": [
        [
         10,
         "raju",
         "1999",
         "100",
         "M",
         2000
        ],
        [
         20,
         "ravi",
         "1999",
         "100",
         "M",
         1000
        ],
        [
         30,
         "avishu",
         "2005",
         "100",
         "F",
         2500
        ],
        [
         40,
         "rakesh kumar",
         "1999",
         "101",
         "M",
         4000
        ],
        [
         50,
         "ravi",
         "2000",
         "104",
         "M",
         5000
        ],
        [
         80,
         "sunny",
         "2008",
         "104",
         "M",
         null
        ]
       ],
       "datasetInfos": [],
       "dbfsResultPath": null,
       "isJsonSchema": true,
       "metadata": {},
       "overflow": false,
       "plotOptions": {
        "customPlotOptions": {},
        "displayType": "table",
        "pivotAggregation": null,
        "pivotColumns": null,
        "xColumns": null,
        "yColumns": null
       },
       "removedWidgets": [],
       "schema": [
        {
         "metadata": "{}",
         "name": "employee_id",
         "type": "\"long\""
        },
        {
         "metadata": "{}",
         "name": "name",
         "type": "\"string\""
        },
        {
         "metadata": "{}",
         "name": "doj",
         "type": "\"string\""
        },
        {
         "metadata": "{}",
         "name": "employee_dep_id",
         "type": "\"string\""
        },
        {
         "metadata": "{}",
         "name": "gender",
         "type": "\"string\""
        },
        {
         "metadata": "{}",
         "name": "salary",
         "type": "\"long\""
        }
       ],
       "type": "table"
      }
     },
     "output_type": "display_data"
    },
    {
     "output_type": "display_data",
     "data": {
      "text/html": [
       "<style scoped>\n",
       "  .table-result-container {\n",
       "    max-height: 300px;\n",
       "    overflow: auto;\n",
       "  }\n",
       "  table, th, td {\n",
       "    border: 1px solid black;\n",
       "    border-collapse: collapse;\n",
       "  }\n",
       "  th, td {\n",
       "    padding: 5px;\n",
       "  }\n",
       "  th {\n",
       "    text-align: left;\n",
       "  }\n",
       "</style><div class='table-result-container'><table class='table-result'><thead style='background-color: white'><tr><th>dept_name</th><th>dept_id</th></tr></thead><tbody><tr><td>hr</td><td>100</td></tr><tr><td>supply</td><td>200</td></tr><tr><td>sales</td><td>104</td></tr><tr><td>stock</td><td>400</td></tr></tbody></table></div>"
      ]
     },
     "metadata": {
      "application/vnd.databricks.v1+output": {
       "addedWidgets": {},
       "aggData": [],
       "aggError": "",
       "aggOverflow": false,
       "aggSchema": [],
       "aggSeriesLimitReached": false,
       "aggType": "",
       "arguments": {},
       "columnCustomDisplayInfos": {},
       "data": [
        [
         "hr",
         "100"
        ],
        [
         "supply",
         "200"
        ],
        [
         "sales",
         "104"
        ],
        [
         "stock",
         "400"
        ]
       ],
       "datasetInfos": [],
       "dbfsResultPath": null,
       "isJsonSchema": true,
       "metadata": {},
       "overflow": false,
       "plotOptions": {
        "customPlotOptions": {},
        "displayType": "table",
        "pivotAggregation": null,
        "pivotColumns": null,
        "xColumns": null,
        "yColumns": null
       },
       "removedWidgets": [],
       "schema": [
        {
         "metadata": "{}",
         "name": "dept_name",
         "type": "\"string\""
        },
        {
         "metadata": "{}",
         "name": "dept_id",
         "type": "\"string\""
        }
       ],
       "type": "table"
      }
     },
     "output_type": "display_data"
    }
   ],
   "source": [
    "display(employee_df) # Display the employee_df DataFrame in an interactive, tabular view in Databricks\n",
    "display(departmentDf) # Display the departmentDf DataFrame in an interactive, tabular view in Databricks."
   ]
  },
  {
   "cell_type": "code",
   "execution_count": 0,
   "metadata": {
    "application/vnd.databricks.v1+cell": {
     "cellMetadata": {
      "byteLimit": 2048000,
      "rowLimit": 10000
     },
     "inputWidgets": {},
     "nuid": "41afdc2a-862e-4829-98a2-62eab92993c8",
     "showTitle": true,
     "tableResultSettingsMap": {},
     "title": "left semi join"
    }
   },
   "outputs": [
    {
     "output_type": "display_data",
     "data": {
      "text/html": [
       "<style scoped>\n",
       "  .table-result-container {\n",
       "    max-height: 300px;\n",
       "    overflow: auto;\n",
       "  }\n",
       "  table, th, td {\n",
       "    border: 1px solid black;\n",
       "    border-collapse: collapse;\n",
       "  }\n",
       "  th, td {\n",
       "    padding: 5px;\n",
       "  }\n",
       "  th {\n",
       "    text-align: left;\n",
       "  }\n",
       "</style><div class='table-result-container'><table class='table-result'><thead style='background-color: white'><tr><th>employee_id</th><th>name</th><th>doj</th><th>employee_dep_id</th><th>gender</th><th>salary</th></tr></thead><tbody><tr><td>10</td><td>raju</td><td>1999</td><td>100</td><td>M</td><td>2000</td></tr><tr><td>20</td><td>ravi</td><td>1999</td><td>100</td><td>M</td><td>1000</td></tr><tr><td>30</td><td>avishu</td><td>2005</td><td>100</td><td>F</td><td>2500</td></tr><tr><td>50</td><td>ravi</td><td>2000</td><td>104</td><td>M</td><td>5000</td></tr><tr><td>80</td><td>sunny</td><td>2008</td><td>104</td><td>M</td><td>null</td></tr></tbody></table></div>"
      ]
     },
     "metadata": {
      "application/vnd.databricks.v1+output": {
       "addedWidgets": {},
       "aggData": [],
       "aggError": "",
       "aggOverflow": false,
       "aggSchema": [],
       "aggSeriesLimitReached": false,
       "aggType": "",
       "arguments": {},
       "columnCustomDisplayInfos": {},
       "data": [
        [
         10,
         "raju",
         "1999",
         "100",
         "M",
         2000
        ],
        [
         20,
         "ravi",
         "1999",
         "100",
         "M",
         1000
        ],
        [
         30,
         "avishu",
         "2005",
         "100",
         "F",
         2500
        ],
        [
         50,
         "ravi",
         "2000",
         "104",
         "M",
         5000
        ],
        [
         80,
         "sunny",
         "2008",
         "104",
         "M",
         null
        ]
       ],
       "datasetInfos": [],
       "dbfsResultPath": null,
       "isJsonSchema": true,
       "metadata": {},
       "overflow": false,
       "plotOptions": {
        "customPlotOptions": {},
        "displayType": "table",
        "pivotAggregation": null,
        "pivotColumns": null,
        "xColumns": null,
        "yColumns": null
       },
       "removedWidgets": [],
       "schema": [
        {
         "metadata": "{}",
         "name": "employee_id",
         "type": "\"long\""
        },
        {
         "metadata": "{}",
         "name": "name",
         "type": "\"string\""
        },
        {
         "metadata": "{}",
         "name": "doj",
         "type": "\"string\""
        },
        {
         "metadata": "{}",
         "name": "employee_dep_id",
         "type": "\"string\""
        },
        {
         "metadata": "{}",
         "name": "gender",
         "type": "\"string\""
        },
        {
         "metadata": "{}",
         "name": "salary",
         "type": "\"long\""
        }
       ],
       "type": "table"
      }
     },
     "output_type": "display_data"
    }
   ],
   "source": [
    "df_join = employee_df.join(departmentDf,employee_df.employee_dep_id == departmentDf.dept_id , \"semi\" )\n",
    "display(df_join) # Perform a left semi join between employee_df and departmentDf DataFrames.\n",
    "# - Join condition: employee_df.employee_dep_id matches departmentDf.dept_id\n",
    "# - Left semi join: returns only rows from employee_df that have a matching row in departmentDf;\n",
    "#   unlike inner join, columns from departmentDf are not included\n",
    "# Store the result in df_join and display it in an interactive tabular view in Databricks."
   ]
  },
  {
   "cell_type": "code",
   "execution_count": 0,
   "metadata": {
    "application/vnd.databricks.v1+cell": {
     "cellMetadata": {
      "byteLimit": 2048000,
      "rowLimit": 10000
     },
     "inputWidgets": {},
     "nuid": "ff44f054-4157-4c5e-942b-291cc36f5a94",
     "showTitle": false,
     "tableResultSettingsMap": {},
     "title": ""
    }
   },
   "outputs": [
    {
     "output_type": "display_data",
     "data": {
      "text/html": [
       "<style scoped>\n",
       "  .table-result-container {\n",
       "    max-height: 300px;\n",
       "    overflow: auto;\n",
       "  }\n",
       "  table, th, td {\n",
       "    border: 1px solid black;\n",
       "    border-collapse: collapse;\n",
       "  }\n",
       "  th, td {\n",
       "    padding: 5px;\n",
       "  }\n",
       "  th {\n",
       "    text-align: left;\n",
       "  }\n",
       "</style><div class='table-result-container'><table class='table-result'><thead style='background-color: white'><tr><th>dept_name</th><th>dept_id</th></tr></thead><tbody><tr><td>hr</td><td>100</td></tr><tr><td>sales</td><td>104</td></tr></tbody></table></div>"
      ]
     },
     "metadata": {
      "application/vnd.databricks.v1+output": {
       "addedWidgets": {},
       "aggData": [],
       "aggError": "",
       "aggOverflow": false,
       "aggSchema": [],
       "aggSeriesLimitReached": false,
       "aggType": "",
       "arguments": {},
       "columnCustomDisplayInfos": {},
       "data": [
        [
         "hr",
         "100"
        ],
        [
         "sales",
         "104"
        ]
       ],
       "datasetInfos": [],
       "dbfsResultPath": null,
       "isJsonSchema": true,
       "metadata": {},
       "overflow": false,
       "plotOptions": {
        "customPlotOptions": {},
        "displayType": "table",
        "pivotAggregation": null,
        "pivotColumns": null,
        "xColumns": null,
        "yColumns": null
       },
       "removedWidgets": [],
       "schema": [
        {
         "metadata": "{}",
         "name": "dept_name",
         "type": "\"string\""
        },
        {
         "metadata": "{}",
         "name": "dept_id",
         "type": "\"string\""
        }
       ],
       "type": "table"
      }
     },
     "output_type": "display_data"
    }
   ],
   "source": [
    "df_join = departmentDf.join(employee_df,employee_df.employee_dep_id == departmentDf.dept_id , \"semi\" )\n",
    "display(df_join) # Perform a left semi join between departmentDf and employee_df DataFrames.\n",
    "# - Join condition: employee_df.employee_dep_id matches departmentDf.dept_id\n",
    "# - Left semi join: returns only rows from departmentDf that have a matching row in employee_df;\n",
    "#   columns from employee_df are not included\n",
    "# Store the result in df_join and display it in an interactive tabular view in Databricks."
   ]
  },
  {
   "cell_type": "code",
   "execution_count": 0,
   "metadata": {
    "application/vnd.databricks.v1+cell": {
     "cellMetadata": {
      "byteLimit": 2048000,
      "rowLimit": 10000
     },
     "inputWidgets": {},
     "nuid": "e117bb2d-9045-4873-a315-e7496fe35448",
     "showTitle": true,
     "tableResultSettingsMap": {},
     "title": "Left anti join"
    }
   },
   "outputs": [
    {
     "output_type": "display_data",
     "data": {
      "text/html": [
       "<style scoped>\n",
       "  .table-result-container {\n",
       "    max-height: 300px;\n",
       "    overflow: auto;\n",
       "  }\n",
       "  table, th, td {\n",
       "    border: 1px solid black;\n",
       "    border-collapse: collapse;\n",
       "  }\n",
       "  th, td {\n",
       "    padding: 5px;\n",
       "  }\n",
       "  th {\n",
       "    text-align: left;\n",
       "  }\n",
       "</style><div class='table-result-container'><table class='table-result'><thead style='background-color: white'><tr><th>employee_id</th><th>name</th><th>doj</th><th>employee_dep_id</th><th>gender</th><th>salary</th></tr></thead><tbody><tr><td>40</td><td>rakesh kumar</td><td>1999</td><td>101</td><td>M</td><td>4000</td></tr></tbody></table></div>"
      ]
     },
     "metadata": {
      "application/vnd.databricks.v1+output": {
       "addedWidgets": {},
       "aggData": [],
       "aggError": "",
       "aggOverflow": false,
       "aggSchema": [],
       "aggSeriesLimitReached": false,
       "aggType": "",
       "arguments": {},
       "columnCustomDisplayInfos": {},
       "data": [
        [
         40,
         "rakesh kumar",
         "1999",
         "101",
         "M",
         4000
        ]
       ],
       "datasetInfos": [],
       "dbfsResultPath": null,
       "isJsonSchema": true,
       "metadata": {},
       "overflow": false,
       "plotOptions": {
        "customPlotOptions": {},
        "displayType": "table",
        "pivotAggregation": null,
        "pivotColumns": null,
        "xColumns": null,
        "yColumns": null
       },
       "removedWidgets": [],
       "schema": [
        {
         "metadata": "{}",
         "name": "employee_id",
         "type": "\"long\""
        },
        {
         "metadata": "{}",
         "name": "name",
         "type": "\"string\""
        },
        {
         "metadata": "{}",
         "name": "doj",
         "type": "\"string\""
        },
        {
         "metadata": "{}",
         "name": "employee_dep_id",
         "type": "\"string\""
        },
        {
         "metadata": "{}",
         "name": "gender",
         "type": "\"string\""
        },
        {
         "metadata": "{}",
         "name": "salary",
         "type": "\"long\""
        }
       ],
       "type": "table"
      }
     },
     "output_type": "display_data"
    }
   ],
   "source": [
    "df_join = employee_df.join(departmentDf,employee_df.employee_dep_id == departmentDf.dept_id , \"left_anti\" )\n",
    "display(df_join) # Perform a left anti join between employee_df and departmentDf DataFrames.\n",
    "# - Join condition: employee_df.employee_dep_id matches departmentDf.dept_id\n",
    "# - Left anti join: returns only rows from employee_df that **do NOT** have a matching row in departmentDf\n",
    "# Store the result in df_join and display it in an interactive tabular view in Databricks."
   ]
  },
  {
   "cell_type": "code",
   "execution_count": 0,
   "metadata": {
    "application/vnd.databricks.v1+cell": {
     "cellMetadata": {},
     "inputWidgets": {},
     "nuid": "b20a5bb0-23e4-4b27-abe4-919f8997ff67",
     "showTitle": false,
     "tableResultSettingsMap": {},
     "title": ""
    }
   },
   "outputs": [],
   "source": []
  }
 ],
 "metadata": {
  "application/vnd.databricks.v1+notebook": {
   "computePreferences": null,
   "dashboards": [],
   "environmentMetadata": null,
   "inputWidgetPreferences": null,
   "language": "python",
   "notebookMetadata": {
    "pythonIndentUnit": 4
   },
   "notebookName": "04 - Dataframe Join methods",
   "widgets": {}
  }
 },
 "nbformat": 4,
 "nbformat_minor": 0
}