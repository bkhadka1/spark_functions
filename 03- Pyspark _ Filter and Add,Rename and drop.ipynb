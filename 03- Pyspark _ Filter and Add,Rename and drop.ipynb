{
 "cells": [
  {
   "cell_type": "code",
   "execution_count": 0,
   "metadata": {
    "application/vnd.databricks.v1+cell": {
     "cellMetadata": {
      "byteLimit": 2048000,
      "rowLimit": 10000
     },
     "inputWidgets": {},
     "nuid": "ba381b00-0064-4465-bc85-bef84e58f550",
     "showTitle": true,
     "title": "Create Dataframe"
    }
   },
   "outputs": [
    {
     "output_type": "display_data",
     "data": {
      "text/html": [
       "<style scoped>\n",
       "  .table-result-container {\n",
       "    max-height: 300px;\n",
       "    overflow: auto;\n",
       "  }\n",
       "  table, th, td {\n",
       "    border: 1px solid black;\n",
       "    border-collapse: collapse;\n",
       "  }\n",
       "  th, td {\n",
       "    padding: 5px;\n",
       "  }\n",
       "  th {\n",
       "    text-align: left;\n",
       "  }\n",
       "</style><div class='table-result-container'><table class='table-result'><thead style='background-color: white'><tr><th>employee_id</th><th>name</th><th>doj</th><th>employee_dep_id</th><th>gender</th><th>salary</th></tr></thead><tbody><tr><td>10</td><td>raju</td><td>1999</td><td>100</td><td>M</td><td>2000</td></tr><tr><td>20</td><td>ravi</td><td>1999</td><td>100</td><td>M</td><td>1000</td></tr><tr><td>30</td><td>avishu</td><td>2005</td><td>100</td><td>F</td><td>2500</td></tr><tr><td>40</td><td>rakesh kumar</td><td>1999</td><td>101</td><td>M</td><td>4000</td></tr><tr><td>50</td><td>ravi</td><td>2000</td><td>104</td><td>M</td><td>5000</td></tr><tr><td>80</td><td>sunny</td><td>2008</td><td>104</td><td>M</td><td>null</td></tr></tbody></table></div>"
      ]
     },
     "metadata": {
      "application/vnd.databricks.v1+output": {
       "addedWidgets": {},
       "aggData": [],
       "aggError": "",
       "aggOverflow": false,
       "aggSchema": [],
       "aggSeriesLimitReached": false,
       "aggType": "",
       "arguments": {},
       "columnCustomDisplayInfos": {},
       "data": [
        [
         10,
         "raju",
         "1999",
         "100",
         "M",
         2000
        ],
        [
         20,
         "ravi",
         "1999",
         "100",
         "M",
         1000
        ],
        [
         30,
         "avishu",
         "2005",
         "100",
         "F",
         2500
        ],
        [
         40,
         "rakesh kumar",
         "1999",
         "101",
         "M",
         4000
        ],
        [
         50,
         "ravi",
         "2000",
         "104",
         "M",
         5000
        ],
        [
         80,
         "sunny",
         "2008",
         "104",
         "M",
         null
        ]
       ],
       "datasetInfos": [],
       "dbfsResultPath": null,
       "isJsonSchema": true,
       "metadata": {},
       "overflow": false,
       "plotOptions": {
        "customPlotOptions": {},
        "displayType": "table",
        "pivotAggregation": null,
        "pivotColumns": null,
        "xColumns": null,
        "yColumns": null
       },
       "removedWidgets": [],
       "schema": [
        {
         "metadata": "{}",
         "name": "employee_id",
         "type": "\"long\""
        },
        {
         "metadata": "{}",
         "name": "name",
         "type": "\"string\""
        },
        {
         "metadata": "{}",
         "name": "doj",
         "type": "\"string\""
        },
        {
         "metadata": "{}",
         "name": "employee_dep_id",
         "type": "\"string\""
        },
        {
         "metadata": "{}",
         "name": "gender",
         "type": "\"string\""
        },
        {
         "metadata": "{}",
         "name": "salary",
         "type": "\"long\""
        }
       ],
       "type": "table"
      }
     },
     "output_type": "display_data"
    }
   ],
   "source": [
    "employee_data=[(10,\"raju\",\"1999\",\"100\",\"M\",2000),(20,\"ravi\",\"1999\",\"100\",\"M\",1000),(30,\"avishu\",\"2005\",\"100\",\"F\",2500),(40,\"rakesh kumar\",\"1999\",\"101\",\"M\",4000),(50,\"ravi\",\"2000\",\"104\",\"M\",5000),(80,\"sunny\",\"2008\",\"104\",\"M\",None)]\n",
    "\n",
    "employee_schema=[\"employee_id\",\"name\",\"doj\",\"employee_dep_id\",\"gender\",\"salary\"]\n",
    "\n",
    "\n",
    "employee_df =spark.createDataFrame(data=employee_data,schema=employee_schema)\n",
    "display(employee_df)"
   ]
  },
  {
   "cell_type": "code",
   "execution_count": 0,
   "metadata": {
    "application/vnd.databricks.v1+cell": {
     "cellMetadata": {
      "byteLimit": 2048000,
      "rowLimit": 10000
     },
     "inputWidgets": {},
     "nuid": "aa32ee8d-c6b9-4f30-b0af-f62d9e163751",
     "showTitle": false,
     "title": ""
    }
   },
   "outputs": [
    {
     "output_type": "stream",
     "name": "stdout",
     "output_type": "stream",
     "text": [
      "root\n |-- employee_id: long (nullable = true)\n |-- name: string (nullable = true)\n |-- doj: string (nullable = true)\n |-- employee_dep_id: string (nullable = true)\n |-- gender: string (nullable = true)\n |-- salary: long (nullable = true)\n\n"
     ]
    }
   ],
   "source": [
    "employee_df.printSchema()"
   ]
  },
  {
   "cell_type": "code",
   "execution_count": 0,
   "metadata": {
    "application/vnd.databricks.v1+cell": {
     "cellMetadata": {
      "byteLimit": 2048000,
      "rowLimit": 10000
     },
     "inputWidgets": {},
     "nuid": "ba5da26b-2f36-4163-993d-dfe00d4f8b47",
     "showTitle": true,
     "title": "==,>,<,<=,>=<,!="
    }
   },
   "outputs": [
    {
     "output_type": "display_data",
     "data": {
      "text/html": [
       "<style scoped>\n",
       "  .table-result-container {\n",
       "    max-height: 300px;\n",
       "    overflow: auto;\n",
       "  }\n",
       "  table, th, td {\n",
       "    border: 1px solid black;\n",
       "    border-collapse: collapse;\n",
       "  }\n",
       "  th, td {\n",
       "    padding: 5px;\n",
       "  }\n",
       "  th {\n",
       "    text-align: left;\n",
       "  }\n",
       "</style><div class='table-result-container'><table class='table-result'><thead style='background-color: white'><tr><th>employee_id</th><th>name</th><th>doj</th><th>employee_dep_id</th><th>gender</th><th>salary</th></tr></thead><tbody><tr><td>30</td><td>avishu</td><td>2005</td><td>100</td><td>F</td><td>2500</td></tr></tbody></table></div>"
      ]
     },
     "metadata": {
      "application/vnd.databricks.v1+output": {
       "addedWidgets": {},
       "aggData": [],
       "aggError": "",
       "aggOverflow": false,
       "aggSchema": [],
       "aggSeriesLimitReached": false,
       "aggType": "",
       "arguments": {},
       "columnCustomDisplayInfos": {},
       "data": [
        [
         30,
         "avishu",
         "2005",
         "100",
         "F",
         2500
        ]
       ],
       "datasetInfos": [],
       "dbfsResultPath": null,
       "isJsonSchema": true,
       "metadata": {},
       "overflow": false,
       "plotOptions": {
        "customPlotOptions": {},
        "displayType": "table",
        "pivotAggregation": null,
        "pivotColumns": null,
        "xColumns": null,
        "yColumns": null
       },
       "removedWidgets": [],
       "schema": [
        {
         "metadata": "{}",
         "name": "employee_id",
         "type": "\"long\""
        },
        {
         "metadata": "{}",
         "name": "name",
         "type": "\"string\""
        },
        {
         "metadata": "{}",
         "name": "doj",
         "type": "\"string\""
        },
        {
         "metadata": "{}",
         "name": "employee_dep_id",
         "type": "\"string\""
        },
        {
         "metadata": "{}",
         "name": "gender",
         "type": "\"string\""
        },
        {
         "metadata": "{}",
         "name": "salary",
         "type": "\"long\""
        }
       ],
       "type": "table"
      }
     },
     "output_type": "display_data"
    }
   ],
   "source": [
    "display(employee_df.filter(employee_df.gender == 'F'))  # ==,>,<,<=,>=<,!="
   ]
  },
  {
   "cell_type": "code",
   "execution_count": 0,
   "metadata": {
    "application/vnd.databricks.v1+cell": {
     "cellMetadata": {
      "byteLimit": 2048000,
      "rowLimit": 10000
     },
     "inputWidgets": {},
     "nuid": "9da46ee1-2902-4433-9ea0-4cc8250a6148",
     "showTitle": false,
     "title": ""
    }
   },
   "outputs": [
    {
     "output_type": "display_data",
     "data": {
      "text/html": [
       "<style scoped>\n",
       "  .table-result-container {\n",
       "    max-height: 300px;\n",
       "    overflow: auto;\n",
       "  }\n",
       "  table, th, td {\n",
       "    border: 1px solid black;\n",
       "    border-collapse: collapse;\n",
       "  }\n",
       "  th, td {\n",
       "    padding: 5px;\n",
       "  }\n",
       "  th {\n",
       "    text-align: left;\n",
       "  }\n",
       "</style><div class='table-result-container'><table class='table-result'><thead style='background-color: white'><tr><th>employee_id</th><th>name</th><th>doj</th><th>employee_dep_id</th><th>gender</th><th>salary</th></tr></thead><tbody><tr><td>50</td><td>ravi</td><td>2000</td><td>104</td><td>M</td><td>5000</td></tr></tbody></table></div>"
      ]
     },
     "metadata": {
      "application/vnd.databricks.v1+output": {
       "addedWidgets": {},
       "aggData": [],
       "aggError": "",
       "aggOverflow": false,
       "aggSchema": [],
       "aggSeriesLimitReached": false,
       "aggType": "",
       "arguments": {},
       "columnCustomDisplayInfos": {},
       "data": [
        [
         50,
         "ravi",
         "2000",
         "104",
         "M",
         5000
        ]
       ],
       "datasetInfos": [],
       "dbfsResultPath": null,
       "isJsonSchema": true,
       "metadata": {},
       "overflow": false,
       "plotOptions": {
        "customPlotOptions": {},
        "displayType": "table",
        "pivotAggregation": null,
        "pivotColumns": null,
        "xColumns": null,
        "yColumns": null
       },
       "removedWidgets": [],
       "schema": [
        {
         "metadata": "{}",
         "name": "employee_id",
         "type": "\"long\""
        },
        {
         "metadata": "{}",
         "name": "name",
         "type": "\"string\""
        },
        {
         "metadata": "{}",
         "name": "doj",
         "type": "\"string\""
        },
        {
         "metadata": "{}",
         "name": "employee_dep_id",
         "type": "\"string\""
        },
        {
         "metadata": "{}",
         "name": "gender",
         "type": "\"string\""
        },
        {
         "metadata": "{}",
         "name": "salary",
         "type": "\"long\""
        }
       ],
       "type": "table"
      }
     },
     "output_type": "display_data"
    }
   ],
   "source": [
    "display(employee_df.filter((employee_df.salary >= 9000) | (employee_df.doj==\"2000\")))   #& ,|"
   ]
  },
  {
   "cell_type": "code",
   "execution_count": 0,
   "metadata": {
    "application/vnd.databricks.v1+cell": {
     "cellMetadata": {
      "byteLimit": 2048000,
      "rowLimit": 10000
     },
     "inputWidgets": {},
     "nuid": "f6136f77-4737-4f22-b5fa-09d6c29c740f",
     "showTitle": false,
     "title": ""
    }
   },
   "outputs": [
    {
     "output_type": "display_data",
     "data": {
      "text/html": [
       "<style scoped>\n",
       "  .table-result-container {\n",
       "    max-height: 300px;\n",
       "    overflow: auto;\n",
       "  }\n",
       "  table, th, td {\n",
       "    border: 1px solid black;\n",
       "    border-collapse: collapse;\n",
       "  }\n",
       "  th, td {\n",
       "    padding: 5px;\n",
       "  }\n",
       "  th {\n",
       "    text-align: left;\n",
       "  }\n",
       "</style><div class='table-result-container'><table class='table-result'><thead style='background-color: white'><tr><th>employee_idstring</th><th>name</th><th>doj</th><th>employee_dep_id</th><th>gender</th><th>salary</th></tr></thead><tbody><tr><td>10</td><td>raju</td><td>1999</td><td>100</td><td>M</td><td>2000</td></tr><tr><td>20</td><td>ravi</td><td>1999</td><td>100</td><td>M</td><td>1000</td></tr><tr><td>30</td><td>avishu</td><td>2005</td><td>100</td><td>F</td><td>2500</td></tr><tr><td>40</td><td>rakesh kumar</td><td>1999</td><td>101</td><td>M</td><td>4000</td></tr><tr><td>50</td><td>ravi</td><td>2000</td><td>104</td><td>M</td><td>5000</td></tr></tbody></table></div>"
      ]
     },
     "metadata": {
      "application/vnd.databricks.v1+output": {
       "addedWidgets": {},
       "aggData": [],
       "aggError": "",
       "aggOverflow": false,
       "aggSchema": [],
       "aggSeriesLimitReached": false,
       "aggType": "",
       "arguments": {},
       "columnCustomDisplayInfos": {},
       "data": [
        [
         10,
         "raju",
         "1999",
         "100",
         "M",
         2000
        ],
        [
         20,
         "ravi",
         "1999",
         "100",
         "M",
         1000
        ],
        [
         30,
         "avishu",
         "2005",
         "100",
         "F",
         2500
        ],
        [
         40,
         "rakesh kumar",
         "1999",
         "101",
         "M",
         4000
        ],
        [
         50,
         "ravi",
         "2000",
         "104",
         "M",
         5000
        ]
       ],
       "datasetInfos": [],
       "dbfsResultPath": null,
       "isJsonSchema": true,
       "metadata": {},
       "overflow": false,
       "plotOptions": {
        "customPlotOptions": {},
        "displayType": "table",
        "pivotAggregation": null,
        "pivotColumns": null,
        "xColumns": null,
        "yColumns": null
       },
       "removedWidgets": [],
       "schema": [
        {
         "metadata": "{}",
         "name": "employee_idstring",
         "type": "\"long\""
        },
        {
         "metadata": "{}",
         "name": "name",
         "type": "\"string\""
        },
        {
         "metadata": "{}",
         "name": "doj",
         "type": "\"string\""
        },
        {
         "metadata": "{}",
         "name": "employee_dep_id",
         "type": "\"string\""
        },
        {
         "metadata": "{}",
         "name": "gender",
         "type": "\"string\""
        },
        {
         "metadata": "{}",
         "name": "salary",
         "type": "\"long\""
        }
       ],
       "type": "table"
      }
     },
     "output_type": "display_data"
    }
   ],
   "source": [
    "display(employee_df.filter((employee_df.salary<=5000) | (employee_df.doj==\"2000\")))   #& ,|"
   ]
  },
  {
   "cell_type": "code",
   "execution_count": 0,
   "metadata": {
    "application/vnd.databricks.v1+cell": {
     "cellMetadata": {},
     "inputWidgets": {},
     "nuid": "793a212c-2d31-4f92-90b8-95b5fbafec6b",
     "showTitle": false,
     "title": ""
    }
   },
   "outputs": [],
   "source": [
    " v = \"hello\""
   ]
  },
  {
   "cell_type": "code",
   "execution_count": 0,
   "metadata": {
    "application/vnd.databricks.v1+cell": {
     "cellMetadata": {
      "byteLimit": 2048000,
      "rowLimit": 10000
     },
     "inputWidgets": {},
     "nuid": "2c2189fa-fc06-4ebf-bdc6-b931323c2d41",
     "showTitle": false,
     "title": ""
    }
   },
   "outputs": [
    {
     "output_type": "display_data",
     "data": {
      "text/html": [
       "<style scoped>\n",
       "  .table-result-container {\n",
       "    max-height: 300px;\n",
       "    overflow: auto;\n",
       "  }\n",
       "  table, th, td {\n",
       "    border: 1px solid black;\n",
       "    border-collapse: collapse;\n",
       "  }\n",
       "  th, td {\n",
       "    padding: 5px;\n",
       "  }\n",
       "  th {\n",
       "    text-align: left;\n",
       "  }\n",
       "</style><div class='table-result-container'><table class='table-result'><thead style='background-color: white'><tr><th>employee_id</th><th>name</th><th>doj</th><th>employee_dep_id</th><th>gender</th><th>salary</th></tr></thead><tbody><tr><td>10</td><td>raju</td><td>1999</td><td>100</td><td>M</td><td>2000</td></tr><tr><td>20</td><td>ravi</td><td>1999</td><td>100</td><td>M</td><td>1000</td></tr><tr><td>40</td><td>rakesh kumar</td><td>1999</td><td>101</td><td>M</td><td>4000</td></tr><tr><td>50</td><td>ravi</td><td>2000</td><td>104</td><td>M</td><td>5000</td></tr></tbody></table></div>"
      ]
     },
     "metadata": {
      "application/vnd.databricks.v1+output": {
       "addedWidgets": {},
       "aggData": [],
       "aggError": "",
       "aggOverflow": false,
       "aggSchema": [],
       "aggSeriesLimitReached": false,
       "aggType": "",
       "arguments": {},
       "columnCustomDisplayInfos": {},
       "data": [
        [
         10,
         "raju",
         "1999",
         "100",
         "M",
         2000
        ],
        [
         20,
         "ravi",
         "1999",
         "100",
         "M",
         1000
        ],
        [
         40,
         "rakesh kumar",
         "1999",
         "101",
         "M",
         4000
        ],
        [
         50,
         "ravi",
         "2000",
         "104",
         "M",
         5000
        ]
       ],
       "datasetInfos": [],
       "dbfsResultPath": null,
       "isJsonSchema": true,
       "metadata": {},
       "overflow": false,
       "plotOptions": {
        "customPlotOptions": {},
        "displayType": "table",
        "pivotAggregation": null,
        "pivotColumns": null,
        "xColumns": null,
        "yColumns": null
       },
       "removedWidgets": [],
       "schema": [
        {
         "metadata": "{}",
         "name": "employee_id",
         "type": "\"long\""
        },
        {
         "metadata": "{}",
         "name": "name",
         "type": "\"string\""
        },
        {
         "metadata": "{}",
         "name": "doj",
         "type": "\"string\""
        },
        {
         "metadata": "{}",
         "name": "employee_dep_id",
         "type": "\"string\""
        },
        {
         "metadata": "{}",
         "name": "gender",
         "type": "\"string\""
        },
        {
         "metadata": "{}",
         "name": "salary",
         "type": "\"long\""
        }
       ],
       "type": "table"
      }
     },
     "output_type": "display_data"
    }
   ],
   "source": [
    "display(employee_df.filter(employee_df.name.startswith(\"r\")))"
   ]
  },
  {
   "cell_type": "code",
   "execution_count": 0,
   "metadata": {
    "application/vnd.databricks.v1+cell": {
     "cellMetadata": {
      "byteLimit": 2048000,
      "rowLimit": 10000
     },
     "inputWidgets": {},
     "nuid": "cdd68993-e29e-4168-8353-1444dfc38841",
     "showTitle": false,
     "title": ""
    }
   },
   "outputs": [
    {
     "output_type": "display_data",
     "data": {
      "text/html": [
       "<style scoped>\n",
       "  .table-result-container {\n",
       "    max-height: 300px;\n",
       "    overflow: auto;\n",
       "  }\n",
       "  table, th, td {\n",
       "    border: 1px solid black;\n",
       "    border-collapse: collapse;\n",
       "  }\n",
       "  th, td {\n",
       "    padding: 5px;\n",
       "  }\n",
       "  th {\n",
       "    text-align: left;\n",
       "  }\n",
       "</style><div class='table-result-container'><table class='table-result'><thead style='background-color: white'><tr><th>employee_id</th><th>name</th><th>doj</th><th>employee_dep_id</th><th>gender</th><th>salary</th></tr></thead><tbody><tr><td>20</td><td>ravi</td><td>1999</td><td>100</td><td>M</td><td>1000</td></tr><tr><td>50</td><td>ravi</td><td>2000</td><td>104</td><td>M</td><td>5000</td></tr></tbody></table></div>"
      ]
     },
     "metadata": {
      "application/vnd.databricks.v1+output": {
       "addedWidgets": {},
       "aggData": [],
       "aggError": "",
       "aggOverflow": false,
       "aggSchema": [],
       "aggSeriesLimitReached": false,
       "aggType": "",
       "arguments": {},
       "columnCustomDisplayInfos": {},
       "data": [
        [
         20,
         "ravi",
         "1999",
         "100",
         "M",
         1000
        ],
        [
         50,
         "ravi",
         "2000",
         "104",
         "M",
         5000
        ]
       ],
       "datasetInfos": [],
       "dbfsResultPath": null,
       "isJsonSchema": true,
       "metadata": {},
       "overflow": false,
       "plotOptions": {
        "customPlotOptions": {},
        "displayType": "table",
        "pivotAggregation": null,
        "pivotColumns": null,
        "xColumns": null,
        "yColumns": null
       },
       "removedWidgets": [],
       "schema": [
        {
         "metadata": "{}",
         "name": "employee_id",
         "type": "\"long\""
        },
        {
         "metadata": "{}",
         "name": "name",
         "type": "\"string\""
        },
        {
         "metadata": "{}",
         "name": "doj",
         "type": "\"string\""
        },
        {
         "metadata": "{}",
         "name": "employee_dep_id",
         "type": "\"string\""
        },
        {
         "metadata": "{}",
         "name": "gender",
         "type": "\"string\""
        },
        {
         "metadata": "{}",
         "name": "salary",
         "type": "\"long\""
        }
       ],
       "type": "table"
      }
     },
     "output_type": "display_data"
    }
   ],
   "source": [
    "display(employee_df.filter(employee_df.name.endswith(\"i\")))"
   ]
  },
  {
   "cell_type": "code",
   "execution_count": 0,
   "metadata": {
    "application/vnd.databricks.v1+cell": {
     "cellMetadata": {
      "byteLimit": 2048000,
      "rowLimit": 10000
     },
     "inputWidgets": {},
     "nuid": "73e379d3-8f02-402f-ad9c-a23fe3b972a2",
     "showTitle": false,
     "title": ""
    }
   },
   "outputs": [
    {
     "output_type": "display_data",
     "data": {
      "text/html": [
       "<style scoped>\n",
       "  .table-result-container {\n",
       "    max-height: 300px;\n",
       "    overflow: auto;\n",
       "  }\n",
       "  table, th, td {\n",
       "    border: 1px solid black;\n",
       "    border-collapse: collapse;\n",
       "  }\n",
       "  th, td {\n",
       "    padding: 5px;\n",
       "  }\n",
       "  th {\n",
       "    text-align: left;\n",
       "  }\n",
       "</style><div class='table-result-container'><table class='table-result'><thead style='background-color: white'><tr><th>employee_id</th><th>name</th><th>doj</th><th>employee_dep_id</th><th>gender</th><th>salary</th></tr></thead><tbody><tr><td>20</td><td>ravi</td><td>1999</td><td>100</td><td>M</td><td>1000</td></tr><tr><td>30</td><td>avishu</td><td>2005</td><td>100</td><td>F</td><td>2500</td></tr><tr><td>50</td><td>ravi</td><td>2000</td><td>104</td><td>M</td><td>5000</td></tr></tbody></table></div>"
      ]
     },
     "metadata": {
      "application/vnd.databricks.v1+output": {
       "addedWidgets": {},
       "aggData": [],
       "aggError": "",
       "aggOverflow": false,
       "aggSchema": [],
       "aggSeriesLimitReached": false,
       "aggType": "",
       "arguments": {},
       "columnCustomDisplayInfos": {},
       "data": [
        [
         20,
         "ravi",
         "1999",
         "100",
         "M",
         1000
        ],
        [
         30,
         "avishu",
         "2005",
         "100",
         "F",
         2500
        ],
        [
         50,
         "ravi",
         "2000",
         "104",
         "M",
         5000
        ]
       ],
       "datasetInfos": [],
       "dbfsResultPath": null,
       "isJsonSchema": true,
       "metadata": {},
       "overflow": false,
       "plotOptions": {
        "customPlotOptions": {},
        "displayType": "table",
        "pivotAggregation": null,
        "pivotColumns": null,
        "xColumns": null,
        "yColumns": null
       },
       "removedWidgets": [],
       "schema": [
        {
         "metadata": "{}",
         "name": "employee_id",
         "type": "\"long\""
        },
        {
         "metadata": "{}",
         "name": "name",
         "type": "\"string\""
        },
        {
         "metadata": "{}",
         "name": "doj",
         "type": "\"string\""
        },
        {
         "metadata": "{}",
         "name": "employee_dep_id",
         "type": "\"string\""
        },
        {
         "metadata": "{}",
         "name": "gender",
         "type": "\"string\""
        },
        {
         "metadata": "{}",
         "name": "salary",
         "type": "\"long\""
        }
       ],
       "type": "table"
      }
     },
     "output_type": "display_data"
    }
   ],
   "source": [
    "display(employee_df.filter(employee_df.name.contains(\"vi\"))) "
   ]
  },
  {
   "cell_type": "code",
   "execution_count": 0,
   "metadata": {
    "application/vnd.databricks.v1+cell": {
     "cellMetadata": {
      "byteLimit": 2048000,
      "rowLimit": 10000
     },
     "inputWidgets": {},
     "nuid": "e5bf3b63-952e-415f-b0e7-593d85129087",
     "showTitle": false,
     "title": ""
    }
   },
   "outputs": [
    {
     "output_type": "display_data",
     "data": {
      "text/html": [
       "<style scoped>\n",
       "  .table-result-container {\n",
       "    max-height: 300px;\n",
       "    overflow: auto;\n",
       "  }\n",
       "  table, th, td {\n",
       "    border: 1px solid black;\n",
       "    border-collapse: collapse;\n",
       "  }\n",
       "  th, td {\n",
       "    padding: 5px;\n",
       "  }\n",
       "  th {\n",
       "    text-align: left;\n",
       "  }\n",
       "</style><div class='table-result-container'><table class='table-result'><thead style='background-color: white'><tr><th>employee_id</th><th>name</th><th>doj</th><th>employee_dep_id</th><th>gender</th><th>salary</th></tr></thead><tbody><tr><td>80</td><td>sunny</td><td>2008</td><td>104</td><td>M</td><td>null</td></tr></tbody></table></div>"
      ]
     },
     "metadata": {
      "application/vnd.databricks.v1+output": {
       "addedWidgets": {},
       "aggData": [],
       "aggError": "",
       "aggOverflow": false,
       "aggSchema": [],
       "aggSeriesLimitReached": false,
       "aggType": "",
       "arguments": {},
       "columnCustomDisplayInfos": {},
       "data": [
        [
         80,
         "sunny",
         "2008",
         "104",
         "M",
         null
        ]
       ],
       "datasetInfos": [],
       "dbfsResultPath": null,
       "isJsonSchema": true,
       "metadata": {},
       "overflow": false,
       "plotOptions": {
        "customPlotOptions": {},
        "displayType": "table",
        "pivotAggregation": null,
        "pivotColumns": null,
        "xColumns": null,
        "yColumns": null
       },
       "removedWidgets": [],
       "schema": [
        {
         "metadata": "{}",
         "name": "employee_id",
         "type": "\"long\""
        },
        {
         "metadata": "{}",
         "name": "name",
         "type": "\"string\""
        },
        {
         "metadata": "{}",
         "name": "doj",
         "type": "\"string\""
        },
        {
         "metadata": "{}",
         "name": "employee_dep_id",
         "type": "\"string\""
        },
        {
         "metadata": "{}",
         "name": "gender",
         "type": "\"string\""
        },
        {
         "metadata": "{}",
         "name": "salary",
         "type": "\"long\""
        }
       ],
       "type": "table"
      }
     },
     "output_type": "display_data"
    }
   ],
   "source": [
    "display(employee_df.filter(employee_df.salary.isNull())) #isNull,isNotNull "
   ]
  },
  {
   "cell_type": "code",
   "execution_count": 0,
   "metadata": {
    "application/vnd.databricks.v1+cell": {
     "cellMetadata": {
      "byteLimit": 2048000,
      "rowLimit": 10000
     },
     "inputWidgets": {},
     "nuid": "14c135a5-3662-4d25-80c1-842b386cc85c",
     "showTitle": false,
     "title": ""
    }
   },
   "outputs": [
    {
     "output_type": "display_data",
     "data": {
      "text/html": [
       "<style scoped>\n",
       "  .table-result-container {\n",
       "    max-height: 300px;\n",
       "    overflow: auto;\n",
       "  }\n",
       "  table, th, td {\n",
       "    border: 1px solid black;\n",
       "    border-collapse: collapse;\n",
       "  }\n",
       "  th, td {\n",
       "    padding: 5px;\n",
       "  }\n",
       "  th {\n",
       "    text-align: left;\n",
       "  }\n",
       "</style><div class='table-result-container'><table class='table-result'><thead style='background-color: white'><tr><th>employee_id</th><th>name</th><th>doj</th><th>employee_dep_id</th><th>gender</th><th>salary</th></tr></thead><tbody><tr><td>20</td><td>ravi</td><td>1999</td><td>100</td><td>M</td><td>1000</td></tr><tr><td>30</td><td>avishu</td><td>2005</td><td>100</td><td>F</td><td>2500</td></tr><tr><td>50</td><td>ravi</td><td>2000</td><td>104</td><td>M</td><td>5000</td></tr></tbody></table></div>"
      ]
     },
     "metadata": {
      "application/vnd.databricks.v1+output": {
       "addedWidgets": {},
       "aggData": [],
       "aggError": "",
       "aggOverflow": false,
       "aggSchema": [],
       "aggSeriesLimitReached": false,
       "aggType": "",
       "arguments": {},
       "columnCustomDisplayInfos": {},
       "data": [
        [
         20,
         "ravi",
         "1999",
         "100",
         "M",
         1000
        ],
        [
         30,
         "avishu",
         "2005",
         "100",
         "F",
         2500
        ],
        [
         50,
         "ravi",
         "2000",
         "104",
         "M",
         5000
        ]
       ],
       "datasetInfos": [],
       "dbfsResultPath": null,
       "isJsonSchema": true,
       "metadata": {},
       "overflow": false,
       "plotOptions": {
        "customPlotOptions": {},
        "displayType": "table",
        "pivotAggregation": null,
        "pivotColumns": null,
        "xColumns": null,
        "yColumns": null
       },
       "removedWidgets": [],
       "schema": [
        {
         "metadata": "{}",
         "name": "employee_id",
         "type": "\"long\""
        },
        {
         "metadata": "{}",
         "name": "name",
         "type": "\"string\""
        },
        {
         "metadata": "{}",
         "name": "doj",
         "type": "\"string\""
        },
        {
         "metadata": "{}",
         "name": "employee_dep_id",
         "type": "\"string\""
        },
        {
         "metadata": "{}",
         "name": "gender",
         "type": "\"string\""
        },
        {
         "metadata": "{}",
         "name": "salary",
         "type": "\"long\""
        }
       ],
       "type": "table"
      }
     },
     "output_type": "display_data"
    }
   ],
   "source": [
    "display(employee_df.filter(employee_df.salary.isin(1000,5000,2500))) #isin"
   ]
  },
  {
   "cell_type": "code",
   "execution_count": 0,
   "metadata": {
    "application/vnd.databricks.v1+cell": {
     "cellMetadata": {
      "byteLimit": 2048000,
      "rowLimit": 10000
     },
     "inputWidgets": {},
     "nuid": "9477b89b-43b8-4f42-8d32-ab7537d99c52",
     "showTitle": false,
     "title": ""
    }
   },
   "outputs": [
    {
     "output_type": "display_data",
     "data": {
      "text/html": [
       "<style scoped>\n",
       "  .table-result-container {\n",
       "    max-height: 300px;\n",
       "    overflow: auto;\n",
       "  }\n",
       "  table, th, td {\n",
       "    border: 1px solid black;\n",
       "    border-collapse: collapse;\n",
       "  }\n",
       "  th, td {\n",
       "    padding: 5px;\n",
       "  }\n",
       "  th {\n",
       "    text-align: left;\n",
       "  }\n",
       "</style><div class='table-result-container'><table class='table-result'><thead style='background-color: white'><tr><th>employee_id</th><th>name</th><th>doj</th><th>employee_dep_id</th><th>gender</th><th>salary</th></tr></thead><tbody><tr><td>10</td><td>raju</td><td>1999</td><td>100</td><td>M</td><td>2000</td></tr><tr><td>30</td><td>avishu</td><td>2005</td><td>100</td><td>F</td><td>2500</td></tr></tbody></table></div>"
      ]
     },
     "metadata": {
      "application/vnd.databricks.v1+output": {
       "addedWidgets": {},
       "aggData": [],
       "aggError": "",
       "aggOverflow": false,
       "aggSchema": [],
       "aggSeriesLimitReached": false,
       "aggType": "",
       "arguments": {},
       "columnCustomDisplayInfos": {},
       "data": [
        [
         10,
         "raju",
         "1999",
         "100",
         "M",
         2000
        ],
        [
         30,
         "avishu",
         "2005",
         "100",
         "F",
         2500
        ]
       ],
       "datasetInfos": [],
       "dbfsResultPath": null,
       "isJsonSchema": true,
       "metadata": {},
       "overflow": false,
       "plotOptions": {
        "customPlotOptions": {},
        "displayType": "table",
        "pivotAggregation": null,
        "pivotColumns": null,
        "xColumns": null,
        "yColumns": null
       },
       "removedWidgets": [],
       "schema": [
        {
         "metadata": "{}",
         "name": "employee_id",
         "type": "\"long\""
        },
        {
         "metadata": "{}",
         "name": "name",
         "type": "\"string\""
        },
        {
         "metadata": "{}",
         "name": "doj",
         "type": "\"string\""
        },
        {
         "metadata": "{}",
         "name": "employee_dep_id",
         "type": "\"string\""
        },
        {
         "metadata": "{}",
         "name": "gender",
         "type": "\"string\""
        },
        {
         "metadata": "{}",
         "name": "salary",
         "type": "\"long\""
        }
       ],
       "type": "table"
      }
     },
     "output_type": "display_data"
    }
   ],
   "source": [
    "display(employee_df.filter(employee_df.name.like('%u')))"
   ]
  },
  {
   "cell_type": "code",
   "execution_count": 0,
   "metadata": {
    "application/vnd.databricks.v1+cell": {
     "cellMetadata": {
      "byteLimit": 2048000,
      "rowLimit": 10000
     },
     "inputWidgets": {},
     "nuid": "12143cf6-8aaa-4976-9aa0-d6ed1110cfee",
     "showTitle": true,
     "title": "syntax"
    }
   },
   "outputs": [],
   "source": [
    "# df.withColumn(\"new_col\",value)\n",
    "# df.withColumnRenamed(\"old_col\",\"old_col\")\n",
    "# df.drop(\"col_name\",value)"
   ]
  },
  {
   "cell_type": "code",
   "execution_count": 0,
   "metadata": {
    "application/vnd.databricks.v1+cell": {
     "cellMetadata": {
      "byteLimit": 2048000,
      "rowLimit": 10000
     },
     "inputWidgets": {},
     "nuid": "6e5afa97-304c-4feb-a678-7e1d4911e414",
     "showTitle": false,
     "title": ""
    }
   },
   "outputs": [
    {
     "output_type": "display_data",
     "data": {
      "text/html": [
       "<style scoped>\n",
       "  .table-result-container {\n",
       "    max-height: 300px;\n",
       "    overflow: auto;\n",
       "  }\n",
       "  table, th, td {\n",
       "    border: 1px solid black;\n",
       "    border-collapse: collapse;\n",
       "  }\n",
       "  th, td {\n",
       "    padding: 5px;\n",
       "  }\n",
       "  th {\n",
       "    text-align: left;\n",
       "  }\n",
       "</style><div class='table-result-container'><table class='table-result'><thead style='background-color: white'><tr><th>employee_id</th><th>name</th><th>doj</th><th>employee_dep_id</th><th>gender</th><th>salary</th></tr></thead><tbody><tr><td>10</td><td>raju</td><td>1999</td><td>100</td><td>M</td><td>2000</td></tr><tr><td>20</td><td>raju</td><td>1999</td><td>100</td><td>M</td><td>2000</td></tr><tr><td>30</td><td>avishu</td><td>2005</td><td>100</td><td>F</td><td>2500</td></tr><tr><td>40</td><td>rakesh</td><td>1999</td><td>101</td><td>M</td><td>4000</td></tr><tr><td>50</td><td>ravi</td><td>2000</td><td>107</td><td>M</td><td>5000</td></tr><tr><td>60</td><td>rashmi</td><td>2000</td><td>106</td><td>F</td><td>9000</td></tr><tr><td>70</td><td>rahul kumar</td><td>2000</td><td>107</td><td>M</td><td>5670</td></tr><tr><td>80</td><td>rami</td><td>2000</td><td>109</td><td>F</td><td>5600</td></tr></tbody></table></div>"
      ]
     },
     "metadata": {
      "application/vnd.databricks.v1+output": {
       "addedWidgets": {},
       "aggData": [],
       "aggError": "",
       "aggOverflow": false,
       "aggSchema": [],
       "aggSeriesLimitReached": false,
       "aggType": "",
       "arguments": {},
       "columnCustomDisplayInfos": {},
       "data": [
        [
         10,
         "raju",
         "1999",
         "100",
         "M",
         2000
        ],
        [
         20,
         "raju",
         "1999",
         "100",
         "M",
         2000
        ],
        [
         30,
         "avishu",
         "2005",
         "100",
         "F",
         2500
        ],
        [
         40,
         "rakesh",
         "1999",
         "101",
         "M",
         4000
        ],
        [
         50,
         "ravi",
         "2000",
         "107",
         "M",
         5000
        ],
        [
         60,
         "rashmi",
         "2000",
         "106",
         "F",
         9000
        ],
        [
         70,
         "rahul kumar",
         "2000",
         "107",
         "M",
         5670
        ],
        [
         80,
         "rami",
         "2000",
         "109",
         "F",
         5600
        ]
       ],
       "datasetInfos": [],
       "dbfsResultPath": null,
       "isJsonSchema": true,
       "metadata": {},
       "overflow": false,
       "plotOptions": {
        "customPlotOptions": {},
        "displayType": "table",
        "pivotAggregation": null,
        "pivotColumns": null,
        "xColumns": null,
        "yColumns": null
       },
       "removedWidgets": [],
       "schema": [
        {
         "metadata": "{}",
         "name": "employee_id",
         "type": "\"long\""
        },
        {
         "metadata": "{}",
         "name": "name",
         "type": "\"string\""
        },
        {
         "metadata": "{}",
         "name": "doj",
         "type": "\"string\""
        },
        {
         "metadata": "{}",
         "name": "employee_dep_id",
         "type": "\"string\""
        },
        {
         "metadata": "{}",
         "name": "gender",
         "type": "\"string\""
        },
        {
         "metadata": "{}",
         "name": "salary",
         "type": "\"long\""
        }
       ],
       "type": "table"
      }
     },
     "output_type": "display_data"
    }
   ],
   "source": [
    "employee_data=[[10,\"raju\",\"1999\",\"100\",\"M\",2000],[20,\"raju\",\"1999\",\"100\",\"M\",2000],[30,\"avishu\",\"2005\",\"100\",\"F\",2500],[40,\"rakesh\",\"1999\",\"101\",\"M\",4000],[50,\"ravi\",\"2000\",\"107\",\"M\",5000],[60,\"rashmi\",\"2000\",\"106\",\"F\",9000],[70,\"rahul kumar\",\"2000\",\"107\",\"M\",5670],[80,\"rami\",\"2000\",\"109\",\"F\",5600]]\n",
    "\n",
    "employee_schema=[\"employee_id\",\"name\",\"doj\",\"employee_dep_id\",\"gender\",\"salary\"]\n",
    "\n",
    "\n",
    "employee_df =spark.createDataFrame(data=employee_data,schema=employee_schema)\n",
    "display(employee_df)"
   ]
  },
  {
   "cell_type": "code",
   "execution_count": 0,
   "metadata": {
    "application/vnd.databricks.v1+cell": {
     "cellMetadata": {
      "byteLimit": 2048000,
      "rowLimit": 10000
     },
     "inputWidgets": {},
     "nuid": "6c27eff8-6c62-4210-927d-fe7bddd986a4",
     "showTitle": true,
     "title": "ADD NEW COLUM USING CONSTANT LITERAL"
    }
   },
   "outputs": [
    {
     "output_type": "stream",
     "name": "stdout",
     "output_type": "stream",
     "text": [
      "+-----------+-----------+----+---------------+------+------+--------+\n|employee_id|       name| doj|employee_dep_id|gender|salary|LOCATION|\n+-----------+-----------+----+---------------+------+------+--------+\n|         10|       raju|1999|            100|     M|  2000|  mumbai|\n|         20|       raju|1999|            100|     M|  2000|  mumbai|\n|         30|     avishu|2005|            100|     F|  2500|  mumbai|\n|         40|     rakesh|1999|            101|     M|  4000|  mumbai|\n|         50|       ravi|2000|            107|     M|  5000|  mumbai|\n|         60|     rashmi|2000|            106|     F|  9000|  mumbai|\n|         70|rahul kumar|2000|            107|     M|  5670|  mumbai|\n|         80|       rami|2000|            109|     F|  5600|  mumbai|\n+-----------+-----------+----+---------------+------+------+--------+\n\n"
     ]
    }
   ],
   "source": [
    "from pyspark.sql.functions import lit\n",
    "empdf_addcol=employee_df.withColumn(\"LOCATION\",lit(\"mumbai\")).show()"
   ]
  },
  {
   "cell_type": "code",
   "execution_count": 0,
   "metadata": {
    "application/vnd.databricks.v1+cell": {
     "cellMetadata": {
      "byteLimit": 2048000,
      "rowLimit": 10000
     },
     "inputWidgets": {},
     "nuid": "713f5105-150a-4ae7-bf4b-eda4f4181938",
     "showTitle": true,
     "title": "ADD NEW COLUMN USING CALCULATION"
    }
   },
   "outputs": [
    {
     "output_type": "stream",
     "name": "stdout",
     "output_type": "stream",
     "text": [
      "+---------+--------+------+-------+-----------+\n|firstname|lastname|salary|  bonus|       Name|\n+---------+--------+------+-------+-----------+\n|     John|     Doe| 50000|15000.0|   John Doe|\n|     Jane|   Smith| 60000|18000.0| Jane Smith|\n|      Bob| Johnson| 75000|22500.0|Bob Johnson|\n+---------+--------+------+-------+-----------+\n\n"
     ]
    }
   ],
   "source": [
    "# Sample data\n",
    "data = [(\"John\", \"Doe\", 50000),\n",
    "        (\"Jane\", \"Smith\", 60000),\n",
    "        (\"Bob\", \"Johnson\", 75000)]\n",
    "\n",
    "# Define the schema\n",
    "schema = [\"firstname\", \"lastname\", \"salary\"]\n",
    "\n",
    "# Create a DataFrame\n",
    "empdf = spark.createDataFrame(data, schema=schema)\n",
    "\n",
    "# Add columns\n",
    "empdf_addcolumn = empdf.withColumn(\"bonus\", empdf.salary * 0.3).withColumn(\"Name\", concat(\"firstname\", lit(\" \"), \"lastname\"))\n",
    "\n",
    "# Display the DataFrame\n",
    "empdf_addcolumn.show()"
   ]
  },
  {
   "cell_type": "code",
   "execution_count": 0,
   "metadata": {
    "application/vnd.databricks.v1+cell": {
     "cellMetadata": {
      "byteLimit": 2048000,
      "rowLimit": 10000
     },
     "inputWidgets": {},
     "nuid": "9bbc39cf-022c-4053-bf76-1997a1de17d7",
     "showTitle": false,
     "title": ""
    }
   },
   "outputs": [],
   "source": [
    "from pyspark.sql.functions import *"
   ]
  },
  {
   "cell_type": "code",
   "execution_count": 0,
   "metadata": {
    "application/vnd.databricks.v1+cell": {
     "cellMetadata": {
      "byteLimit": 2048000,
      "rowLimit": 10000
     },
     "inputWidgets": {},
     "nuid": "a1e0bdd2-098e-4032-9d87-e476fde9944b",
     "showTitle": true,
     "title": "Rename a column"
    }
   },
   "outputs": [],
   "source": []
  }
 ],
 "metadata": {
  "application/vnd.databricks.v1+notebook": {
   "dashboards": [],
   "language": "python",
   "notebookMetadata": {
    "pythonIndentUnit": 4
   },
   "notebookName": "03- Pyspark : Filter and Add,Rename and drop",
   "widgets": {}
  }
 },
 "nbformat": 4,
 "nbformat_minor": 0
}
