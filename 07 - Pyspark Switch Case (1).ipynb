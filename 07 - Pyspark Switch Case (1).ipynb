{
 "cells": [
  {
   "cell_type": "code",
   "execution_count": 0,
   "metadata": {
    "application/vnd.databricks.v1+cell": {
     "cellMetadata": {
      "byteLimit": 2048000,
      "rowLimit": 10000
     },
     "inputWidgets": {},
     "nuid": "671a953f-d935-493e-8b71-ad363708a957",
     "showTitle": false,
     "tableResultSettingsMap": {},
     "title": ""
    }
   },
   "outputs": [
    {
     "output_type": "display_data",
     "data": {
      "text/html": [
       "<style scoped>\n",
       "  .table-result-container {\n",
       "    max-height: 300px;\n",
       "    overflow: auto;\n",
       "  }\n",
       "  table, th, td {\n",
       "    border: 1px solid black;\n",
       "    border-collapse: collapse;\n",
       "  }\n",
       "  th, td {\n",
       "    padding: 5px;\n",
       "  }\n",
       "  th {\n",
       "    text-align: left;\n",
       "  }\n",
       "</style><div class='table-result-container'><table class='table-result'><thead style='background-color: white'><tr><th>name</th><th>marks</th><th>status</th><th>attendence</th></tr></thead><tbody><tr><td>ashutosh</td><td>80</td><td>P</td><td>90</td></tr><tr><td>ravi</td><td>45</td><td>F</td><td>20</td></tr><tr><td>rakesh</td><td>55</td><td>F</td><td>40</td></tr><tr><td>sunny</td><td>null</td><td>P</td><td>90</td></tr><tr><td>sanidhia</td><td>75</td><td>P</td><td>90</td></tr></tbody></table></div>"
      ]
     },
     "metadata": {
      "application/vnd.databricks.v1+output": {
       "addedWidgets": {},
       "aggData": [],
       "aggError": "",
       "aggOverflow": false,
       "aggSchema": [],
       "aggSeriesLimitReached": false,
       "aggType": "",
       "arguments": {},
       "columnCustomDisplayInfos": {},
       "data": [
        [
         "ashutosh",
         "80",
         "P",
         90
        ],
        [
         "ravi",
         "45",
         "F",
         20
        ],
        [
         "rakesh",
         "55",
         "F",
         40
        ],
        [
         "sunny",
         "null",
         "P",
         90
        ],
        [
         "sanidhia",
         "75",
         "P",
         90
        ]
       ],
       "datasetInfos": [],
       "dbfsResultPath": null,
       "isJsonSchema": true,
       "metadata": {},
       "overflow": false,
       "plotOptions": {
        "customPlotOptions": {},
        "displayType": "table",
        "pivotAggregation": null,
        "pivotColumns": null,
        "xColumns": null,
        "yColumns": null
       },
       "removedWidgets": [],
       "schema": [
        {
         "metadata": "{}",
         "name": "name",
         "type": "\"string\""
        },
        {
         "metadata": "{}",
         "name": "marks",
         "type": "\"string\""
        },
        {
         "metadata": "{}",
         "name": "status",
         "type": "\"string\""
        },
        {
         "metadata": "{}",
         "name": "attendence",
         "type": "\"long\""
        }
       ],
       "type": "table"
      }
     },
     "output_type": "display_data"
    }
   ],
   "source": [
    "data_student = [(\"ashutosh\",\"80\",\"P\",90),\n",
    "                (\"ravi\",\"45\",\"F\",20),\n",
    "                (\"rakesh\",\"55\",\"F\",40),\n",
    "                (\"sunny\",\"null\",\"P\",90)\n",
    "                ,(\"sanidhia\",\"75\",\"P\",90)] # Create sample student data as a list of tuples.\n",
    "# Each tuple represents a student record with the following fields:\n",
    "# (name, marks, status, attendence)\n",
    "# - 'marks' contains numeric values as strings, with \"null\" representing missing data.\n",
    "# - 'status' could be \"P\" (pass) or \"F\" (fail).\n",
    "# - 'attendence' represents the attendance score.\n",
    "df=spark.createDataFrame(data= data_student , schema =[\"name\",\"marks\",\"status\",\"attendence\"]) # Create a Spark DataFrame using the sample student data and specify the schema.\n",
    "display(df) # Display the DataFrame in an interactive tabular view in Databricks."
   ]
  },
  {
   "cell_type": "code",
   "execution_count": 0,
   "metadata": {
    "application/vnd.databricks.v1+cell": {
     "cellMetadata": {
      "byteLimit": 2048000,
      "rowLimit": 10000
     },
     "inputWidgets": {},
     "nuid": "a4084c95-e19b-435f-9ee2-da24f40c766b",
     "showTitle": true,
     "tableResultSettingsMap": {},
     "title": "Update the column"
    }
   },
   "outputs": [
    {
     "output_type": "display_data",
     "data": {
      "text/html": [
       "<style scoped>\n",
       "  .table-result-container {\n",
       "    max-height: 300px;\n",
       "    overflow: auto;\n",
       "  }\n",
       "  table, th, td {\n",
       "    border: 1px solid black;\n",
       "    border-collapse: collapse;\n",
       "  }\n",
       "  th, td {\n",
       "    padding: 5px;\n",
       "  }\n",
       "  th {\n",
       "    text-align: left;\n",
       "  }\n",
       "</style><div class='table-result-container'><table class='table-result'><thead style='background-color: white'><tr><th>name</th><th>marks</th><th>status</th><th>attendence</th></tr></thead><tbody><tr><td>ashutosh</td><td>80</td><td>pass</td><td>90</td></tr><tr><td>ravi</td><td>45</td><td>fail</td><td>20</td></tr><tr><td>rakesh</td><td>55</td><td>pass</td><td>40</td></tr><tr><td>sunny</td><td>null</td><td>absent</td><td>90</td></tr><tr><td>sanidhia</td><td>75</td><td>pass</td><td>90</td></tr></tbody></table></div>"
      ]
     },
     "metadata": {
      "application/vnd.databricks.v1+output": {
       "addedWidgets": {},
       "aggData": [],
       "aggError": "",
       "aggOverflow": false,
       "aggSchema": [],
       "aggSeriesLimitReached": false,
       "aggType": "",
       "arguments": {},
       "columnCustomDisplayInfos": {},
       "data": [
        [
         "ashutosh",
         "80",
         "pass",
         90
        ],
        [
         "ravi",
         "45",
         "fail",
         20
        ],
        [
         "rakesh",
         "55",
         "pass",
         40
        ],
        [
         "sunny",
         "null",
         "absent",
         90
        ],
        [
         "sanidhia",
         "75",
         "pass",
         90
        ]
       ],
       "datasetInfos": [],
       "dbfsResultPath": null,
       "isJsonSchema": true,
       "metadata": {},
       "overflow": false,
       "plotOptions": {
        "customPlotOptions": {},
        "displayType": "table",
        "pivotAggregation": null,
        "pivotColumns": null,
        "xColumns": null,
        "yColumns": null
       },
       "removedWidgets": [],
       "schema": [
        {
         "metadata": "{}",
         "name": "name",
         "type": "\"string\""
        },
        {
         "metadata": "{}",
         "name": "marks",
         "type": "\"string\""
        },
        {
         "metadata": "{}",
         "name": "status",
         "type": "\"string\""
        },
        {
         "metadata": "{}",
         "name": "attendence",
         "type": "\"long\""
        }
       ],
       "type": "table"
      }
     },
     "output_type": "display_data"
    }
   ],
   "source": [
    "from pyspark.sql.functions import * # Import all built-in PySpark SQL functions.\n",
    "df1= df.withColumn(\"status\",when(df.marks>=50,\"pass\")\n",
    "                            .when(df.marks<50,\"fail\")\n",
    "                            .otherwise(\"absent\")) # Create a new DataFrame 'df1' by updating the 'status' column based on 'marks':\n",
    "# - If marks >= 50, set status to \"pass\"\n",
    "# - If marks < 50, set status to \"fail\"\n",
    "# - Otherwise (e.g., null values), set status to \"absent\"\n",
    "display(df1) # Display the updated DataFrame in an interactive tabular view in Databricks."
   ]
  },
  {
   "cell_type": "code",
   "execution_count": 0,
   "metadata": {
    "application/vnd.databricks.v1+cell": {
     "cellMetadata": {
      "byteLimit": 2048000,
      "rowLimit": 10000
     },
     "inputWidgets": {},
     "nuid": "ca2a16b6-61ab-45e8-ac25-3997090bf0bd",
     "showTitle": true,
     "tableResultSettingsMap": {},
     "title": "create new column"
    }
   },
   "outputs": [
    {
     "output_type": "display_data",
     "data": {
      "text/html": [
       "<style scoped>\n",
       "  .table-result-container {\n",
       "    max-height: 300px;\n",
       "    overflow: auto;\n",
       "  }\n",
       "  table, th, td {\n",
       "    border: 1px solid black;\n",
       "    border-collapse: collapse;\n",
       "  }\n",
       "  th, td {\n",
       "    padding: 5px;\n",
       "  }\n",
       "  th {\n",
       "    text-align: left;\n",
       "  }\n",
       "</style><div class='table-result-container'><table class='table-result'><thead style='background-color: white'><tr><th>name</th><th>marks</th><th>status</th><th>attendence</th><th>new_status</th></tr></thead><tbody><tr><td>ashutosh</td><td>80</td><td>P</td><td>90</td><td>pass</td></tr><tr><td>ravi</td><td>45</td><td>F</td><td>20</td><td>fail</td></tr><tr><td>rakesh</td><td>55</td><td>F</td><td>40</td><td>pass</td></tr><tr><td>sunny</td><td>null</td><td>P</td><td>90</td><td>absent</td></tr><tr><td>sanidhia</td><td>75</td><td>P</td><td>90</td><td>pass</td></tr></tbody></table></div>"
      ]
     },
     "metadata": {
      "application/vnd.databricks.v1+output": {
       "addedWidgets": {},
       "aggData": [],
       "aggError": "",
       "aggOverflow": false,
       "aggSchema": [],
       "aggSeriesLimitReached": false,
       "aggType": "",
       "arguments": {},
       "columnCustomDisplayInfos": {},
       "data": [
        [
         "ashutosh",
         "80",
         "P",
         90,
         "pass"
        ],
        [
         "ravi",
         "45",
         "F",
         20,
         "fail"
        ],
        [
         "rakesh",
         "55",
         "F",
         40,
         "pass"
        ],
        [
         "sunny",
         "null",
         "P",
         90,
         "absent"
        ],
        [
         "sanidhia",
         "75",
         "P",
         90,
         "pass"
        ]
       ],
       "datasetInfos": [],
       "dbfsResultPath": null,
       "isJsonSchema": true,
       "metadata": {},
       "overflow": false,
       "plotOptions": {
        "customPlotOptions": {},
        "displayType": "table",
        "pivotAggregation": null,
        "pivotColumns": null,
        "xColumns": null,
        "yColumns": null
       },
       "removedWidgets": [],
       "schema": [
        {
         "metadata": "{}",
         "name": "name",
         "type": "\"string\""
        },
        {
         "metadata": "{}",
         "name": "marks",
         "type": "\"string\""
        },
        {
         "metadata": "{}",
         "name": "status",
         "type": "\"string\""
        },
        {
         "metadata": "{}",
         "name": "attendence",
         "type": "\"long\""
        },
        {
         "metadata": "{}",
         "name": "new_status",
         "type": "\"string\""
        }
       ],
       "type": "table"
      }
     },
     "output_type": "display_data"
    }
   ],
   "source": [
    "from pyspark.sql.functions import * # Import all built-in PySpark SQL functions.\n",
    "df2= df.withColumn(\"new_status\",when(df.marks>=50,\"pass\")\n",
    "                            .when(df.marks<50,\"fail\")\n",
    "                            .otherwise(\"absent\")) # Create a new DataFrame 'df2' by adding a new column 'new_status' based on the 'marks' column:\n",
    "# - If marks >= 50, set new_status to \"pass\"\n",
    "# - If marks < 50, set new_status to \"fail\"\n",
    "# - Otherwise (e.g., null or missing marks), set new_status to \"absent\"\n",
    "display(df2) # Display the updated DataFrame in an interactive tabular view in Databricks."
   ]
  },
  {
   "cell_type": "code",
   "execution_count": 0,
   "metadata": {
    "application/vnd.databricks.v1+cell": {
     "cellMetadata": {
      "byteLimit": 2048000,
      "rowLimit": 10000
     },
     "inputWidgets": {},
     "nuid": "6222003d-fd41-434a-8587-a703d38d8555",
     "showTitle": true,
     "tableResultSettingsMap": {},
     "title": "Another Syntax method"
    }
   },
   "outputs": [
    {
     "output_type": "display_data",
     "data": {
      "text/html": [
       "<style scoped>\n",
       "  .table-result-container {\n",
       "    max-height: 300px;\n",
       "    overflow: auto;\n",
       "  }\n",
       "  table, th, td {\n",
       "    border: 1px solid black;\n",
       "    border-collapse: collapse;\n",
       "  }\n",
       "  th, td {\n",
       "    padding: 5px;\n",
       "  }\n",
       "  th {\n",
       "    text-align: left;\n",
       "  }\n",
       "</style><div class='table-result-container'><table class='table-result'><thead style='background-color: white'><tr><th>name</th><th>marks</th><th>status</th><th>attendence</th><th>new_status</th></tr></thead><tbody><tr><td>ashutosh</td><td>80</td><td>P</td><td>90</td><td>PASS</td></tr><tr><td>ravi</td><td>45</td><td>F</td><td>20</td><td>FAIL</td></tr><tr><td>rakesh</td><td>55</td><td>F</td><td>40</td><td>PASS</td></tr><tr><td>sunny</td><td>null</td><td>P</td><td>90</td><td>Absent</td></tr><tr><td>sanidhia</td><td>75</td><td>P</td><td>90</td><td>PASS</td></tr></tbody></table></div>"
      ]
     },
     "metadata": {
      "application/vnd.databricks.v1+output": {
       "addedWidgets": {},
       "aggData": [],
       "aggError": "",
       "aggOverflow": false,
       "aggSchema": [],
       "aggSeriesLimitReached": false,
       "aggType": "",
       "arguments": {},
       "columnCustomDisplayInfos": {},
       "data": [
        [
         "ashutosh",
         "80",
         "P",
         90,
         "PASS"
        ],
        [
         "ravi",
         "45",
         "F",
         20,
         "FAIL"
        ],
        [
         "rakesh",
         "55",
         "F",
         40,
         "PASS"
        ],
        [
         "sunny",
         "null",
         "P",
         90,
         "Absent"
        ],
        [
         "sanidhia",
         "75",
         "P",
         90,
         "PASS"
        ]
       ],
       "datasetInfos": [],
       "dbfsResultPath": null,
       "isJsonSchema": true,
       "metadata": {},
       "overflow": false,
       "plotOptions": {
        "customPlotOptions": {},
        "displayType": "table",
        "pivotAggregation": null,
        "pivotColumns": null,
        "xColumns": null,
        "yColumns": null
       },
       "removedWidgets": [],
       "schema": [
        {
         "metadata": "{}",
         "name": "name",
         "type": "\"string\""
        },
        {
         "metadata": "{}",
         "name": "marks",
         "type": "\"string\""
        },
        {
         "metadata": "{}",
         "name": "status",
         "type": "\"string\""
        },
        {
         "metadata": "{}",
         "name": "attendence",
         "type": "\"long\""
        },
        {
         "metadata": "{}",
         "name": "new_status",
         "type": "\"string\""
        }
       ],
       "type": "table"
      }
     },
     "output_type": "display_data"
    }
   ],
   "source": [
    "from pyspark.sql.functions import * # Import all built-in PySpark SQL functions.\n",
    "\n",
    "df3 = df.withColumn(\"new_status\", expr(\n",
    "    \"CASE WHEN marks >= 50 THEN 'PASS' \" +\n",
    "    \"WHEN marks < 50 THEN 'FAIL' \" +\n",
    "    \"ELSE 'Absent' END\"\n",
    ")) # Create a new DataFrame 'df3' by adding a new column 'new_status' using SQL expression syntax.\n",
    "# - Use a CASE WHEN expression to assign values based on the 'marks' column:\n",
    "#     - If marks >= 50, set new_status to 'PASS'\n",
    "#     - If marks < 50, set new_status to 'FAIL'\n",
    "#     - Otherwise (e.g., null or missing marks), set new_status to 'Absent'\n",
    "\n",
    "display(df3) # Display the updated DataFrame in an interactive tabular view in Databricks.\n"
   ]
  },
  {
   "cell_type": "code",
   "execution_count": 0,
   "metadata": {
    "application/vnd.databricks.v1+cell": {
     "cellMetadata": {
      "byteLimit": 2048000,
      "rowLimit": 10000
     },
     "inputWidgets": {},
     "nuid": "f7f365d4-3493-49b0-bb81-0597564a8fe5",
     "showTitle": true,
     "tableResultSettingsMap": {},
     "title": "MultiCondition using and and or"
    }
   },
   "outputs": [
    {
     "output_type": "display_data",
     "data": {
      "text/html": [
       "<style scoped>\n",
       "  .table-result-container {\n",
       "    max-height: 300px;\n",
       "    overflow: auto;\n",
       "  }\n",
       "  table, th, td {\n",
       "    border: 1px solid black;\n",
       "    border-collapse: collapse;\n",
       "  }\n",
       "  th, td {\n",
       "    padding: 5px;\n",
       "  }\n",
       "  th {\n",
       "    text-align: left;\n",
       "  }\n",
       "</style><div class='table-result-container'><table class='table-result'><thead style='background-color: white'><tr><th>name</th><th>marks</th><th>status</th><th>attendence</th><th>grade</th></tr></thead><tbody><tr><td>ashutosh</td><td>80</td><td>P</td><td>90</td><td>A</td></tr><tr><td>ravi</td><td>45</td><td>F</td><td>20</td><td>C</td></tr><tr><td>rakesh</td><td>55</td><td>F</td><td>40</td><td>C</td></tr><tr><td>sunny</td><td>null</td><td>P</td><td>90</td><td>C</td></tr><tr><td>sanidhia</td><td>75</td><td>P</td><td>90</td><td>A</td></tr></tbody></table></div>"
      ]
     },
     "metadata": {
      "application/vnd.databricks.v1+output": {
       "addedWidgets": {},
       "aggData": [],
       "aggError": "",
       "aggOverflow": false,
       "aggSchema": [],
       "aggSeriesLimitReached": false,
       "aggType": "",
       "arguments": {},
       "columnCustomDisplayInfos": {},
       "data": [
        [
         "ashutosh",
         "80",
         "P",
         90,
         "A"
        ],
        [
         "ravi",
         "45",
         "F",
         20,
         "C"
        ],
        [
         "rakesh",
         "55",
         "F",
         40,
         "C"
        ],
        [
         "sunny",
         "null",
         "P",
         90,
         "C"
        ],
        [
         "sanidhia",
         "75",
         "P",
         90,
         "A"
        ]
       ],
       "datasetInfos": [],
       "dbfsResultPath": null,
       "isJsonSchema": true,
       "metadata": {},
       "overflow": false,
       "plotOptions": {
        "customPlotOptions": {},
        "displayType": "table",
        "pivotAggregation": null,
        "pivotColumns": null,
        "xColumns": null,
        "yColumns": null
       },
       "removedWidgets": [],
       "schema": [
        {
         "metadata": "{}",
         "name": "name",
         "type": "\"string\""
        },
        {
         "metadata": "{}",
         "name": "marks",
         "type": "\"string\""
        },
        {
         "metadata": "{}",
         "name": "status",
         "type": "\"string\""
        },
        {
         "metadata": "{}",
         "name": "attendence",
         "type": "\"long\""
        },
        {
         "metadata": "{}",
         "name": "grade",
         "type": "\"string\""
        }
       ],
       "type": "table"
      }
     },
     "output_type": "display_data"
    }
   ],
   "source": [
    "df4= df.withColumn(\"grade\",when((df.marks>=70) & (df.attendence>=70),\"A\")\n",
    "                            .when((df.marks>=50) & (df.attendence>=50),\"B\")\n",
    "                            .otherwise(\"C\")) # Create a new DataFrame 'df4' by adding a new column 'grade' based on 'marks' and 'attendence':\n",
    "# - If marks >= 70 AND attendence >= 70, assign grade \"A\"\n",
    "# - If marks >= 50 AND attendence >= 50, assign grade \"B\"\n",
    "# - Otherwise, assign grade \"C\"\n",
    "\n",
    "display(df4) # Display the updated DataFrame in an interactive tabular view in Databricks."
   ]
  },
  {
   "cell_type": "code",
   "execution_count": 0,
   "metadata": {
    "application/vnd.databricks.v1+cell": {
     "cellMetadata": {
      "byteLimit": 2048000,
      "rowLimit": 10000
     },
     "inputWidgets": {},
     "nuid": "3b80d82d-e283-4c5b-859f-1732d53fdd5e",
     "showTitle": false,
     "tableResultSettingsMap": {},
     "title": ""
    }
   },
   "outputs": [
    {
     "output_type": "display_data",
     "data": {
      "text/html": [
       "<style scoped>\n",
       "  .table-result-container {\n",
       "    max-height: 300px;\n",
       "    overflow: auto;\n",
       "  }\n",
       "  table, th, td {\n",
       "    border: 1px solid black;\n",
       "    border-collapse: collapse;\n",
       "  }\n",
       "  th, td {\n",
       "    padding: 5px;\n",
       "  }\n",
       "  th {\n",
       "    text-align: left;\n",
       "  }\n",
       "</style><div class='table-result-container'><table class='table-result'><thead style='background-color: white'><tr><th>name</th><th>marks</th><th>status</th><th>attendence</th><th>grade</th></tr></thead><tbody><tr><td>ashutosh</td><td>80</td><td>P</td><td>90</td><td>A</td></tr><tr><td>ravi</td><td>45</td><td>F</td><td>20</td><td>C</td></tr><tr><td>rakesh</td><td>55</td><td>F</td><td>40</td><td>B</td></tr><tr><td>sunny</td><td>null</td><td>P</td><td>90</td><td>A</td></tr><tr><td>sanidhia</td><td>75</td><td>P</td><td>90</td><td>A</td></tr></tbody></table></div>"
      ]
     },
     "metadata": {
      "application/vnd.databricks.v1+output": {
       "addedWidgets": {},
       "aggData": [],
       "aggError": "",
       "aggOverflow": false,
       "aggSchema": [],
       "aggSeriesLimitReached": false,
       "aggType": "",
       "arguments": {},
       "columnCustomDisplayInfos": {},
       "data": [
        [
         "ashutosh",
         "80",
         "P",
         90,
         "A"
        ],
        [
         "ravi",
         "45",
         "F",
         20,
         "C"
        ],
        [
         "rakesh",
         "55",
         "F",
         40,
         "B"
        ],
        [
         "sunny",
         "null",
         "P",
         90,
         "A"
        ],
        [
         "sanidhia",
         "75",
         "P",
         90,
         "A"
        ]
       ],
       "datasetInfos": [],
       "dbfsResultPath": null,
       "isJsonSchema": true,
       "metadata": {},
       "overflow": false,
       "plotOptions": {
        "customPlotOptions": {},
        "displayType": "table",
        "pivotAggregation": null,
        "pivotColumns": null,
        "xColumns": null,
        "yColumns": null
       },
       "removedWidgets": [],
       "schema": [
        {
         "metadata": "{}",
         "name": "name",
         "type": "\"string\""
        },
        {
         "metadata": "{}",
         "name": "marks",
         "type": "\"string\""
        },
        {
         "metadata": "{}",
         "name": "status",
         "type": "\"string\""
        },
        {
         "metadata": "{}",
         "name": "attendence",
         "type": "\"long\""
        },
        {
         "metadata": "{}",
         "name": "grade",
         "type": "\"string\""
        }
       ],
       "type": "table"
      }
     },
     "output_type": "display_data"
    }
   ],
   "source": [
    "df5= df.withColumn(\"grade\",when((df.marks>=70) |  (df.attendence>=70),\"A\")\n",
    "                            .when((df.marks>=50) | (df.attendence>=50),\"B\")\n",
    "                            .otherwise(\"C\")) # Create a new DataFrame 'df5' by adding a new column 'grade' based on 'marks' OR 'attendence':\n",
    "# - If marks >= 70 OR attendence >= 70, assign grade \"A\"\n",
    "# - If marks >= 50 OR attendence >= 50, assign grade \"B\"\n",
    "# - Otherwise, assign grade \"C\"\n",
    "display(df5) # Display the updated DataFrame in an interactive tabular view in Databricks."
   ]
  },
  {
   "cell_type": "code",
   "execution_count": 0,
   "metadata": {
    "application/vnd.databricks.v1+cell": {
     "cellMetadata": {
      "byteLimit": 2048000,
      "rowLimit": 10000
     },
     "inputWidgets": {},
     "nuid": "3de8cdc2-1ecd-4860-a59a-06055a609e50",
     "showTitle": true,
     "tableResultSettingsMap": {},
     "title": "sample data frame"
    }
   },
   "outputs": [],
   "source": [
    "data = [\n",
    "    (\"abc\", \"q1\", 1000),\n",
    "    (\"abc\", \"q2\", 2000),\n",
    "    (\"abc\", \"q3\", 3000),\n",
    "    (\"abc\", \"q3\", 4000),\n",
    "    (\"abc\", \"q2\", 5000),\n",
    "    (\"xyz\", \"q3\", 6000),\n",
    "    (\"xyz\", \"q1\", 7000),\n",
    "    (\"xyz\", \"q2\", 8000)\n",
    "] # Create sample data representing amounts for different people across quarters.\n",
    "# Each tuple represents a record: (name, quarter, amount)\n",
    "\n",
    "# Create DataFrame\n",
    "df_custom = spark.createDataFrame(data, schema=[\"name\", \"quarter\", \"amount\"])\n"
   ]
  },
  {
   "cell_type": "code",
   "execution_count": 0,
   "metadata": {
    "application/vnd.databricks.v1+cell": {
     "cellMetadata": {
      "byteLimit": 2048000,
      "rowLimit": 10000
     },
     "inputWidgets": {},
     "nuid": "de2fb571-e5e8-439c-99b9-da0428f4139c",
     "showTitle": false,
     "tableResultSettingsMap": {},
     "title": ""
    }
   },
   "outputs": [
    {
     "output_type": "display_data",
     "data": {
      "text/html": [
       "<style scoped>\n",
       "  .table-result-container {\n",
       "    max-height: 300px;\n",
       "    overflow: auto;\n",
       "  }\n",
       "  table, th, td {\n",
       "    border: 1px solid black;\n",
       "    border-collapse: collapse;\n",
       "  }\n",
       "  th, td {\n",
       "    padding: 5px;\n",
       "  }\n",
       "  th {\n",
       "    text-align: left;\n",
       "  }\n",
       "</style><div class='table-result-container'><table class='table-result'><thead style='background-color: white'><tr><th>name</th><th>quarter</th><th>amount</th></tr></thead><tbody><tr><td>abc</td><td>q1</td><td>1000</td></tr><tr><td>abc</td><td>q2</td><td>2000</td></tr><tr><td>abc</td><td>q3</td><td>3000</td></tr><tr><td>abc</td><td>q3</td><td>4000</td></tr><tr><td>abc</td><td>q2</td><td>5000</td></tr><tr><td>xyz</td><td>q3</td><td>6000</td></tr><tr><td>xyz</td><td>q1</td><td>7000</td></tr><tr><td>xyz</td><td>q2</td><td>8000</td></tr></tbody></table></div>"
      ]
     },
     "metadata": {
      "application/vnd.databricks.v1+output": {
       "addedWidgets": {},
       "aggData": [],
       "aggError": "",
       "aggOverflow": false,
       "aggSchema": [],
       "aggSeriesLimitReached": false,
       "aggType": "",
       "arguments": {},
       "columnCustomDisplayInfos": {},
       "data": [
        [
         "abc",
         "q1",
         1000
        ],
        [
         "abc",
         "q2",
         2000
        ],
        [
         "abc",
         "q3",
         3000
        ],
        [
         "abc",
         "q3",
         4000
        ],
        [
         "abc",
         "q2",
         5000
        ],
        [
         "xyz",
         "q3",
         6000
        ],
        [
         "xyz",
         "q1",
         7000
        ],
        [
         "xyz",
         "q2",
         8000
        ]
       ],
       "datasetInfos": [],
       "dbfsResultPath": null,
       "isJsonSchema": true,
       "metadata": {},
       "overflow": false,
       "plotOptions": {
        "customPlotOptions": {},
        "displayType": "table",
        "pivotAggregation": null,
        "pivotColumns": null,
        "xColumns": null,
        "yColumns": null
       },
       "removedWidgets": [],
       "schema": [
        {
         "metadata": "{}",
         "name": "name",
         "type": "\"string\""
        },
        {
         "metadata": "{}",
         "name": "quarter",
         "type": "\"string\""
        },
        {
         "metadata": "{}",
         "name": "amount",
         "type": "\"long\""
        }
       ],
       "type": "table"
      }
     },
     "output_type": "display_data"
    }
   ],
   "source": [
    "display(df_custom) # Display the DataFrame 'df_custom' in an interactive, tabular view in Databricks."
   ]
  },
  {
   "cell_type": "code",
   "execution_count": 0,
   "metadata": {
    "application/vnd.databricks.v1+cell": {
     "cellMetadata": {
      "byteLimit": 2048000,
      "rowLimit": 10000
     },
     "inputWidgets": {},
     "nuid": "c27bc209-61cc-4d3e-8e2d-02d58b90cdeb",
     "showTitle": true,
     "tableResultSettingsMap": {},
     "title": "Pivot a dataframe"
    }
   },
   "outputs": [
    {
     "output_type": "display_data",
     "data": {
      "text/html": [
       "<style scoped>\n",
       "  .table-result-container {\n",
       "    max-height: 300px;\n",
       "    overflow: auto;\n",
       "  }\n",
       "  table, th, td {\n",
       "    border: 1px solid black;\n",
       "    border-collapse: collapse;\n",
       "  }\n",
       "  th, td {\n",
       "    padding: 5px;\n",
       "  }\n",
       "  th {\n",
       "    text-align: left;\n",
       "  }\n",
       "</style><div class='table-result-container'><table class='table-result'><thead style='background-color: white'><tr><th>name</th><th>q1</th><th>q2</th><th>q3</th></tr></thead><tbody><tr><td>xyz</td><td>7000</td><td>8000</td><td>6000</td></tr><tr><td>abc</td><td>1000</td><td>7000</td><td>7000</td></tr></tbody></table></div>"
      ]
     },
     "metadata": {
      "application/vnd.databricks.v1+output": {
       "addedWidgets": {},
       "aggData": [],
       "aggError": "",
       "aggOverflow": false,
       "aggSchema": [],
       "aggSeriesLimitReached": false,
       "aggType": "",
       "arguments": {},
       "columnCustomDisplayInfos": {},
       "data": [
        [
         "xyz",
         7000,
         8000,
         6000
        ],
        [
         "abc",
         1000,
         7000,
         7000
        ]
       ],
       "datasetInfos": [],
       "dbfsResultPath": null,
       "isJsonSchema": true,
       "metadata": {},
       "overflow": false,
       "plotOptions": {
        "customPlotOptions": {},
        "displayType": "table",
        "pivotAggregation": null,
        "pivotColumns": null,
        "xColumns": null,
        "yColumns": null
       },
       "removedWidgets": [],
       "schema": [
        {
         "metadata": "{}",
         "name": "name",
         "type": "\"string\""
        },
        {
         "metadata": "{}",
         "name": "q1",
         "type": "\"long\""
        },
        {
         "metadata": "{}",
         "name": "q2",
         "type": "\"long\""
        },
        {
         "metadata": "{}",
         "name": "q3",
         "type": "\"long\""
        }
       ],
       "type": "table"
      }
     },
     "output_type": "display_data"
    }
   ],
   "source": [
    "pivot_df = df_custom.groupBy(\"name\").pivot(\"quarter\").sum(\"amount\") # Pivot the DataFrame 'df_custom' to summarize amounts by name and quarter.\n",
    "# - groupBy(\"name\"): group data by the 'name' column\n",
    "# - pivot(\"quarter\"): create separate columns for each unique value in 'quarter'\n",
    "# - sum(\"amount\"): aggregate the 'amount' values for each group and pivot column\n",
    "# The resulting DataFrame 'pivot_df' will have one row per name and columns for each quarter with summed amounts.\n",
    "# Display the pivoted DataFrame in an interactive tabular view in Databricks.\n",
    "display(pivot_df)"
   ]
  },
  {
   "cell_type": "code",
   "execution_count": 0,
   "metadata": {
    "application/vnd.databricks.v1+cell": {
     "cellMetadata": {
      "byteLimit": 2048000,
      "rowLimit": 10000
     },
     "inputWidgets": {},
     "nuid": "39e35d78-d108-46a2-9040-c4c6da1dd32a",
     "showTitle": false,
     "tableResultSettingsMap": {},
     "title": ""
    }
   },
   "outputs": [
    {
     "output_type": "stream",
     "name": "stdout",
     "output_type": "stream",
     "text": [
      "<pyspark.sql.group.GroupedData at 0x7f3dc60d0a60>"
     ]
    }
   ],
   "source": [
    "pivot_df4 = df4.groupBy(\"name\").pivot(\"status\") # Pivot the DataFrame 'df4' to reorganize data by 'name' and 'status'.\n",
    "# - groupBy(\"name\"): group data by the 'name' column\n",
    "# - pivot(\"status\"): create separate columns for each unique value in the 'status' column\n",
    "# The resulting DataFrame 'pivot_df4' will have one row per student and columns for each status category.\n",
    "# Display the pivoted DataFrame in an interactive tabular view in Databricks.\n",
    "display(pivot_df4)"
   ]
  },
  {
   "cell_type": "code",
   "execution_count": 0,
   "metadata": {
    "application/vnd.databricks.v1+cell": {
     "cellMetadata": {
      "byteLimit": 2048000,
      "rowLimit": 10000
     },
     "inputWidgets": {},
     "nuid": "e26989eb-9e89-40ff-944b-28b83823de87",
     "showTitle": false,
     "tableResultSettingsMap": {},
     "title": ""
    }
   },
   "outputs": [],
   "source": [
    "unpivot_df = pivot_df.selectExpr(\"name\", \"stack(3, 'q1', q1, 'q2', q2, 'q3', q3) as (quarter, amount)\") # Unpivot (melt) the pivoted DataFrame 'pivot_df' back into a long format using `stack`.\n",
    "# - `stack(3, 'q1', q1, 'q2', q2, 'q3', q3)` transforms 3 quarter columns into two columns: \n",
    "#    'quarter' (column name) and 'amount' (column value)\n",
    "# - The resulting DataFrame 'unpivot_df' will have one row per name per quarter.\n"
   ]
  },
  {
   "cell_type": "code",
   "execution_count": 0,
   "metadata": {
    "application/vnd.databricks.v1+cell": {
     "cellMetadata": {
      "byteLimit": 2048000,
      "rowLimit": 10000
     },
     "inputWidgets": {},
     "nuid": "535a468b-80ee-43c0-8653-4da98bb8cc43",
     "showTitle": false,
     "tableResultSettingsMap": {},
     "title": ""
    }
   },
   "outputs": [
    {
     "output_type": "display_data",
     "data": {
      "text/html": [
       "<style scoped>\n",
       "  .table-result-container {\n",
       "    max-height: 300px;\n",
       "    overflow: auto;\n",
       "  }\n",
       "  table, th, td {\n",
       "    border: 1px solid black;\n",
       "    border-collapse: collapse;\n",
       "  }\n",
       "  th, td {\n",
       "    padding: 5px;\n",
       "  }\n",
       "  th {\n",
       "    text-align: left;\n",
       "  }\n",
       "</style><div class='table-result-container'><table class='table-result'><thead style='background-color: white'><tr><th>name</th><th>quarter</th><th>amount</th></tr></thead><tbody><tr><td>xyz</td><td>q1</td><td>7000</td></tr><tr><td>xyz</td><td>q2</td><td>8000</td></tr><tr><td>xyz</td><td>q3</td><td>6000</td></tr><tr><td>abc</td><td>q1</td><td>1000</td></tr><tr><td>abc</td><td>q2</td><td>7000</td></tr><tr><td>abc</td><td>q3</td><td>7000</td></tr></tbody></table></div>"
      ]
     },
     "metadata": {
      "application/vnd.databricks.v1+output": {
       "addedWidgets": {},
       "aggData": [],
       "aggError": "",
       "aggOverflow": false,
       "aggSchema": [],
       "aggSeriesLimitReached": false,
       "aggType": "",
       "arguments": {},
       "columnCustomDisplayInfos": {},
       "data": [
        [
         "xyz",
         "q1",
         7000
        ],
        [
         "xyz",
         "q2",
         8000
        ],
        [
         "xyz",
         "q3",
         6000
        ],
        [
         "abc",
         "q1",
         1000
        ],
        [
         "abc",
         "q2",
         7000
        ],
        [
         "abc",
         "q3",
         7000
        ]
       ],
       "datasetInfos": [],
       "dbfsResultPath": null,
       "isJsonSchema": true,
       "metadata": {},
       "overflow": false,
       "plotOptions": {
        "customPlotOptions": {},
        "displayType": "table",
        "pivotAggregation": null,
        "pivotColumns": null,
        "xColumns": null,
        "yColumns": null
       },
       "removedWidgets": [],
       "schema": [
        {
         "metadata": "{}",
         "name": "name",
         "type": "\"string\""
        },
        {
         "metadata": "{}",
         "name": "quarter",
         "type": "\"string\""
        },
        {
         "metadata": "{}",
         "name": "amount",
         "type": "\"long\""
        }
       ],
       "type": "table"
      }
     },
     "output_type": "display_data"
    }
   ],
   "source": [
    "display(unpivot_df) # Display the unpivoted DataFrame 'unpivot_df' in an interactive tabular view in Databricks."
   ]
  },
  {
   "cell_type": "code",
   "execution_count": 0,
   "metadata": {
    "application/vnd.databricks.v1+cell": {
     "cellMetadata": {
      "byteLimit": 2048000,
      "rowLimit": 10000
     },
     "inputWidgets": {},
     "nuid": "a3058a88-b39e-4825-9074-ecacdb9ae4f3",
     "showTitle": false,
     "tableResultSettingsMap": {},
     "title": ""
    }
   },
   "outputs": [],
   "source": []
  }
 ],
 "metadata": {
  "application/vnd.databricks.v1+notebook": {
   "computePreferences": null,
   "dashboards": [],
   "environmentMetadata": null,
   "inputWidgetPreferences": null,
   "language": "python",
   "notebookMetadata": {
    "pythonIndentUnit": 4
   },
   "notebookName": "07 - Pyspark Switch Case",
   "widgets": {}
  }
 },
 "nbformat": 4,
 "nbformat_minor": 0
}