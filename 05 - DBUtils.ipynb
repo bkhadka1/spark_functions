{
 "cells": [
  {
   "cell_type": "code",
   "execution_count": 0,
   "metadata": {
    "application/vnd.databricks.v1+cell": {
     "cellMetadata": {
      "byteLimit": 2048000,
      "rowLimit": 10000
     },
     "inputWidgets": {},
     "nuid": "a04809d1-f6c4-4b4e-85e8-813904ae4247",
     "showTitle": false,
     "title": ""
    }
   },
   "outputs": [],
   "source": [
    "# dbutils.fs.help()\n",
    "# dbutils.notebook.help()\n",
    "# dbutils.widgets.help()\n",
    "# dbutils.secrets.help(\"get\")\n",
    "# dbutils.fs.help(\"cp\")\n",
    "# dbutils.notebook.help(\"exit\")"
   ]
  },
  {
   "cell_type": "code",
   "execution_count": 0,
   "metadata": {
    "application/vnd.databricks.v1+cell": {
     "cellMetadata": {
      "byteLimit": 2048000,
      "rowLimit": 10000
     },
     "inputWidgets": {},
     "nuid": "72ae22cd-d8a5-4c4b-86d5-8dcf2cf19a03",
     "showTitle": true,
     "title": "dbutils.fs.help()"
    }
   },
   "outputs": [
    {
     "output_type": "display_data",
     "data": {
      "text/html": [
       "<div class = \"ansiout\"><b>dbutils.fs</b> provides utilities for working with FileSystems. Most methods in\n",
       "this package can take either a DBFS path (e.g., \"/foo\" or \"dbfs:/foo\"), or\n",
       "another FileSystem URI.\n",
       "\n",
       "For more info about a method, use <b>dbutils.fs.help(\"methodName\")</b>.\n",
       "\n",
       "In notebooks, you can also use the %fs shorthand to access DBFS. The %fs shorthand maps\n",
       "straightforwardly onto dbutils calls. For example, \"%fs head --maxBytes=10000 /file/path\"\n",
       "translates into \"dbutils.fs.head(\"/file/path\", maxBytes = 10000)\".\n",
       "    <h3>fsutils</h3><b>cp(from: String, to: String, recurse: boolean = false): boolean</b> -> Copies a file or directory, possibly across FileSystems<br /><b>head(file: String, maxBytes: int = 65536): String</b> -> Returns up to the first 'maxBytes' bytes of the given file as a String encoded in UTF-8<br /><b>ls(dir: String): Seq</b> -> Lists the contents of a directory<br /><b>mkdirs(dir: String): boolean</b> -> Creates the given directory if it does not exist, also creating any necessary parent directories<br /><b>mv(from: String, to: String, recurse: boolean = false): boolean</b> -> Moves a file or directory, possibly across FileSystems<br /><b>put(file: String, contents: String, overwrite: boolean = false): boolean</b> -> Writes the given String out to a file, encoded in UTF-8<br /><b>rm(dir: String, recurse: boolean = false): boolean</b> -> Removes a file or directory<br /><br /><h3>mount</h3><b>mount(source: String, mountPoint: String, encryptionType: String = \"\", owner: String = null, extraConfigs: Map = Map.empty[String, String]): boolean</b> -> Mounts the given source directory into DBFS at the given mount point<br /><b>mounts: Seq</b> -> Displays information about what is mounted within DBFS<br /><b>refreshMounts: boolean</b> -> Forces all machines in this cluster to refresh their mount cache, ensuring they receive the most recent information<br /><b>unmount(mountPoint: String): boolean</b> -> Deletes a DBFS mount point<br /><b>updateMount(source: String, mountPoint: String, encryptionType: String = \"\", owner: String = null, extraConfigs: Map = Map.empty[String, String]): boolean</b> -> Similar to mount(), but updates an existing mount point (if present) instead of creating a new one<br /><br /></div>"
      ]
     },
     "metadata": {
      "application/vnd.databricks.v1+output": {
       "addedWidgets": {},
       "arguments": {},
       "data": "<div class = \"ansiout\"><b>dbutils.fs</b> provides utilities for working with FileSystems. Most methods in\nthis package can take either a DBFS path (e.g., \"/foo\" or \"dbfs:/foo\"), or\nanother FileSystem URI.\n\nFor more info about a method, use <b>dbutils.fs.help(\"methodName\")</b>.\n\nIn notebooks, you can also use the %fs shorthand to access DBFS. The %fs shorthand maps\nstraightforwardly onto dbutils calls. For example, \"%fs head --maxBytes=10000 /file/path\"\ntranslates into \"dbutils.fs.head(\"/file/path\", maxBytes = 10000)\".\n    <h3>fsutils</h3><b>cp(from: String, to: String, recurse: boolean = false): boolean</b> -> Copies a file or directory, possibly across FileSystems<br /><b>head(file: String, maxBytes: int = 65536): String</b> -> Returns up to the first 'maxBytes' bytes of the given file as a String encoded in UTF-8<br /><b>ls(dir: String): Seq</b> -> Lists the contents of a directory<br /><b>mkdirs(dir: String): boolean</b> -> Creates the given directory if it does not exist, also creating any necessary parent directories<br /><b>mv(from: String, to: String, recurse: boolean = false): boolean</b> -> Moves a file or directory, possibly across FileSystems<br /><b>put(file: String, contents: String, overwrite: boolean = false): boolean</b> -> Writes the given String out to a file, encoded in UTF-8<br /><b>rm(dir: String, recurse: boolean = false): boolean</b> -> Removes a file or directory<br /><br /><h3>mount</h3><b>mount(source: String, mountPoint: String, encryptionType: String = \"\", owner: String = null, extraConfigs: Map = Map.empty[String, String]): boolean</b> -> Mounts the given source directory into DBFS at the given mount point<br /><b>mounts: Seq</b> -> Displays information about what is mounted within DBFS<br /><b>refreshMounts: boolean</b> -> Forces all machines in this cluster to refresh their mount cache, ensuring they receive the most recent information<br /><b>unmount(mountPoint: String): boolean</b> -> Deletes a DBFS mount point<br /><b>updateMount(source: String, mountPoint: String, encryptionType: String = \"\", owner: String = null, extraConfigs: Map = Map.empty[String, String]): boolean</b> -> Similar to mount(), but updates an existing mount point (if present) instead of creating a new one<br /><br /></div>",
       "datasetInfos": [],
       "metadata": {},
       "removedWidgets": [],
       "textData": null,
       "type": "htmlSandbox"
      }
     },
     "output_type": "display_data"
    }
   ],
   "source": [
    "dbutils.fs.cp()"
   ]
  },
  {
   "cell_type": "code",
   "execution_count": 0,
   "metadata": {
    "application/vnd.databricks.v1+cell": {
     "cellMetadata": {
      "byteLimit": 2048000,
      "rowLimit": 10000
     },
     "inputWidgets": {},
     "nuid": "d46dfc8c-ec52-4385-be60-4b5e3db46182",
     "showTitle": true,
     "title": "dbutils.notebook.help()"
    }
   },
   "outputs": [
    {
     "output_type": "display_data",
     "data": {
      "text/html": [
       "<div class = \"ansiout\">\n",
       "The notebook module.\n",
       "  <h3></h3><b>exit(value: String): void</b> -> This method lets you exit a notebook with a value<br /><b>run(path: String, timeoutSeconds: int, arguments: Map): String</b> -> This method runs a notebook and returns its exit value<br /><br /></div>"
      ]
     },
     "metadata": {
      "application/vnd.databricks.v1+output": {
       "addedWidgets": {},
       "arguments": {},
       "data": "<div class = \"ansiout\">\nThe notebook module.\n  <h3></h3><b>exit(value: String): void</b> -> This method lets you exit a notebook with a value<br /><b>run(path: String, timeoutSeconds: int, arguments: Map): String</b> -> This method runs a notebook and returns its exit value<br /><br /></div>",
       "datasetInfos": [],
       "metadata": {},
       "removedWidgets": [],
       "textData": null,
       "type": "htmlSandbox"
      }
     },
     "output_type": "display_data"
    }
   ],
   "source": [
    "dbutils.notebook.help()"
   ]
  },
  {
   "cell_type": "code",
   "execution_count": 0,
   "metadata": {
    "application/vnd.databricks.v1+cell": {
     "cellMetadata": {
      "byteLimit": 2048000,
      "rowLimit": 10000
     },
     "inputWidgets": {},
     "nuid": "1816ea1c-9ef2-4dc0-ad5d-72b615d810b2",
     "showTitle": true,
     "title": "dbutils.widgets.help()"
    }
   },
   "outputs": [
    {
     "output_type": "display_data",
     "data": {
      "text/html": [
       "<div class = \"ansiout\"><b>dbutils.widgets</b> provides utilities for working with notebook widgets. You can create\n",
       "different types of widgets and get their bound value.\n",
       "\n",
       "For more info about a method, use <b>dbutils.widgets.help(\"methodName\")</b>.\n",
       "    <h3></h3><b>combobox(name: String, defaultValue: String, choices: Seq, label: String): void</b> -> Creates a combobox input widget with a given name, default value and choices<br /><b>dropdown(name: String, defaultValue: String, choices: Seq, label: String): void</b> -> Creates a dropdown input widget a with given name, default value and choices<br /><b>get(name: String): String</b> -> Retrieves current value of an input widget<br /><b>getArgument(name: String, optional: String): String</b> -> (DEPRECATED) Equivalent to get<br /><b>multiselect(name: String, defaultValue: String, choices: Seq, label: String): void</b> -> Creates a multiselect input widget with a given name, default value and choices<br /><b>remove(name: String): void</b> -> Removes an input widget from the notebook<br /><b>removeAll: void</b> -> Removes all widgets in the notebook<br /><b>text(name: String, defaultValue: String, label: String): void</b> -> Creates a text input widget with a given name and default value<br /><br /></div>"
      ]
     },
     "metadata": {
      "application/vnd.databricks.v1+output": {
       "addedWidgets": {},
       "arguments": {},
       "data": "<div class = \"ansiout\"><b>dbutils.widgets</b> provides utilities for working with notebook widgets. You can create\ndifferent types of widgets and get their bound value.\n\nFor more info about a method, use <b>dbutils.widgets.help(\"methodName\")</b>.\n    <h3></h3><b>combobox(name: String, defaultValue: String, choices: Seq, label: String): void</b> -> Creates a combobox input widget with a given name, default value and choices<br /><b>dropdown(name: String, defaultValue: String, choices: Seq, label: String): void</b> -> Creates a dropdown input widget a with given name, default value and choices<br /><b>get(name: String): String</b> -> Retrieves current value of an input widget<br /><b>getArgument(name: String, optional: String): String</b> -> (DEPRECATED) Equivalent to get<br /><b>multiselect(name: String, defaultValue: String, choices: Seq, label: String): void</b> -> Creates a multiselect input widget with a given name, default value and choices<br /><b>remove(name: String): void</b> -> Removes an input widget from the notebook<br /><b>removeAll: void</b> -> Removes all widgets in the notebook<br /><b>text(name: String, defaultValue: String, label: String): void</b> -> Creates a text input widget with a given name and default value<br /><br /></div>",
       "datasetInfos": [],
       "metadata": {},
       "removedWidgets": [],
       "textData": null,
       "type": "htmlSandbox"
      }
     },
     "output_type": "display_data"
    }
   ],
   "source": [
    "dbutils.widgets.help()"
   ]
  },
  {
   "cell_type": "code",
   "execution_count": 0,
   "metadata": {
    "application/vnd.databricks.v1+cell": {
     "cellMetadata": {
      "byteLimit": 2048000,
      "rowLimit": 10000
     },
     "inputWidgets": {},
     "nuid": "c5b9eef5-35d4-45db-b14e-c734f6086d2a",
     "showTitle": true,
     "title": "dbutils.secrets.help()"
    }
   },
   "outputs": [
    {
     "output_type": "display_data",
     "data": {
      "text/html": [
       "<div class = \"ansiout\">\n",
       "Provides utilities for leveraging secrets within notebooks.\n",
       "Databricks documentation for more info.\n",
       "    <h3></h3><b>get(scope: String, key: String): String</b> -> Gets the string representation of a secret value with scope and key<br /><b>getBytes(scope: String, key: String): byte[]</b> -> Gets the bytes representation of a secret value with scope and key<br /><b>list(scope: String): Seq</b> -> Lists secret metadata for secrets within a scope<br /><b>listScopes: Seq</b> -> Lists secret scopes<br /><br /></div>"
      ]
     },
     "metadata": {
      "application/vnd.databricks.v1+output": {
       "addedWidgets": {},
       "arguments": {},
       "data": "<div class = \"ansiout\">\nProvides utilities for leveraging secrets within notebooks.\nDatabricks documentation for more info.\n    <h3></h3><b>get(scope: String, key: String): String</b> -> Gets the string representation of a secret value with scope and key<br /><b>getBytes(scope: String, key: String): byte[]</b> -> Gets the bytes representation of a secret value with scope and key<br /><b>list(scope: String): Seq</b> -> Lists secret metadata for secrets within a scope<br /><b>listScopes: Seq</b> -> Lists secret scopes<br /><br /></div>",
       "datasetInfos": [],
       "metadata": {},
       "removedWidgets": [],
       "textData": null,
       "type": "htmlSandbox"
      }
     },
     "output_type": "display_data"
    }
   ],
   "source": [
    "dbutils.secrets.help()"
   ]
  },
  {
   "cell_type": "code",
   "execution_count": 0,
   "metadata": {
    "application/vnd.databricks.v1+cell": {
     "cellMetadata": {
      "byteLimit": 2048000,
      "rowLimit": 10000
     },
     "inputWidgets": {},
     "nuid": "57a7bf78-f637-465f-9622-8ed3174be424",
     "showTitle": true,
     "title": "dbutils.fs.help(\"cp\")"
    }
   },
   "outputs": [
    {
     "output_type": "display_data",
     "data": {
      "text/html": [
       "<div class = \"ansiout\">/**<br /> * Copies a file or directory, possibly across FileSystems..<br /> * <br /> * Example: cp(\"/mnt/my-folder/a\", \"s3n://bucket/b\")<br /> * <br /> * @param from FileSystem URI of the source file or directory<br /> * @param to FileSystem URI of the destination file or directory<br /> * @param recurse if true, all files and directories will be recursively copied<br /> * @return true if all files were successfully copied<br /> */<br /><b>cp(from: java.lang.String, to: java.lang.String, recurse: boolean = false): boolean</b></div><br />"
      ]
     },
     "metadata": {
      "application/vnd.databricks.v1+output": {
       "addedWidgets": {},
       "arguments": {},
       "data": "<div class = \"ansiout\">/**<br /> * Copies a file or directory, possibly across FileSystems..<br /> * <br /> * Example: cp(\"/mnt/my-folder/a\", \"s3n://bucket/b\")<br /> * <br /> * @param from FileSystem URI of the source file or directory<br /> * @param to FileSystem URI of the destination file or directory<br /> * @param recurse if true, all files and directories will be recursively copied<br /> * @return true if all files were successfully copied<br /> */<br /><b>cp(from: java.lang.String, to: java.lang.String, recurse: boolean = false): boolean</b></div><br />",
       "datasetInfos": [],
       "metadata": {},
       "removedWidgets": [],
       "textData": null,
       "type": "htmlSandbox"
      }
     },
     "output_type": "display_data"
    }
   ],
   "source": [
    "dbutils.fs.help(\"cp\")"
   ]
  },
  {
   "cell_type": "code",
   "execution_count": 0,
   "metadata": {
    "application/vnd.databricks.v1+cell": {
     "cellMetadata": {
      "byteLimit": 2048000,
      "rowLimit": 10000
     },
     "inputWidgets": {},
     "nuid": "c082399a-7fb5-424a-afb3-87c8c74d80dc",
     "showTitle": true,
     "title": "dbutils.notebook.help(\"exit\")"
    }
   },
   "outputs": [
    {
     "output_type": "display_data",
     "data": {
      "text/html": [
       "<div class = \"ansiout\">/**<br /> * This method lets you exit a notebook with a value.<br /> * <br /> * @param value the value to return when exiting<br /> */<br /><b>exit(value: java.lang.String): void</b></div><br />"
      ]
     },
     "metadata": {
      "application/vnd.databricks.v1+output": {
       "addedWidgets": {},
       "arguments": {},
       "data": "<div class = \"ansiout\">/**<br /> * This method lets you exit a notebook with a value.<br /> * <br /> * @param value the value to return when exiting<br /> */<br /><b>exit(value: java.lang.String): void</b></div><br />",
       "datasetInfos": [],
       "metadata": {},
       "removedWidgets": [],
       "textData": null,
       "type": "htmlSandbox"
      }
     },
     "output_type": "display_data"
    }
   ],
   "source": [
    "dbutils.notebook.help(\"exit\")"
   ]
  },
  {
   "cell_type": "code",
   "execution_count": 0,
   "metadata": {
    "application/vnd.databricks.v1+cell": {
     "cellMetadata": {
      "byteLimit": 2048000,
      "rowLimit": 10000
     },
     "inputWidgets": {},
     "nuid": "f3bbc679-47ae-4c64-b16a-b8ccdb216adf",
     "showTitle": true,
     "title": "DBUtils File System Commandas"
    }
   },
   "outputs": [
    {
     "output_type": "stream",
     "name": "stdout",
     "output_type": "stream",
     "text": [
      "Out[2]: [FileInfo(path='dbfs:/FileStore/tables/CAR_DETAILS_FROM_CAR_DEKHO.csv', name='CAR_DETAILS_FROM_CAR_DEKHO.csv', size=354635, modificationTime=1686563927000),\n FileInfo(path='dbfs:/FileStore/tables/CSV_User__1_.csv', name='CSV_User__1_.csv', size=82, modificationTime=1694400418000),\n FileInfo(path='dbfs:/FileStore/tables/Car_details_v3.csv', name='Car_details_v3.csv', size=1041637, modificationTime=1686563931000),\n FileInfo(path='dbfs:/FileStore/tables/Employee_Table.xlsx', name='Employee_Table.xlsx', size=12293, modificationTime=1694536761000),\n FileInfo(path='dbfs:/FileStore/tables/IPL_Ball_by_Ball_2008_2022.csv', name='IPL_Ball_by_Ball_2008_2022.csv', size=19949749, modificationTime=1686564143000),\n FileInfo(path='dbfs:/FileStore/tables/Payroll_Table.xlsx', name='Payroll_Table.xlsx', size=9539, modificationTime=1694536761000),\n FileInfo(path='dbfs:/FileStore/tables/batsman_runs_ipl.csv', name='batsman_runs_ipl.csv', size=8653, modificationTime=1686563924000),\n FileInfo(path='dbfs:/FileStore/tables/batsman_season_record.csv', name='batsman_season_record.csv', size=135, modificationTime=1686563924000),\n FileInfo(path='dbfs:/FileStore/tables/batter.csv', name='batter.csv', size=24420, modificationTime=1686563925000),\n FileInfo(path='dbfs:/FileStore/tables/bollywood.csv', name='bollywood.csv', size=46012, modificationTime=1686563925000),\n FileInfo(path='dbfs:/FileStore/tables/car_data.csv', name='car_data.csv', size=17209, modificationTime=1686563925000),\n FileInfo(path='dbfs:/FileStore/tables/car_details_v4.csv', name='car_details_v4.csv', size=352832, modificationTime=1686563929000),\n FileInfo(path='dbfs:/FileStore/tables/creditcard.csv', name='creditcard.csv', size=150828752, modificationTime=1686564758000),\n FileInfo(path='dbfs:/FileStore/tables/deliveries.csv', name='deliveries.csv', size=18235327, modificationTime=1686564032000),\n FileInfo(path='dbfs:/FileStore/tables/demo/', name='demo/', size=0, modificationTime=0),\n FileInfo(path='dbfs:/FileStore/tables/diabetes.csv', name='diabetes.csv', size=23875, modificationTime=1686564033000),\n FileInfo(path='dbfs:/FileStore/tables/imdb_top_1000.csv', name='imdb_top_1000.csv', size=87267, modificationTime=1679455707000),\n FileInfo(path='dbfs:/FileStore/tables/insurance.csv', name='insurance.csv', size=55628, modificationTime=1686564033000),\n FileInfo(path='dbfs:/FileStore/tables/ipl_matches.csv', name='ipl_matches.csv', size=471165, modificationTime=1686564146000),\n FileInfo(path='dbfs:/FileStore/tables/iris.csv', name='iris.csv', size=3867, modificationTime=1686564146000),\n FileInfo(path='dbfs:/FileStore/tables/kohli_ipl.csv', name='kohli_ipl.csv', size=1361, modificationTime=1686564147000),\n FileInfo(path='dbfs:/FileStore/tables/movies.csv', name='movies.csv', size=1933864, modificationTime=1686564158000),\n FileInfo(path='dbfs:/FileStore/tables/parquet/', name='parquet/', size=0, modificationTime=0),\n FileInfo(path='dbfs:/FileStore/tables/rootkey.csv', name='rootkey.csv', size=99, modificationTime=1690257835000),\n FileInfo(path='dbfs:/FileStore/tables/steam_checkpoint/', name='steam_checkpoint/', size=0, modificationTime=0),\n FileInfo(path='dbfs:/FileStore/tables/steam_read/', name='steam_read/', size=0, modificationTime=0),\n FileInfo(path='dbfs:/FileStore/tables/steam_write/', name='steam_write/', size=0, modificationTime=0),\n FileInfo(path='dbfs:/FileStore/tables/subs.csv', name='subs.csv', size=1357, modificationTime=1686564158000),\n FileInfo(path='dbfs:/FileStore/tables/test.csv', name='test.csv', size=28629, modificationTime=1686564159000),\n FileInfo(path='dbfs:/FileStore/tables/titanic.csv', name='titanic.csv', size=61192, modificationTime=1686564159000),\n FileInfo(path='dbfs:/FileStore/tables/train.csv', name='train.csv', size=61194, modificationTime=1686564160000)]"
     ]
    }
   ],
   "source": [
    "dbutils.fs.ls(\"/FileStore/tables\")"
   ]
  },
  {
   "cell_type": "code",
   "execution_count": 0,
   "metadata": {
    "application/vnd.databricks.v1+cell": {
     "cellMetadata": {
      "byteLimit": 2048000,
      "rowLimit": 10000
     },
     "inputWidgets": {},
     "nuid": "4e7cf1f7-6dfa-47ac-8274-7b70d485fde5",
     "showTitle": false,
     "title": ""
    }
   },
   "outputs": [
    {
     "output_type": "display_data",
     "data": {
      "text/plain": [
       "\u001B[0;31m---------------------------------------------------------------------------\u001B[0m\n",
       "\u001B[0;31mIllegalArgumentException\u001B[0m                  Traceback (most recent call last)\n",
       "\u001B[0;32m<command-2833278905107715>\u001B[0m in \u001B[0;36m<cell line: 1>\u001B[0;34m()\u001B[0m\n",
       "\u001B[0;32m----> 1\u001B[0;31m \u001B[0mdbutils\u001B[0m\u001B[0;34m.\u001B[0m\u001B[0mfs\u001B[0m\u001B[0;34m.\u001B[0m\u001B[0mhead\u001B[0m\u001B[0;34m(\u001B[0m\u001B[0;34m\"/FileStore/tables\"\u001B[0m\u001B[0;34m)\u001B[0m\u001B[0;34m\u001B[0m\u001B[0;34m\u001B[0m\u001B[0m\n",
       "\u001B[0m\n",
       "\u001B[0;32m/databricks/python_shell/dbruntime/dbutils.py\u001B[0m in \u001B[0;36mf_with_exception_handling\u001B[0;34m(*args, **kwargs)\u001B[0m\n",
       "\u001B[1;32m    344\u001B[0m             \u001B[0;32mdef\u001B[0m \u001B[0mf_with_exception_handling\u001B[0m\u001B[0;34m(\u001B[0m\u001B[0;34m*\u001B[0m\u001B[0margs\u001B[0m\u001B[0;34m,\u001B[0m \u001B[0;34m**\u001B[0m\u001B[0mkwargs\u001B[0m\u001B[0;34m)\u001B[0m\u001B[0;34m:\u001B[0m\u001B[0;34m\u001B[0m\u001B[0;34m\u001B[0m\u001B[0m\n",
       "\u001B[1;32m    345\u001B[0m                 \u001B[0;32mtry\u001B[0m\u001B[0;34m:\u001B[0m\u001B[0;34m\u001B[0m\u001B[0;34m\u001B[0m\u001B[0m\n",
       "\u001B[0;32m--> 346\u001B[0;31m                     \u001B[0;32mreturn\u001B[0m \u001B[0mf\u001B[0m\u001B[0;34m(\u001B[0m\u001B[0;34m*\u001B[0m\u001B[0margs\u001B[0m\u001B[0;34m,\u001B[0m \u001B[0;34m**\u001B[0m\u001B[0mkwargs\u001B[0m\u001B[0;34m)\u001B[0m\u001B[0;34m\u001B[0m\u001B[0;34m\u001B[0m\u001B[0m\n",
       "\u001B[0m\u001B[1;32m    347\u001B[0m                 \u001B[0;32mexcept\u001B[0m \u001B[0mPy4JJavaError\u001B[0m \u001B[0;32mas\u001B[0m \u001B[0me\u001B[0m\u001B[0;34m:\u001B[0m\u001B[0;34m\u001B[0m\u001B[0;34m\u001B[0m\u001B[0m\n",
       "\u001B[1;32m    348\u001B[0m \u001B[0;34m\u001B[0m\u001B[0m\n",
       "\n",
       "\u001B[0;32m/databricks/python_shell/dbruntime/dbutils.py\u001B[0m in \u001B[0;36mhead\u001B[0;34m(self, file, max_bytes)\u001B[0m\n",
       "\u001B[1;32m    380\u001B[0m         \u001B[0;32mdef\u001B[0m \u001B[0mhead\u001B[0m\u001B[0;34m(\u001B[0m\u001B[0mself\u001B[0m\u001B[0;34m,\u001B[0m \u001B[0mfile\u001B[0m\u001B[0;34m,\u001B[0m \u001B[0mmax_bytes\u001B[0m\u001B[0;34m=\u001B[0m\u001B[0;36m65536\u001B[0m\u001B[0;34m)\u001B[0m\u001B[0;34m:\u001B[0m\u001B[0;34m\u001B[0m\u001B[0;34m\u001B[0m\u001B[0m\n",
       "\u001B[1;32m    381\u001B[0m             \u001B[0mself\u001B[0m\u001B[0;34m.\u001B[0m\u001B[0mcheck_types\u001B[0m\u001B[0;34m(\u001B[0m\u001B[0;34m[\u001B[0m\u001B[0;34m(\u001B[0m\u001B[0mfile\u001B[0m\u001B[0;34m,\u001B[0m \u001B[0mstring_types\u001B[0m\u001B[0;34m)\u001B[0m\u001B[0;34m,\u001B[0m \u001B[0;34m(\u001B[0m\u001B[0mmax_bytes\u001B[0m\u001B[0;34m,\u001B[0m \u001B[0mint\u001B[0m\u001B[0;34m)\u001B[0m\u001B[0;34m]\u001B[0m\u001B[0;34m)\u001B[0m\u001B[0;34m\u001B[0m\u001B[0;34m\u001B[0m\u001B[0m\n",
       "\u001B[0;32m--> 382\u001B[0;31m             \u001B[0;32mreturn\u001B[0m \u001B[0mself\u001B[0m\u001B[0;34m.\u001B[0m\u001B[0mprint_return\u001B[0m\u001B[0;34m(\u001B[0m\u001B[0mself\u001B[0m\u001B[0;34m.\u001B[0m\u001B[0mfsutils\u001B[0m\u001B[0;34m.\u001B[0m\u001B[0mhead\u001B[0m\u001B[0;34m(\u001B[0m\u001B[0mfile\u001B[0m\u001B[0;34m,\u001B[0m \u001B[0mmax_bytes\u001B[0m\u001B[0;34m)\u001B[0m\u001B[0;34m)\u001B[0m\u001B[0;34m\u001B[0m\u001B[0;34m\u001B[0m\u001B[0m\n",
       "\u001B[0m\u001B[1;32m    383\u001B[0m \u001B[0;34m\u001B[0m\u001B[0m\n",
       "\u001B[1;32m    384\u001B[0m         \u001B[0;34m@\u001B[0m\u001B[0mprettify_exception_message\u001B[0m\u001B[0;34m\u001B[0m\u001B[0;34m\u001B[0m\u001B[0m\n",
       "\n",
       "\u001B[0;32m/databricks/spark/python/lib/py4j-0.10.9.5-src.zip/py4j/java_gateway.py\u001B[0m in \u001B[0;36m__call__\u001B[0;34m(self, *args)\u001B[0m\n",
       "\u001B[1;32m   1319\u001B[0m \u001B[0;34m\u001B[0m\u001B[0m\n",
       "\u001B[1;32m   1320\u001B[0m         \u001B[0manswer\u001B[0m \u001B[0;34m=\u001B[0m \u001B[0mself\u001B[0m\u001B[0;34m.\u001B[0m\u001B[0mgateway_client\u001B[0m\u001B[0;34m.\u001B[0m\u001B[0msend_command\u001B[0m\u001B[0;34m(\u001B[0m\u001B[0mcommand\u001B[0m\u001B[0;34m)\u001B[0m\u001B[0;34m\u001B[0m\u001B[0;34m\u001B[0m\u001B[0m\n",
       "\u001B[0;32m-> 1321\u001B[0;31m         return_value = get_return_value(\n",
       "\u001B[0m\u001B[1;32m   1322\u001B[0m             answer, self.gateway_client, self.target_id, self.name)\n",
       "\u001B[1;32m   1323\u001B[0m \u001B[0;34m\u001B[0m\u001B[0m\n",
       "\n",
       "\u001B[0;32m/databricks/spark/python/pyspark/sql/utils.py\u001B[0m in \u001B[0;36mdeco\u001B[0;34m(*a, **kw)\u001B[0m\n",
       "\u001B[1;32m    200\u001B[0m                 \u001B[0;31m# Hide where the exception came from that shows a non-Pythonic\u001B[0m\u001B[0;34m\u001B[0m\u001B[0;34m\u001B[0m\u001B[0;34m\u001B[0m\u001B[0m\n",
       "\u001B[1;32m    201\u001B[0m                 \u001B[0;31m# JVM exception message.\u001B[0m\u001B[0;34m\u001B[0m\u001B[0;34m\u001B[0m\u001B[0;34m\u001B[0m\u001B[0m\n",
       "\u001B[0;32m--> 202\u001B[0;31m                 \u001B[0;32mraise\u001B[0m \u001B[0mconverted\u001B[0m \u001B[0;32mfrom\u001B[0m \u001B[0;32mNone\u001B[0m\u001B[0;34m\u001B[0m\u001B[0;34m\u001B[0m\u001B[0m\n",
       "\u001B[0m\u001B[1;32m    203\u001B[0m             \u001B[0;32melse\u001B[0m\u001B[0;34m:\u001B[0m\u001B[0;34m\u001B[0m\u001B[0;34m\u001B[0m\u001B[0m\n",
       "\u001B[1;32m    204\u001B[0m                 \u001B[0;32mraise\u001B[0m\u001B[0;34m\u001B[0m\u001B[0;34m\u001B[0m\u001B[0m\n",
       "\n",
       "\u001B[0;31mIllegalArgumentException\u001B[0m: Cannot head a directory: /FileStore/tables"
      ]
     },
     "metadata": {
      "application/vnd.databricks.v1+output": {
       "arguments": {},
       "data": "\u001B[0;31m---------------------------------------------------------------------------\u001B[0m\n\u001B[0;31mIllegalArgumentException\u001B[0m                  Traceback (most recent call last)\n\u001B[0;32m<command-2833278905107715>\u001B[0m in \u001B[0;36m<cell line: 1>\u001B[0;34m()\u001B[0m\n\u001B[0;32m----> 1\u001B[0;31m \u001B[0mdbutils\u001B[0m\u001B[0;34m.\u001B[0m\u001B[0mfs\u001B[0m\u001B[0;34m.\u001B[0m\u001B[0mhead\u001B[0m\u001B[0;34m(\u001B[0m\u001B[0;34m\"/FileStore/tables\"\u001B[0m\u001B[0;34m)\u001B[0m\u001B[0;34m\u001B[0m\u001B[0;34m\u001B[0m\u001B[0m\n\u001B[0m\n\u001B[0;32m/databricks/python_shell/dbruntime/dbutils.py\u001B[0m in \u001B[0;36mf_with_exception_handling\u001B[0;34m(*args, **kwargs)\u001B[0m\n\u001B[1;32m    344\u001B[0m             \u001B[0;32mdef\u001B[0m \u001B[0mf_with_exception_handling\u001B[0m\u001B[0;34m(\u001B[0m\u001B[0;34m*\u001B[0m\u001B[0margs\u001B[0m\u001B[0;34m,\u001B[0m \u001B[0;34m**\u001B[0m\u001B[0mkwargs\u001B[0m\u001B[0;34m)\u001B[0m\u001B[0;34m:\u001B[0m\u001B[0;34m\u001B[0m\u001B[0;34m\u001B[0m\u001B[0m\n\u001B[1;32m    345\u001B[0m                 \u001B[0;32mtry\u001B[0m\u001B[0;34m:\u001B[0m\u001B[0;34m\u001B[0m\u001B[0;34m\u001B[0m\u001B[0m\n\u001B[0;32m--> 346\u001B[0;31m                     \u001B[0;32mreturn\u001B[0m \u001B[0mf\u001B[0m\u001B[0;34m(\u001B[0m\u001B[0;34m*\u001B[0m\u001B[0margs\u001B[0m\u001B[0;34m,\u001B[0m \u001B[0;34m**\u001B[0m\u001B[0mkwargs\u001B[0m\u001B[0;34m)\u001B[0m\u001B[0;34m\u001B[0m\u001B[0;34m\u001B[0m\u001B[0m\n\u001B[0m\u001B[1;32m    347\u001B[0m                 \u001B[0;32mexcept\u001B[0m \u001B[0mPy4JJavaError\u001B[0m \u001B[0;32mas\u001B[0m \u001B[0me\u001B[0m\u001B[0;34m:\u001B[0m\u001B[0;34m\u001B[0m\u001B[0;34m\u001B[0m\u001B[0m\n\u001B[1;32m    348\u001B[0m \u001B[0;34m\u001B[0m\u001B[0m\n\n\u001B[0;32m/databricks/python_shell/dbruntime/dbutils.py\u001B[0m in \u001B[0;36mhead\u001B[0;34m(self, file, max_bytes)\u001B[0m\n\u001B[1;32m    380\u001B[0m         \u001B[0;32mdef\u001B[0m \u001B[0mhead\u001B[0m\u001B[0;34m(\u001B[0m\u001B[0mself\u001B[0m\u001B[0;34m,\u001B[0m \u001B[0mfile\u001B[0m\u001B[0;34m,\u001B[0m \u001B[0mmax_bytes\u001B[0m\u001B[0;34m=\u001B[0m\u001B[0;36m65536\u001B[0m\u001B[0;34m)\u001B[0m\u001B[0;34m:\u001B[0m\u001B[0;34m\u001B[0m\u001B[0;34m\u001B[0m\u001B[0m\n\u001B[1;32m    381\u001B[0m             \u001B[0mself\u001B[0m\u001B[0;34m.\u001B[0m\u001B[0mcheck_types\u001B[0m\u001B[0;34m(\u001B[0m\u001B[0;34m[\u001B[0m\u001B[0;34m(\u001B[0m\u001B[0mfile\u001B[0m\u001B[0;34m,\u001B[0m \u001B[0mstring_types\u001B[0m\u001B[0;34m)\u001B[0m\u001B[0;34m,\u001B[0m \u001B[0;34m(\u001B[0m\u001B[0mmax_bytes\u001B[0m\u001B[0;34m,\u001B[0m \u001B[0mint\u001B[0m\u001B[0;34m)\u001B[0m\u001B[0;34m]\u001B[0m\u001B[0;34m)\u001B[0m\u001B[0;34m\u001B[0m\u001B[0;34m\u001B[0m\u001B[0m\n\u001B[0;32m--> 382\u001B[0;31m             \u001B[0;32mreturn\u001B[0m \u001B[0mself\u001B[0m\u001B[0;34m.\u001B[0m\u001B[0mprint_return\u001B[0m\u001B[0;34m(\u001B[0m\u001B[0mself\u001B[0m\u001B[0;34m.\u001B[0m\u001B[0mfsutils\u001B[0m\u001B[0;34m.\u001B[0m\u001B[0mhead\u001B[0m\u001B[0;34m(\u001B[0m\u001B[0mfile\u001B[0m\u001B[0;34m,\u001B[0m \u001B[0mmax_bytes\u001B[0m\u001B[0;34m)\u001B[0m\u001B[0;34m)\u001B[0m\u001B[0;34m\u001B[0m\u001B[0;34m\u001B[0m\u001B[0m\n\u001B[0m\u001B[1;32m    383\u001B[0m \u001B[0;34m\u001B[0m\u001B[0m\n\u001B[1;32m    384\u001B[0m         \u001B[0;34m@\u001B[0m\u001B[0mprettify_exception_message\u001B[0m\u001B[0;34m\u001B[0m\u001B[0;34m\u001B[0m\u001B[0m\n\n\u001B[0;32m/databricks/spark/python/lib/py4j-0.10.9.5-src.zip/py4j/java_gateway.py\u001B[0m in \u001B[0;36m__call__\u001B[0;34m(self, *args)\u001B[0m\n\u001B[1;32m   1319\u001B[0m \u001B[0;34m\u001B[0m\u001B[0m\n\u001B[1;32m   1320\u001B[0m         \u001B[0manswer\u001B[0m \u001B[0;34m=\u001B[0m \u001B[0mself\u001B[0m\u001B[0;34m.\u001B[0m\u001B[0mgateway_client\u001B[0m\u001B[0;34m.\u001B[0m\u001B[0msend_command\u001B[0m\u001B[0;34m(\u001B[0m\u001B[0mcommand\u001B[0m\u001B[0;34m)\u001B[0m\u001B[0;34m\u001B[0m\u001B[0;34m\u001B[0m\u001B[0m\n\u001B[0;32m-> 1321\u001B[0;31m         return_value = get_return_value(\n\u001B[0m\u001B[1;32m   1322\u001B[0m             answer, self.gateway_client, self.target_id, self.name)\n\u001B[1;32m   1323\u001B[0m \u001B[0;34m\u001B[0m\u001B[0m\n\n\u001B[0;32m/databricks/spark/python/pyspark/sql/utils.py\u001B[0m in \u001B[0;36mdeco\u001B[0;34m(*a, **kw)\u001B[0m\n\u001B[1;32m    200\u001B[0m                 \u001B[0;31m# Hide where the exception came from that shows a non-Pythonic\u001B[0m\u001B[0;34m\u001B[0m\u001B[0;34m\u001B[0m\u001B[0;34m\u001B[0m\u001B[0m\n\u001B[1;32m    201\u001B[0m                 \u001B[0;31m# JVM exception message.\u001B[0m\u001B[0;34m\u001B[0m\u001B[0;34m\u001B[0m\u001B[0;34m\u001B[0m\u001B[0m\n\u001B[0;32m--> 202\u001B[0;31m                 \u001B[0;32mraise\u001B[0m \u001B[0mconverted\u001B[0m \u001B[0;32mfrom\u001B[0m \u001B[0;32mNone\u001B[0m\u001B[0;34m\u001B[0m\u001B[0;34m\u001B[0m\u001B[0m\n\u001B[0m\u001B[1;32m    203\u001B[0m             \u001B[0;32melse\u001B[0m\u001B[0;34m:\u001B[0m\u001B[0;34m\u001B[0m\u001B[0;34m\u001B[0m\u001B[0m\n\u001B[1;32m    204\u001B[0m                 \u001B[0;32mraise\u001B[0m\u001B[0;34m\u001B[0m\u001B[0;34m\u001B[0m\u001B[0m\n\n\u001B[0;31mIllegalArgumentException\u001B[0m: Cannot head a directory: /FileStore/tables",
       "errorSummary": "<span class='ansi-red-fg'>IllegalArgumentException</span>: Cannot head a directory: /FileStore/tables",
       "errorTraceType": "ansi",
       "metadata": {},
       "type": "ipynbError"
      }
     },
     "output_type": "display_data"
    }
   ],
   "source": [
    "dbutils.fs.head(\"/FileStore/tables\")"
   ]
  },
  {
   "cell_type": "code",
   "execution_count": 0,
   "metadata": {
    "application/vnd.databricks.v1+cell": {
     "cellMetadata": {
      "byteLimit": 2048000,
      "rowLimit": 10000
     },
     "inputWidgets": {},
     "nuid": "bfe2bf9f-6094-43ee-828e-2ce48359a38d",
     "showTitle": false,
     "title": ""
    }
   },
   "outputs": [
    {
     "output_type": "stream",
     "name": "stdout",
     "output_type": "stream",
     "text": [
      "[Truncated to first 65536 bytes]\nOut[13]: 'Series_Title,Released_Year,Runtime,Genre,IMDB_Rating,Director,Star1,No_of_Votes,Gross,Metascore\\nThe Shawshank Redemption,1994,142,Drama,9.3,Frank Darabont,Tim Robbins,2343110,28341469.0,80.0\\nThe Godfather,1972,175,Crime,9.2,Francis Ford Coppola,Marlon Brando,1620367,134966411.0,100.0\\nThe Dark Knight,2008,152,Action,9.0,Christopher Nolan,Christian Bale,2303232,534858444.0,84.0\\nThe Godfather: Part II,1974,202,Crime,9.0,Francis Ford Coppola,Al Pacino,1129952,57300000.0,90.0\\n12 Angry Men,1957,96,Crime,9.0,Sidney Lumet,Henry Fonda,689845,4360000.0,96.0\\nThe Lord of the Rings: The Return of the King,2003,201,Action,8.9,Peter Jackson,Elijah Wood,1642758,377845905.0,94.0\\nPulp Fiction,1994,154,Crime,8.9,Quentin Tarantino,John Travolta,1826188,107928762.0,94.0\\nSchindler\\'s List,1993,195,Biography,8.9,Steven Spielberg,Liam Neeson,1213505,96898818.0,94.0\\nInception,2010,148,Action,8.8,Christopher Nolan,Leonardo DiCaprio,2067042,292576195.0,74.0\\nFight Club,1999,139,Drama,8.8,David Fincher,Brad Pitt,1854740,37030102.0,66.0\\nThe Lord of the Rings: The Fellowship of the Ring,2001,178,Action,8.8,Peter Jackson,Elijah Wood,1661481,315544750.0,92.0\\nForrest Gump,1994,142,Drama,8.8,Robert Zemeckis,Tom Hanks,1809221,330252182.0,82.0\\n\"Il buono, il brutto, il cattivo\",1966,161,Western,8.8,Sergio Leone,Clint Eastwood,688390,6100000.0,90.0\\nThe Lord of the Rings: The Two Towers,2002,179,Action,8.7,Peter Jackson,Elijah Wood,1485555,342551365.0,87.0\\nThe Matrix,1999,136,Action,8.7,Lana Wachowski,Lilly Wachowski,1676426,171479930.0,73.0\\nGoodfellas,1990,146,Biography,8.7,Martin Scorsese,Robert De Niro,1020727,46836394.0,90.0\\nStar Wars: Episode V - The Empire Strikes Back,1980,124,Action,8.7,Irvin Kershner,Mark Hamill,1159315,290475067.0,82.0\\nOne Flew Over the Cuckoo\\'s Nest,1975,133,Drama,8.7,Milos Forman,Jack Nicholson,918088,112000000.0,83.0\\nHamilton,2020,160,Biography,8.6,Thomas Kail,Lin-Manuel Miranda,55291,440984783.0,90.0\\nGisaengchung,2019,132,Comedy,8.6,Bong Joon Ho,Kang-ho Song,552778,53367844.0,96.0\\nSoorarai Pottru,2020,153,Drama,8.6,Sudha Kongara,Suriya,54995,556832648.0,\\nInterstellar,2014,169,Adventure,8.6,Christopher Nolan,Matthew McConaughey,1512360,188020017.0,74.0\\nCidade de Deus,2002,130,Crime,8.6,Fernando Meirelles,Kátia Lund,699256,7563397.0,79.0\\nSen to Chihiro no kamikakushi,2001,125,Animation,8.6,Hayao Miyazaki,Daveigh Chase,651376,10055859.0,96.0\\nSaving Private Ryan,1998,169,Drama,8.6,Steven Spielberg,Tom Hanks,1235804,216540909.0,91.0\\nThe Green Mile,1999,189,Crime,8.6,Frank Darabont,Tom Hanks,1147794,136801374.0,61.0\\nLa vita è bella,1997,116,Comedy,8.6,Roberto Benigni,Roberto Benigni,623629,57598247.0,59.0\\nSe7en,1995,127,Crime,8.6,David Fincher,Morgan Freeman,1445096,100125643.0,65.0\\nThe Silence of the Lambs,1991,118,Crime,8.6,Jonathan Demme,Jodie Foster,1270197,130742922.0,85.0\\nStar Wars,1977,121,Action,8.6,George Lucas,Mark Hamill,1231473,322740140.0,90.0\\nSeppuku,1962,133,Action,8.6,Masaki Kobayashi,Tatsuya Nakadai,42004,373978394.0,85.0\\nShichinin no samurai,1954,207,Action,8.6,Akira Kurosawa,Toshirô Mifune,315744,269061.0,98.0\\nIt\\'s a Wonderful Life,1946,130,Drama,8.6,Frank Capra,James Stewart,405801,82385199.0,89.0\\nJoker,2019,122,Crime,8.5,Todd Phillips,Joaquin Phoenix,939252,335451311.0,59.0\\nWhiplash,2014,106,Drama,8.5,Damien Chazelle,Miles Teller,717585,13092000.0,88.0\\nThe Intouchables,2011,112,Biography,8.5,Olivier Nakache,Éric Toledano,760360,13182281.0,57.0\\nThe Prestige,2006,130,Drama,8.5,Christopher Nolan,Christian Bale,1190259,53089891.0,66.0\\nThe Departed,2006,151,Crime,8.5,Martin Scorsese,Leonardo DiCaprio,1189773,132384315.0,85.0\\nThe Pianist,2002,150,Biography,8.5,Roman Polanski,Adrien Brody,729603,32572577.0,85.0\\nGladiator,2000,155,Action,8.5,Ridley Scott,Russell Crowe,1341460,187705427.0,67.0\\nAmerican History X,1998,119,Drama,8.5,Tony Kaye,Edward Norton,1034705,6719864.0,62.0\\nThe Usual Suspects,1995,106,Crime,8.5,Bryan Singer,Kevin Spacey,991208,23341568.0,77.0\\nLéon,1994,110,Action,8.5,Luc Besson,Jean Reno,1035236,19501238.0,64.0\\nThe Lion King,1994,88,Animation,8.5,Roger Allers,Rob Minkoff,942045,422783777.0,88.0\\nTerminator 2: Judgment Day,1991,137,Action,8.5,James Cameron,Arnold Schwarzenegger,995506,204843350.0,75.0\\nNuovo Cinema Paradiso,1988,155,Drama,8.5,Giuseppe Tornatore,Philippe Noiret,230763,11990401.0,80.0\\nHotaru no haka,1988,89,Animation,8.5,Isao Takahata,Tsutomu Tatsumi,235231,150734678.0,94.0\\nBack to the Future,1985,116,Adventure,8.5,Robert Zemeckis,Michael J. Fox,1058081,210609762.0,87.0\\nOnce Upon a Time in the West,1968,165,Western,8.5,Sergio Leone,Henry Fonda,302844,5321508.0,80.0\\nPsycho,1960,109,Horror,8.5,Alfred Hitchcock,Anthony Perkins,604211,32000000.0,97.0\\nCasablanca,1942,102,Drama,8.5,Michael Curtiz,Humphrey Bogart,522093,1024560.0,100.0\\nModern Times,1936,87,Comedy,8.5,Charles Chaplin,Charles Chaplin,217881,163245.0,96.0\\nCity Lights,1931,87,Comedy,8.5,Charles Chaplin,Charles Chaplin,167839,19181.0,99.0\\nCapharnaüm,2018,126,Drama,8.4,Nadine Labaki,Zain Al Rafeea,62635,1661096.0,75.0\\nAyla: The Daughter of War,2017,125,Biography,8.4,Can Ulkay,Erdem Can,34112,679278040.0,\\nVikram Vedha,2017,147,Action,8.4,Gayatri,Pushkar,28401,357599391.0,\\nKimi no na wa.,2016,106,Animation,8.4,Makoto Shinkai,Ryûnosuke Kamiki,194838,5017246.0,79.0\\nDangal,2016,161,Action,8.4,Nitesh Tiwari,Aamir Khan,156479,12391761.0,\\nSpider-Man: Into the Spider-Verse,2018,117,Animation,8.4,Bob Persichetti,Peter Ramsey,375110,190241310.0,87.0\\nAvengers: Endgame,2019,181,Action,8.4,Anthony Russo,Joe Russo,809955,858373000.0,78.0\\nAvengers: Infinity War,2018,149,Action,8.4,Anthony Russo,Joe Russo,834477,678815482.0,68.0\\nCoco,2017,105,Animation,8.4,Lee Unkrich,Adrian Molina,384171,209726015.0,81.0\\nDjango Unchained,2012,165,Drama,8.4,Quentin Tarantino,Jamie Foxx,1357682,162805434.0,81.0\\nThe Dark Knight Rises,2012,164,Action,8.4,Christopher Nolan,Christian Bale,1516346,448139099.0,78.0\\n3 Idiots,2009,170,Comedy,8.4,Rajkumar Hirani,Aamir Khan,344445,6532908.0,67.0\\nTaare Zameen Par,2007,165,Drama,8.4,Aamir Khan,Amole Gupte,168895,1223869.0,\\nWALL·E,2008,98,Animation,8.4,Andrew Stanton,Ben Burtt,999790,223808164.0,95.0\\nThe Lives of Others,2006,137,Drama,8.4,Florian Henckel von Donnersmarck,Ulrich Mühe,358685,11286112.0,89.0\\nOldeuboi,2003,101,Action,8.4,Chan-wook Park,Choi Min-sik,515451,707481.0,77.0\\nMemento,2000,113,Mystery,8.4,Christopher Nolan,Guy Pearce,1125712,25544867.0,80.0\\nMononoke-hime,1997,134,Animation,8.4,Hayao Miyazaki,Yôji Matsuda,343171,2375308.0,76.0\\nOnce Upon a Time in America,1984,229,Crime,8.4,Sergio Leone,Robert De Niro,311365,5321508.0,\\nRaiders of the Lost Ark,1981,115,Action,8.4,Steven Spielberg,Harrison Ford,884112,248159971.0,85.0\\nThe Shining,1980,146,Drama,8.4,Stanley Kubrick,Jack Nicholson,898237,44017374.0,66.0\\nApocalypse Now,1979,147,Drama,8.4,Francis Ford Coppola,Martin Sheen,606398,83471511.0,94.0\\nAlien,1979,117,Horror,8.4,Ridley Scott,Sigourney Weaver,787806,78900000.0,89.0\\nAnand,1971,122,Drama,8.4,Hrishikesh Mukherjee,Rajesh Khanna,30273,472504446.0,\\nTengoku to jigoku,1963,143,Crime,8.4,Akira Kurosawa,Toshirô Mifune,34357,620361655.0,\\nDr. Strangelove or: How I Learned to Stop Worrying and Love the Bomb,1964,95,Comedy,8.4,Stanley Kubrick,Peter Sellers,450474,275902.0,97.0\\nWitness for the Prosecution,1957,116,Crime,8.4,Billy Wilder,Tyrone Power,108862,8175000.0,\\nPaths of Glory,1957,88,Drama,8.4,Stanley Kubrick,Kirk Douglas,178092,518311052.0,90.0\\nRear Window,1954,112,Mystery,8.4,Alfred Hitchcock,James Stewart,444074,36764313.0,100.0\\nSunset Blvd.,1950,110,Drama,8.4,Billy Wilder,William Holden,201632,506055932.0,\\nThe Great Dictator,1940,125,Comedy,8.4,Charles Chaplin,Charles Chaplin,203150,288475.0,\\n1917,2019,119,Drama,8.3,Sam Mendes,Dean-Charles Chapman,425844,159227644.0,78.0\\nTumbbad,2018,104,Drama,8.3,Rahi Anil Barve,Anand Gandhi,27793,755669279.0,\\nAndhadhun,2018,139,Crime,8.3,Sriram Raghavan,Ayushmann Khurrana,71875,1373943.0,\\nDrishyam,2013,160,Crime,8.3,Jeethu Joseph,Mohanlal,30722,11339376.0,\\nJagten,2012,115,Drama,8.3,Thomas Vinterberg,Mads Mikkelsen,281623,687185.0,77.0\\nJodaeiye Nader az Simin,2011,123,Drama,8.3,Asghar Farhadi,Payman Maadi,220002,7098492.0,95.0\\nIncendies,2010,131,Drama,8.3,Denis Villeneuve,Lubna Azabal,150023,6857096.0,80.0\\nMiracle in cell NO.7,2019,132,Drama,8.3,Mehmet Ada Öztekin,Aras Bulut Iynemli,33935,846784112.0,\\nBabam ve Oglum,2005,112,Drama,8.3,Çagan Irmak,Çetin Tekindor,78925,461855363.0,\\nInglourious Basterds,2009,153,Adventure,8.3,Quentin Tarantino,Brad Pitt,1267869,120540719.0,69.0\\nEternal Sunshine of the Spotless Mind,2004,108,Drama,8.3,Michel Gondry,Jim Carrey,911664,34400301.0,89.0\\nAmélie,2001,122,Comedy,8.3,Jean-Pierre Jeunet,Audrey Tautou,703810,33225499.0,69.0\\nSnatch,2000,104,Comedy,8.3,Guy Ritchie,Jason Statham,782001,30328156.0,55.0\\nRequiem for a Dream,2000,102,Drama,8.3,Darren Aronofsky,Ellen Burstyn,766870,3635482.0,68.0\\nAmerican Beauty,1999,122,Drama,8.3,Sam Mendes,Kevin Spacey,1069738,130096601.0,84.0\\nGood Will Hunting,1997,126,Drama,8.3,Gus Van Sant,Robin Williams,861606,138433435.0,70.0\\nBacheha-Ye aseman,1997,89,Drama,8.3,Majid Majidi,Mohammad Amir Naji,65341,933933.0,77.0\\nToy Story,1995,81,Animation,8.3,John Lasseter,Tom Hanks,887429,191796233.0,95.0\\nBraveheart,1995,178,Biography,8.3,Mel Gibson,Mel Gibson,959181,75600000.0,68.0\\nReservoir Dogs,1992,99,Crime,8.3,Quentin Tarantino,Harvey Keitel,918562,2832029.0,79.0\\nFull Metal Jacket,1987,116,Drama,8.3,Stanley Kubrick,Matthew Modine,675146,46357676.0,76.0\\nIdi i smotri,1985,142,Drama,8.3,Elem Klimov,Aleksey Kravchenko,59056,728423774.0,\\nAliens,1986,137,Action,8.3,James Cameron,Sigourney Weaver,652719,85160248.0,84.0\\nAmadeus,1984,160,Biography,8.3,Milos Forman,F. Murray Abraham,369007,51973029.0,88.0\\nScarface,1983,170,Crime,8.3,Brian De Palma,Al Pacino,740911,45598982.0,65.0\\nStar Wars: Episode VI - Return of the Jedi,1983,131,Action,8.3,Richard Marquand,Mark Hamill,950470,309125409.0,58.0\\nDas Boot,1981,149,Adventure,8.3,Wolfgang Petersen,Jürgen Prochnow,231855,11487676.0,86.0\\nTaxi Driver,1976,114,Crime,8.3,Martin Scorsese,Robert De Niro,724636,28262574.0,94.0\\nThe Sting,1973,129,Comedy,8.3,George Roy Hill,Paul Newman,241513,159600000.0,83.0\\nA Clockwork Orange,1971,136,Crime,8.3,Stanley Kubrick,Malcolm McDowell,757904,6207725.0,77.0\\n2001: A Space Odyssey,1968,149,Adventure,8.3,Stanley Kubrick,Keir Dullea,603517,56954992.0,84.0\\nPer qualche dollaro in più,1965,132,Western,8.3,Sergio Leone,Clint Eastwood,232772,15000000.0,74.0\\nLawrence of Arabia,1962,228,Adventure,8.3,David Lean,Peter O\\'Toole,268085,44824144.0,100.0\\nThe Apartment,1960,125,Comedy,8.3,Billy Wilder,Jack Lemmon,164363,18600000.0,94.0\\nNorth by Northwest,1959,136,Adventure,8.3,Alfred Hitchcock,Cary Grant,299198,13275000.0,98.0\\nVertigo,1958,128,Mystery,8.3,Alfred Hitchcock,James Stewart,364368,3200000.0,100.0\\nSingin\\' in the Rain,1952,103,Comedy,8.3,Stanley Donen,Gene Kelly,218957,8819028.0,99.0\\nIkiru,1952,143,Drama,8.3,Akira Kurosawa,Takashi Shimura,68463,55240.0,\\nLadri di biciclette,1948,89,Drama,8.3,Vittorio De Sica,Lamberto Maggiorani,146427,332930.0,\\nDouble Indemnity,1944,107,Crime,8.3,Billy Wilder,Fred MacMurray,143525,5720000.0,95.0\\nCitizen Kane,1941,119,Drama,8.3,Orson Welles,Orson Welles,403351,1585634.0,100.0\\nM - Eine Stadt sucht einen Mörder,1931,117,Crime,8.3,Fritz Lang,Peter Lorre,143434,28877.0,\\nMetropolis,1927,153,Drama,8.3,Fritz Lang,Brigitte Helm,159992,1236166.0,98.0\\nThe Kid,1921,68,Comedy,8.3,Charles Chaplin,Charles Chaplin,113314,5450000.0,\\nChhichhore,2019,143,Comedy,8.2,Nitesh Tiwari,Sushant Singh Rajput,33893,898575.0,\\nUri: The Surgical Strike,2018,138,Action,8.2,Aditya Dhar,Vicky Kaushal,43444,4186168.0,\\nK.G.F: Chapter 1,2018,156,Action,8.2,Prashanth Neel,Yash,36680,811875821.0,\\nGreen Book,2018,130,Biography,8.2,Peter Farrelly,Viggo Mortensen,377884,85080171.0,69.0\\n\"Three Billboards Outside Ebbing, Missouri\",2017,115,Comedy,8.2,Martin McDonagh,Frances McDormand,432610,54513740.0,88.0\\nTalvar,2015,132,Crime,8.2,Meghna Gulzar,Irrfan Khan,31142,342370.0,\\nBaahubali 2: The Conclusion,2017,167,Action,8.2,S.S. Rajamouli,Prabhas,75348,20186659.0,\\nKlaus,2019,96,Animation,8.2,Sergio Pablos,Carlos Martínez López,104761,148596026.0,65.0\\nDrishyam,2015,163,Crime,8.2,Nishikant Kamat,Ajay Devgn,70367,739478.0,\\nQueen,2013,146,Adventure,8.2,Vikas Bahl,Kangana Ranaut,60701,1429534.0,\\nMandariinid,2013,87,Drama,8.2,Zaza Urushadze,Lembit Ulfsak,40382,144501.0,73.0\\nBhaag Milkha Bhaag,2013,186,Biography,8.2,Rakeysh Omprakash Mehra,Farhan Akhtar,61137,1626289.0,\\nGangs of Wasseypur,2012,321,Action,8.2,Anurag Kashyap,Manoj Bajpayee,82365,5257741.0,89.0\\nUdaan,2010,134,Drama,8.2,Vikramaditya Motwane,Rajat Barmecha,42341,7461.0,\\nPaan Singh Tomar,2012,135,Action,8.2,Tigmanshu Dhulia,Irrfan Khan,33237,39567.0,\\nEl secreto de sus ojos,2009,129,Drama,8.2,Juan José Campanella,Ricardo Darín,193217,6391436.0,80.0\\nWarrior,2011,140,Action,8.2,Gavin O\\'Connor,Tom Hardy,435950,13657115.0,71.0\\nShutter Island,2010,138,Mystery,8.2,Martin Scorsese,Leonardo DiCaprio,1129894,128012934.0,63.0\\nUp,2009,96,Animation,8.2,Pete Docter,Bob Peterson,935507,293004164.0,88.0\\nThe Wolf of Wall Street,2013,180,Biography,8.2,Martin Scorsese,Leonardo DiCaprio,1187498,116900694.0,75.0\\nChak De! India,2007,153,Drama,8.2,Shimit Amin,Shah Rukh Khan,74129,1113541.0,68.0\\nThere Will Be Blood,2007,158,Drama,8.2,Paul Thomas Anderson,Daniel Day-Lewis,517359,40222514.0,93.0\\nPan\\'s Labyrinth,2006,118,Drama,8.2,Guillermo del Toro,Ivana Baquero,618623,37634615.0,98.0\\nToy Story 3,2010,103,Animation,8.2,Lee Unkrich,Tom Hanks,757032,415004880.0,92.0\\nV for Vendetta,2005,132,Action,8.2,James McTeigue,Hugo Weaving,1032749,70511035.0,62.0\\nRang De Basanti,2006,167,Comedy,8.2,Rakeysh Omprakash Mehra,Aamir Khan,111937,2197331.0,\\nBlack,2005,122,Drama,8.2,Sanjay Leela Bhansali,Amitabh Bachchan,33354,733094.0,\\nBatman Begins,2005,140,Action,8.2,Christopher Nolan,Christian Bale,1308302,206852432.0,70.0\\n\"Swades: We, the People\",2004,210,Drama,8.2,Ashutosh Gowariker,Shah Rukh Khan,83005,1223240.0,\\nDer Untergang,2004,156,Biography,8.2,Oliver Hirschbiegel,Bruno Ganz,331308,5509040.0,82.0\\nHauru no ugoku shiro,2004,119,Animation,8.2,Hayao Miyazaki,Chieko Baishô,333915,4711096.0,80.0\\nA Beautiful Mind,2001,135,Biography,8.2,Ron Howard,Russell Crowe,848920,170742341.0,72.0\\nHera Pheri,2000,156,Action,8.2,Priyadarshan,Akshay Kumar,57057,177903165.0,\\n\"Lock, Stock and Two Smoking Barrels\",1998,107,Action,8.2,Guy Ritchie,Jason Flemyng,535216,3897569.0,66.0\\nL.A. Confidential,1997,138,Crime,8.2,Curtis Hanson,Kevin Spacey,531967,64616940.0,90.0\\nEskiya,1996,128,Crime,8.2,Yavuz Turgul,Sener Sen,64118,764480450.0,\\nHeat,1995,170,Crime,8.2,Michael Mann,Al Pacino,577113,67436818.0,76.0\\nCasino,1995,178,Crime,8.2,Martin Scorsese,Robert De Niro,466276,42438300.0,73.0\\nAndaz Apna Apna,1994,160,Action,8.2,Rajkumar Santoshi,Aamir Khan,49300,213351844.0,\\nUnforgiven,1992,130,Drama,8.2,Clint Eastwood,Clint Eastwood,375935,101157447.0,85.0\\nIndiana Jones and the Last Crusade,1989,127,Action,8.2,Steven Spielberg,Harrison Ford,692366,197171806.0,65.0\\nDom za vesanje,1988,142,Comedy,8.2,Emir Kusturica,Davor Dujmovic,26402,280015.0,\\nTonari no Totoro,1988,86,Animation,8.2,Hayao Miyazaki,Hitoshi Takagi,291180,1105564.0,86.0\\nDie Hard,1988,132,Action,8.2,John McTiernan,Bruce Willis,793164,83008852.0,72.0\\nRan,1985,162,Action,8.2,Akira Kurosawa,Tatsuya Nakadai,112505,4135750.0,96.0\\nRaging Bull,1980,129,Biography,8.2,Martin Scorsese,Robert De Niro,321860,23383987.0,89.0\\nStalker,1979,162,Drama,8.2,Andrei Tarkovsky,Alisa Freyndlikh,116945,234723.0,\\nHöstsonaten,1978,99,Drama,8.2,Ingmar Bergman,Ingrid Bergman,26875,231949286.0,\\nThe Message,1976,177,Biography,8.2,Moustapha Akkad,Anthony Quinn,43885,216427395.0,\\nSholay,1975,204,Action,8.2,Ramesh Sippy,Sanjeev Kumar,51284,932069480.0,\\nMonty Python and the Holy Grail,1975,91,Adventure,8.2,Terry Gilliam,Terry Jones,500875,1229197.0,91.0\\nThe Great Escape,1963,172,Adventure,8.2,John Sturges,Steve McQueen,224730,12100000.0,86.0\\nTo Kill a Mockingbird,1962,129,Crime,8.2,Robert Mulligan,Gregory Peck,293811,504340883.0,88.0\\nYôjinbô,1961,110,Action,8.2,Akira Kurosawa,Toshirô Mifune,111244,474518350.0,\\nJudgment at Nuremberg,1961,179,Drama,8.2,Stanley Kramer,Spencer Tracy,69458,867589901.0,60.0\\nSome Like It Hot,1959,121,Comedy,8.2,Billy Wilder,Marilyn Monroe,243943,25000000.0,98.0\\nSmultronstället,1957,91,Drama,8.2,Ingmar Bergman,Victor Sjöström,96381,144259257.0,88.0\\nDet sjunde inseglet,1957,96,Drama,8.2,Ingmar Bergman,Max von Sydow,164939,805742063.0,88.0\\nDu rififi chez les hommes,1955,118,Crime,8.2,Jules Dassin,Jean Servais,28810,57226.0,97.0\\nDial M for Murder,1954,105,Crime,8.2,Alfred Hitchcock,Ray Milland,158335,12562.0,75.0\\nTôkyô monogatari,1953,136,Drama,8.2,Yasujirô Ozu,Chishû Ryû,53153,129117599.0,\\nRashômon,1950,88,Crime,8.2,Akira Kurosawa,Toshirô Mifune,152572,96568.0,98.0\\nAll About Eve,1950,138,Drama,8.2,Joseph L. Mankiewicz,Bette Davis,120539,10177.0,98.0\\nThe Treasure of the Sierra Madre,1948,126,Adventure,8.2,John Huston,Humphrey Bogart,114304,5014000.0,98.0\\nTo Be or Not to Be,1942,99,Comedy,8.2,Ernst Lubitsch,Carole Lombard,29915,11914855.0,86.0\\nThe Gold Rush,1925,95,Adventure,8.2,Charles Chaplin,Charles Chaplin,101053,5450000.0,\\nSherlock Jr.,1924,45,Action,8.2,Buster Keaton,Buster Keaton,41985,977375.0,\\nPortrait de la jeune fille en feu,2019,122,Drama,8.1,Céline Sciamma,Noémie Merlant,63134,3759854.0,95.0\\nPink,2016,136,Drama,8.1,Aniruddha Roy Chowdhury,Taapsee Pannu,39216,1241223.0,\\nKoe no katachi,2016,130,Animation,8.1,Naoko Yamada,Miyu Irino,47708,37039721.0,78.0\\nContratiempo,2016,106,Crime,8.1,Oriol Paulo,Mario Casas,141516,29756639.0,\\nAh-ga-ssi,2016,145,Drama,8.1,Chan-wook Park,Kim Min-hee,113649,2006788.0,84.0\\nMommy,2014,139,Drama,8.1,Xavier Dolan,Anne Dorval,50700,3492754.0,74.0\\nHaider,2014,160,Action,8.1,Vishal Bhardwaj,Shahid Kapoor,50445,901610.0,\\nLogan,2017,137,Action,8.1,James Mangold,Hugh Jackman,647884,226277068.0,77.0\\nRoom,2015,118,Drama,8.1,Lenny Abrahamson,Brie Larson,371538,14677674.0,86.0\\nRelatos salvajes,2014,122,Comedy,8.1,Damián Szifron,Darío Grandinetti,177059,3107072.0,77.0\\nSoul,2020,100,Animation,8.1,Pete Docter,Kemp Powers,159171,321826155.0,83.0\\nKis Uykusu,2014,196,Drama,8.1,Nuri Bilge Ceylan,Haluk Bilginer,46547,165520.0,88.0\\nPK,2014,153,Comedy,8.1,Rajkumar Hirani,Aamir Khan,163061,10616104.0,\\nOMG: Oh My God!,2012,125,Comedy,8.1,Umesh Shukla,Paresh Rawal,51739,923221.0,\\nThe Grand Budapest Hotel,2014,99,Adventure,8.1,Wes Anderson,Ralph Fiennes,707630,59100318.0,88.0\\nGone Girl,2014,149,Drama,8.1,David Fincher,Ben Affleck,859695,167767189.0,79.0\\nÔkami kodomo no Ame to Yuki,2012,117,Animation,8.1,Mamoru Hosoda,Aoi Miyazaki,38803,224400323.0,71.0\\nHacksaw Ridge,2016,139,Biography,8.1,Mel Gibson,Andrew Garfield,435928,67209615.0,71.0\\nInside Out,2015,95,Animation,8.1,Pete Docter,Ronnie Del Carmen,616228,356461711.0,94.0\\nBarfi!,2012,151,Comedy,8.1,Anurag Basu,Ranbir Kapoor,75721,2804874.0,\\n12 Years a Slave,2013,134,Biography,8.1,Steve McQueen,Chiwetel Ejiofor,640533,56671993.0,96.0\\nRush,2013,123,Action,8.1,Ron Howard,Daniel Brühl,432811,26947624.0,74.0\\nFord v Ferrari,2019,152,Action,8.1,James Mangold,Matt Damon,291289,117624028.0,81.0\\nSpotlight,2015,129,Biography,8.1,Tom McCarthy,Mark Ruffalo,420316,45055776.0,93.0\\nSong of the Sea,2014,93,Animation,8.1,Tomm Moore,David Rawle,51679,857524.0,85.0\\nKahaani,2012,122,Mystery,8.1,Sujoy Ghosh,Vidya Balan,57806,1035953.0,\\nZindagi Na Milegi Dobara,2011,155,Comedy,8.1,Zoya Akhtar,Hrithik Roshan,67927,3108485.0,\\nPrisoners,2013,153,Crime,8.1,Denis Villeneuve,Hugh Jackman,601149,61002302.0,70.0\\nMad Max: Fury Road,2015,120,Action,8.1,George Miller,Tom Hardy,882316,154058340.0,90.0\\nA Wednesday,2008,104,Action,8.1,Neeraj Pandey,Anupam Kher,73891,573329738.0,\\nGran Torino,2008,116,Drama,8.1,Clint Eastwood,Clint Eastwood,720450,148095302.0,72.0\\nHarry Potter and the Deathly Hallows: Part 2,2011,130,Adventure,8.1,David Yates,Daniel Radcliffe,764493,381011219.0,85.0\\nOkuribito,2008,130,Drama,8.1,Yôjirô Takita,Masahiro Motoki,48582,1498210.0,68.0\\nHachi: A Dog\\'s Tale,2009,93,Biography,8.1,Lasse Hallström,Richard Gere,253575,91090444.0,\\nMary and Max,2009,92,Animation,8.1,Adam Elliot,Toni Collette,164462,873839108.0,\\nHow to Train Your Dragon,2010,98,Animation,8.1,Dean DeBlois,Chris Sanders,666773,217581231.0,75.0\\nInto the Wild,2007,148,Adventure,8.1,Sean Penn,Emile Hirsch,572921,18354356.0,73.0\\nNo Country for Old Men,2007,122,Crime,8.1,Ethan Coen,Joel Coen,856916,74283625.0,91.0\\nLage Raho Munna Bhai,2006,144,Comedy,8.1,Rajkumar Hirani,Sanjay Dutt,43137,2217561.0,\\nMillion Dollar Baby,2004,132,Drama,8.1,Clint Eastwood,Hilary Swank,635975,100492203.0,86.0\\nHotel Rwanda,2004,121,Biography,8.1,Terry George,Don Cheadle,334320,23530892.0,79.0\\nTaegukgi hwinalrimyeo,2004,140,Action,8.1,Je-kyu Kang,Jang Dong-Gun,37820,1111061.0,64.0\\nBefore Sunset,2004,80,Drama,8.1,Richard Linklater,Ethan Hawke,236311,5820649.0,90.0\\nMunna Bhai M.B.B.S.,2003,156,Comedy,8.1,Rajkumar Hirani,Sanjay Dutt,73992,43851222.0,\\nSalinui chueok,2003,131,Crime,8.1,Bong Joon Ho,Kang-ho Song,139558,14131.0,82.0\\nDil Chahta Hai,2001,183,Comedy,8.1,Farhan Akhtar,Aamir Khan,66803,300000.0,\\nKill Bill: Vol. 1,2003,111,Action,8.1,Quentin Tarantino,Uma Thurman,1000639,70099045.0,69.0\\nFinding Nemo,2003,100,Animation,8.1,Andrew Stanton,Lee Unkrich,949565,380843261.0,90.0\\nCatch Me If You Can,2002,141,Biography,8.1,Steven Spielberg,Leonardo DiCaprio,832846,164615351.0,75.0\\nAmores perros,2000,154,Drama,8.1,Alejandro G. Iñárritu,Emilio Echevarría,223741,5383834.0,83.0\\n\"Monsters, Inc.\",2001,92,Animation,8.1,Pete Docter,David Silverman,815505,289916256.0,79.0\\n\"Shin seiki Evangelion Gekijô-ban: Air/Magokoro wo, kimi ni\",1997,87,Animation,8.1,Hideaki Anno,Kazuya Tsurumaki,38847,364744762.0,\\nLagaan: Once Upon a Time in India,2001,224,Adventure,8.1,Ashutosh Gowariker,Aamir Khan,105036,70147.0,84.0\\nThe Sixth Sense,1999,107,Drama,8.1,M. Night Shyamalan,Bruce Willis,911573,293506292.0,64.0\\nLa leggenda del pianista sull\\'oceano,1998,169,Drama,8.1,Giuseppe Tornatore,Tim Roth,59020,259127.0,58.0\\nThe Truman Show,1998,103,Comedy,8.1,Peter Weir,Jim Carrey,939631,125618201.0,90.0\\n\"Crna macka, beli macor\",1998,127,Comedy,8.1,Emir Kusturica,Bajram Severdzan,50862,348660.0,73.0\\nThe Big Lebowski,1998,117,Comedy,8.1,Joel Coen,Ethan Coen,732620,17498804.0,71.0\\nFa yeung nin wah,2000,98,Drama,8.1,Kar-Wai Wong,Tony Chiu-Wai Leung,124383,2734044.0,85.0\\nTrainspotting,1996,93,Drama,8.1,Danny Boyle,Ewan McGregor,634716,16501785.0,83.0\\nFargo,1996,98,Crime,8.1,Joel Coen,Ethan Coen,617444,24611975.0,85.0\\nUnderground,1995,170,Comedy,8.1,Emir Kusturica,Predrag \\'Miki\\' Manojlovic,55220,171082.0,\\nLa haine,1995,98,Crime,8.1,Mathieu Kassovitz,Vincent Cassel,150345,309811.0,\\nDilwale Dulhania Le Jayenge,1995,189,Drama,8.1,Aditya Chopra,Shah Rukh Khan,63516,15121644.0,\\nBefore Sunrise,1995,101,Drama,8.1,Richard Linklater,Ethan Hawke,272291,5535405.0,77.0\\nTrois couleurs: Rouge,1994,99,Drama,8.1,Krzysztof Kieslowski,Irène Jacob,90729,4043686.0,100.0\\nChung Hing sam lam,1994,102,Comedy,8.1,Kar-Wai Wong,Brigitte Lin,63122,600200.0,77.0\\nJurassic Park,1993,127,Action,8.1,Steven Spielberg,Sam Neill,867615,402453882.0,68.0\\nIn the Name of the Father,1993,133,Biography,8.1,Jim Sheridan,Daniel Day-Lewis,156842,25010410.0,84.0\\nBa wang bie ji,1993,171,Drama,8.1,Kaige Chen,Leslie Cheung,25088,5216888.0,\\nDà hóng denglong gaogao guà,1991,125,Drama,8.1,Yimou Zhang,Gong Li,29662,2603061.0,\\nDead Poets Society,1989,128,Comedy,8.1,Peter Weir,Robin Williams,425457,95860116.0,79.0\\nStand by Me,1986,89,Adventure,8.1,Rob Reiner,Wil Wheaton,363401,52287414.0,75.0\\nPlatoon,1986,120,Drama,8.1,Oliver Stone,Charlie Sheen,381222,138530565.0,92.0\\n\"Paris, Texas\",1984,145,Drama,8.1,Wim Wenders,Harry Dean Stanton,91188,2181987.0,78.0\\nKaze no tani no Naushika,1984,117,Animation,8.1,Hayao Miyazaki,Sumi Shimamoto,150924,495770.0,86.0\\nThe Thing,1982,109,Horror,8.1,John Carpenter,Kurt Russell,371271,13782838.0,57.0\\nPink Floyd: The Wall,1982,95,Drama,8.1,Alan Parker,Bob Geldof,76081,22244207.0,47.0\\nFitzcarraldo,1982,158,Adventure,8.1,Werner Herzog,Klaus Kinski,31595,616558047.0,\\nFanny och Alexander,1982,188,Drama,8.1,Ingmar Bergman,Bertil Guve,57784,4971340.0,100.0\\nBlade Runner,1982,117,Action,8.1,Ridley Scott,Harrison Ford,693827,32868943.0,84.0\\nThe Elephant Man,1980,124,Biography,8.1,David Lynch,Anthony Hopkins,220078,753585104.0,78.0\\nLife of Brian,1979,94,Comedy,8.1,Terry Jones,Graham Chapman,367250,20045115.0,77.0\\nThe Deer Hunter,1978,183,Drama,8.1,Michael Cimino,Robert De Niro,311361,48979328.0,86.0\\nRocky,1976,120,Drama,8.1,John G. Avildsen,Sylvester Stallone,518546,117235247.0,70.0\\nNetwork,1976,121,Drama,8.1,Sidney Lumet,Faye Dunaway,144911,683407829.0,83.0\\nBarry Lyndon,1975,185,Adventure,8.1,Stanley Kubrick,Ryan O\\\n\n*** WARNING: max output size exceeded, skipping output. ***\n\n9,137,Comedy,7.9,Noah Baumbach,Adam Driver,246644,2000000.0,94.0\\nCall Me by Your Name,2017,132,Drama,7.9,Luca Guadagnino,Armie Hammer,212651,18095701.0,93.0\\n\"I, Daniel Blake\",2016,100,Drama,7.9,Ken Loach,Laura Obiols,53818,258168.0,78.0\\nIsle of Dogs,2018,101,Animation,7.9,Wes Anderson,Bryan Cranston,139114,32015231.0,82.0\\nHunt for the Wilderpeople,2016,101,Adventure,7.9,Taika Waititi,Sam Neill,111483,5202582.0,81.0\\nCaptain Fantastic,2016,118,Comedy,7.9,Matt Ross,Viggo Mortensen,189400,5875006.0,72.0\\nSing Street,2016,106,Comedy,7.9,John Carney,Ferdia Walsh-Peelo,85109,3237118.0,79.0\\nThor: Ragnarok,2017,130,Action,7.9,Taika Waititi,Chris Hemsworth,587775,315058289.0,74.0\\nNightcrawler,2014,117,Crime,7.9,Dan Gilroy,Jake Gyllenhaal,466134,32381218.0,76.0\\nJojo Rabbit,2019,108,Comedy,7.9,Taika Waititi,Roman Griffin Davis,297918,349555.0,58.0\\nArrival,2016,116,Drama,7.9,Denis Villeneuve,Amy Adams,594181,100546139.0,81.0\\nStar Wars: Episode VII - The Force Awakens,2015,138,Action,7.9,J.J. Abrams,Daisy Ridley,860823,936662225.0,80.0\\nBefore Midnight,2013,109,Drama,7.9,Richard Linklater,Ethan Hawke,141457,8114627.0,94.0\\nX-Men: Days of Future Past,2014,132,Action,7.9,Bryan Singer,Patrick Stewart,659763,233921534.0,75.0\\nBir Zamanlar Anadolu\\'da,2011,157,Crime,7.9,Nuri Bilge Ceylan,Muhammet Uzuner,41995,138730.0,82.0\\nThe Artist,2011,100,Comedy,7.9,Michel Hazanavicius,Jean Dujardin,230624,44671682.0,89.0\\nEdge of Tomorrow,2014,113,Action,7.9,Doug Liman,Tom Cruise,600004,100206256.0,71.0\\nAmour,2012,127,Drama,7.9,Michael Haneke,Jean-Louis Trintignant,93090,6739492.0,94.0\\nThe Irishman,2019,209,Biography,7.9,Martin Scorsese,Robert De Niro,324720,7000000.0,94.0\\nUn prophète,2009,155,Crime,7.9,Jacques Audiard,Tahar Rahim,93560,2084637.0,90.0\\nMoon,2009,97,Drama,7.9,Duncan Jones,Sam Rockwell,335152,5009677.0,67.0\\nLåt den rätte komma in,2008,114,Crime,7.9,Tomas Alfredson,Kåre Hedebrant,205609,2122065.0,82.0\\nDistrict 9,2009,112,Action,7.9,Neill Blomkamp,Sharlto Copley,638202,115646235.0,81.0\\nThe Wrestler,2008,109,Drama,7.9,Darren Aronofsky,Mickey Rourke,289415,26236603.0,80.0\\nJab We Met,2007,138,Comedy,7.9,Imtiaz Ali,Shahid Kapoor,47720,410800.0,\\nBoyhood,2014,165,Drama,7.9,Richard Linklater,Ellar Coltrane,335533,25379975.0,100.0\\n\"4 luni, 3 saptamâni si 2 zile\",2007,113,Drama,7.9,Cristian Mungiu,Anamaria Marinca,56625,1185783.0,97.0\\nStar Trek,2009,127,Action,7.9,J.J. Abrams,Chris Pine,577336,257730019.0,82.0\\nIn Bruges,2008,107,Comedy,7.9,Martin McDonagh,Colin Farrell,390334,7757130.0,67.0\\nThe Man from Earth,2007,87,Drama,7.9,Richard Schenkman,David Lee Smith,174125,849967373.0,\\nLetters from Iwo Jima,2006,141,Action,7.9,Clint Eastwood,Ken Watanabe,154011,13756082.0,89.0\\nThe Fall,2006,117,Adventure,7.9,Tarsem Singh,Lee Pace,107290,2280348.0,64.0\\nLife of Pi,2012,127,Adventure,7.9,Ang Lee,Suraj Sharma,580708,124987023.0,79.0\\nFantastic Mr. Fox,2009,87,Animation,7.9,Wes Anderson,George Clooney,199696,21002919.0,83.0\\nC.R.A.Z.Y.,2005,129,Comedy,7.9,Jean-Marc Vallée,Michel Côté,31476,527282774.0,81.0\\nLes choristes,2004,97,Drama,7.9,Christophe Barratier,Gérard Jugnot,57430,3635164.0,56.0\\nIron Man,2008,126,Action,7.9,Jon Favreau,Robert Downey Jr.,939644,318412101.0,79.0\\nShaun of the Dead,2004,99,Comedy,7.9,Edgar Wright,Simon Pegg,512249,13542874.0,76.0\\nGegen die Wand,2004,121,Drama,7.9,Fatih Akin,Birol Ünel,51325,213063755.0,78.0\\nMystic River,2003,138,Crime,7.9,Clint Eastwood,Sean Penn,419420,90135191.0,84.0\\nHarry Potter and the Prisoner of Azkaban,2004,142,Adventure,7.9,Alfonso Cuarón,Daniel Radcliffe,552493,249358727.0,82.0\\nYing xiong,2002,120,Action,7.9,Yimou Zhang,Jet Li,173999,53710019.0,85.0\\nHable con ella,2002,112,Drama,7.9,Pedro Almodóvar,Rosario Flores,104691,9284265.0,86.0\\nNo Man\\'s Land,2001,98,Comedy,7.9,Danis Tanovic,Branko Djuric,44618,1059830.0,84.0\\nCowboy Bebop: Tengoku no tobira,2001,115,Animation,7.9,Shin\\'ichirô Watanabe,Tensai Okamura,42897,1000045.0,61.0\\nThe Bourne Identity,2002,119,Action,7.9,Doug Liman,Franka Potente,508771,121661683.0,68.0\\nNueve reinas,2000,114,Crime,7.9,Fabián Bielinsky,Ricardo Darín,49721,1221261.0,80.0\\nChildren of Men,2006,109,Adventure,7.9,Alfonso Cuarón,Julianne Moore,465113,35552383.0,84.0\\nAlmost Famous,2000,122,Adventure,7.9,Cameron Crowe,Billy Crudup,252586,32534850.0,90.0\\nMulholland Dr.,2001,147,Drama,7.9,David Lynch,Naomi Watts,322031,7220243.0,85.0\\nToy Story 2,1999,92,Animation,7.9,John Lasseter,Ash Brannon,527512,245852179.0,88.0\\nBoogie Nights,1997,155,Drama,7.9,Paul Thomas Anderson,Mark Wahlberg,239473,26400640.0,85.0\\nMimi wo sumaseba,1995,111,Animation,7.9,Yoshifumi Kondô,Yoko Honna,51943,252243550.0,75.0\\nOnce Were Warriors,1994,102,Crime,7.9,Lee Tamahori,Rena Owen,31590,2201126.0,77.0\\nTrue Romance,1993,119,Crime,7.9,Tony Scott,Christian Slater,206918,12281500.0,59.0\\nTrois couleurs: Bleu,1993,94,Drama,7.9,Krzysztof Kieslowski,Juliette Binoche,89836,1324974.0,85.0\\nJûbê ninpûchô,1993,94,Animation,7.9,Yoshiaki Kawajiri,Kôichi Yamadera,34529,713576404.0,\\nCarlito\\'s Way,1993,144,Crime,7.9,Brian De Palma,Al Pacino,201000,36948322.0,65.0\\nEdward Scissorhands,1990,105,Drama,7.9,Tim Burton,Johnny Depp,447368,56362352.0,74.0\\nMy Left Foot: The Story of Christy Brown,1989,103,Biography,7.9,Jim Sheridan,Daniel Day-Lewis,68076,14743391.0,97.0\\nCrimes and Misdemeanors,1989,104,Comedy,7.9,Woody Allen,Martin Landau,54670,18254702.0,77.0\\nThe Untouchables,1987,119,Crime,7.9,Brian De Palma,Kevin Costner,281842,76270454.0,79.0\\nHannah and Her Sisters,1986,107,Comedy,7.9,Woody Allen,Mia Farrow,67176,40084041.0,90.0\\nBrazil,1985,132,Drama,7.9,Terry Gilliam,Jonathan Pryce,187567,9929135.0,84.0\\nThis Is Spinal Tap,1984,82,Comedy,7.9,Rob Reiner,Rob Reiner,128812,188751.0,92.0\\nA Christmas Story,1983,93,Comedy,7.9,Bob Clark,Peter Billingsley,132947,20605209.0,77.0\\nThe Blues Brothers,1980,133,Action,7.9,John Landis,John Belushi,183182,57229890.0,60.0\\nManhattan,1979,96,Comedy,7.9,Woody Allen,Woody Allen,131436,45700000.0,83.0\\nAll That Jazz,1979,123,Drama,7.9,Bob Fosse,Roy Scheider,28223,37823676.0,72.0\\nDawn of the Dead,1978,127,Action,7.9,George A. Romero,David Emge,111512,5100000.0,71.0\\nAll the President\\'s Men,1976,138,Biography,7.9,Alan J. Pakula,Dustin Hoffman,103031,70600000.0,84.0\\nLa montaña sagrada,1973,114,Adventure,7.9,Alejandro Jodorowsky,Alejandro Jodorowsky,37183,61001.0,76.0\\nAmarcord,1973,123,Comedy,7.9,Federico Fellini,Magali Noël,39897,882861253.0,\\nLe charme discret de la bourgeoisie,1972,102,Comedy,7.9,Luis Buñuel,Fernando Rey,38737,198809.0,93.0\\n\"Aguirre, der Zorn Gottes\",1972,95,Action,7.9,Werner Herzog,Klaus Kinski,52397,508046921.0,\\nHarold and Maude,1971,91,Comedy,7.9,Hal Ashby,Ruth Gordon,70826,804935438.0,62.0\\nPatton,1970,172,Biography,7.9,Franklin J. Schaffner,George C. Scott,93741,61700000.0,91.0\\nThe Wild Bunch,1969,145,Action,7.9,Sam Peckinpah,William Holden,77401,12064472.0,97.0\\nNight of the Living Dead,1968,96,Horror,7.9,George A. Romero,Duane Jones,116557,89029.0,89.0\\nThe Lion in Winter,1968,134,Biography,7.9,Anthony Harvey,Peter O\\'Toole,29003,22276975.0,\\nIn the Heat of the Night,1967,110,Crime,7.9,Norman Jewison,Sidney Poitier,67804,24379978.0,75.0\\nCharade,1963,113,Comedy,7.9,Stanley Donen,Cary Grant,68689,13474588.0,83.0\\nThe Manchurian Candidate,1962,126,Drama,7.9,John Frankenheimer,Frank Sinatra,71122,238786038.0,94.0\\nSpartacus,1960,197,Adventure,7.9,Stanley Kubrick,Kirk Douglas,124339,30000000.0,87.0\\nL\\'avventura,1960,144,Drama,7.9,Michelangelo Antonioni,Gabriele Ferzetti,26542,872858832.0,\\nHiroshima mon amour,1959,90,Drama,7.9,Alain Resnais,Emmanuelle Riva,28421,88300.0,\\nThe Ten Commandments,1956,220,Adventure,7.9,Cecil B. DeMille,Charlton Heston,63560,93740000.0,\\nThe Searchers,1956,119,Adventure,7.9,John Ford,John Wayne,80316,538886182.0,94.0\\nEast of Eden,1955,118,Drama,7.9,Elia Kazan,James Dean,40313,473570909.0,72.0\\nHigh Noon,1952,85,Drama,7.9,Fred Zinnemann,Gary Cooper,97222,9450000.0,89.0\\nStrangers on a Train,1951,101,Crime,7.9,Alfred Hitchcock,Farley Granger,123341,7630000.0,88.0\\nHarvey,1950,104,Comedy,7.9,Henry Koster,James Stewart,52573,886752933.0,\\nMiracle on 34th Street,1947,96,Comedy,7.9,George Seaton,Edmund Gwenn,41625,2650000.0,88.0\\nNotorious,1946,102,Drama,7.9,Alfred Hitchcock,Cary Grant,92306,10464000.0,100.0\\nThe Big Sleep,1946,114,Crime,7.9,Howard Hawks,Humphrey Bogart,78796,6540000.0,\\nThe Lost Weekend,1945,101,Drama,7.9,Billy Wilder,Ray Milland,33549,9460000.0,\\nThe Philadelphia Story,1940,112,Comedy,7.9,George Cukor,Cary Grant,63550,463399372.0,96.0\\nHis Girl Friday,1940,92,Comedy,7.9,Howard Hawks,Cary Grant,53667,296000.0,\\nThe Adventures of Robin Hood,1938,102,Action,7.9,Michael Curtiz,William Keighley,47175,3981000.0,97.0\\nA Night at the Opera,1935,96,Comedy,7.9,Sam Wood,Edmund Goulding,30580,2537520.0,\\nKing Kong,1933,100,Adventure,7.9,Merian C. Cooper,Ernest B. Schoedsack,78991,10000000.0,90.0\\nFreaks,1932,64,Drama,7.9,Tod Browning,Wallace Ford,42117,355665088.0,80.0\\nNosferatu,1922,94,Fantasy,7.9,F.W. Murnau,Max Schreck,88794,445151978.0,\\nThe Gentlemen,2019,113,Action,7.8,Guy Ritchie,Matthew McConaughey,237392,179413519.0,51.0\\nRaazi,2018,138,Action,7.8,Meghna Gulzar,Alia Bhatt,25344,896910257.0,\\nSound of Metal,2019,120,Drama,7.8,Darius Marder,Riz Ahmed,27187,196719735.0,81.0\\nForushande,2016,124,Drama,7.8,Asghar Farhadi,Shahab Hosseini,51240,2402067.0,85.0\\nDunkirk,2017,106,Action,7.8,Christopher Nolan,Fionn Whitehead,555092,188373161.0,94.0\\nPerfetti sconosciuti,2016,96,Comedy,7.8,Paolo Genovese,Giuseppe Battiston,57168,729888765.0,\\nHidden Figures,2016,127,Biography,7.8,Theodore Melfi,Taraji P. Henson,200876,169607287.0,74.0\\nPaddington 2,2017,103,Adventure,7.8,Paul King,Ben Whishaw,61594,40442052.0,88.0\\nUdta Punjab,2016,148,Action,7.8,Abhishek Chaubey,Shahid Kapoor,27175,218428303.0,\\nKubo and the Two Strings,2016,101,Animation,7.8,Travis Knight,Charlize Theron,118035,48023088.0,84.0\\nM.S. Dhoni: The Untold Story,2016,184,Biography,7.8,Neeraj Pandey,Sushant Singh Rajput,40416,1782795.0,\\nManchester by the Sea,2016,137,Drama,7.8,Kenneth Lonergan,Casey Affleck,246963,47695120.0,96.0\\nUnder sandet,2015,100,Drama,7.8,Martin Zandvliet,Roland Møller,35539,435266.0,75.0\\nRogue One,2016,133,Action,7.8,Gareth Edwards,Felicity Jones,556608,532177324.0,65.0\\nCaptain America: Civil War,2016,147,Action,7.8,Anthony Russo,Joe Russo,663649,408084349.0,75.0\\nThe Hateful Eight,2015,168,Crime,7.8,Quentin Tarantino,Samuel L. Jackson,517059,54117416.0,68.0\\nLittle Women,2019,135,Drama,7.8,Greta Gerwig,Saoirse Ronan,143250,108101214.0,91.0\\nLoving Vincent,2017,94,Animation,7.8,Dorota Kobiela,Hugh Welchman,50778,6735118.0,62.0\\nPride,2014,119,Biography,7.8,Matthew Warchus,Bill Nighy,51841,574305769.0,79.0\\nLe passé,2013,130,Drama,7.8,Asghar Farhadi,Bérénice Bejo,45002,1330596.0,85.0\\nLa grande bellezza,2013,141,Drama,7.8,Paolo Sorrentino,Toni Servillo,81125,2852400.0,86.0\\nThe Lunchbox,2013,104,Drama,7.8,Ritesh Batra,Irrfan Khan,50523,4231500.0,76.0\\nVicky Donor,2012,126,Comedy,7.8,Shoojit Sircar,Ayushmann Khurrana,39710,169209.0,\\nBig Hero 6,2014,102,Animation,7.8,Don Hall,Chris Williams,410983,222527828.0,74.0\\nAbout Time,2013,123,Comedy,7.8,Richard Curtis,Domhnall Gleeson,303032,15322921.0,55.0\\nEnglish Vinglish,2012,134,Comedy,7.8,Gauri Shinde,Sridevi,33618,1670773.0,\\nKaze tachinu,2013,126,Animation,7.8,Hayao Miyazaki,Hideaki Anno,73690,5209580.0,83.0\\nToy Story 4,2019,100,Animation,7.8,Josh Cooley,Tom Hanks,203177,434038008.0,84.0\\nLa migliore offerta,2013,131,Crime,7.8,Giuseppe Tornatore,Geoffrey Rush,108399,85433.0,49.0\\nMoonrise Kingdom,2012,94,Comedy,7.8,Wes Anderson,Jared Gilman,318789,45512466.0,84.0\\nHow to Train Your Dragon 2,2014,102,Animation,7.8,Dean DeBlois,Jay Baruchel,305611,177002924.0,76.0\\nThe Big Short,2015,130,Biography,7.8,Adam McKay,Christian Bale,362942,70259870.0,81.0\\nKokuhaku,2010,106,Drama,7.8,Tetsuya Nakashima,Takako Matsu,35713,18500194.0,\\nAng-ma-reul bo-at-da,2010,144,Action,7.8,Jee-woon Kim,Lee Byung-Hun,111252,128392.0,67.0\\nThe Girl with the Dragon Tattoo,2011,158,Crime,7.8,David Fincher,Daniel Craig,423010,102515793.0,71.0\\nCaptain Phillips,2013,134,Adventure,7.8,Paul Greengrass,Tom Hanks,421244,107100855.0,82.0\\nAjeossi,2010,119,Action,7.8,Jeong-beom Lee,Won Bin,62848,6460.0,\\nStraight Outta Compton,2015,147,Biography,7.8,F. Gary Gray,O\\'Shea Jackson Jr.,179264,161197785.0,72.0\\nMadeo,2009,129,Crime,7.8,Bong Joon Ho,Hye-ja Kim,52758,547292.0,79.0\\nChugyeokja,2008,125,Action,7.8,Hong-jin Na,Kim Yoon-seok,58468,369366051.0,64.0\\nThe Hobbit: The Desolation of Smaug,2013,161,Adventure,7.8,Peter Jackson,Ian McKellen,601408,258366855.0,66.0\\nDas weiße Band - Eine deutsche Kindergeschichte,2009,144,Drama,7.8,Michael Haneke,Christian Friedel,68715,2222647.0,82.0\\nMän som hatar kvinnor,2009,152,Crime,7.8,Niels Arden Oplev,Michael Nyqvist,208994,10095170.0,76.0\\nThe Trial of the Chicago 7,2020,129,Drama,7.8,Aaron Sorkin,Eddie Redmayne,89896,853090410.0,77.0\\nDruk,2020,117,Comedy,7.8,Thomas Vinterberg,Mads Mikkelsen,33931,349916480.0,81.0\\nThe Fighter,2010,116,Biography,7.8,David O. Russell,Mark Wahlberg,340584,93617009.0,79.0\\nTaken,2008,90,Action,7.8,Pierre Morel,Liam Neeson,564791,145000989.0,51.0\\nThe Boy in the Striped Pyjamas,2008,94,Drama,7.8,Mark Herman,Asa Butterfield,190748,9030581.0,55.0\\nOnce,2007,86,Drama,7.8,John Carney,Glen Hansard,110656,9439923.0,88.0\\nThe Hobbit: An Unexpected Journey,2012,169,Adventure,7.8,Peter Jackson,Martin Freeman,757377,303003568.0,58.0\\nAuf der anderen Seite,2007,122,Drama,7.8,Fatih Akin,Baki Davrak,30827,741283.0,85.0\\nAtonement,2007,123,Drama,7.8,Joe Wright,Keira Knightley,251370,50927067.0,85.0\\nDrive,2011,100,Crime,7.8,Nicolas Winding Refn,Ryan Gosling,571571,35061555.0,78.0\\nAmerican Gangster,2007,157,Biography,7.8,Ridley Scott,Denzel Washington,392449,130164645.0,76.0\\nAvatar,2009,162,Action,7.8,James Cameron,Sam Worthington,1118998,760507625.0,83.0\\nMr. Nobody,2009,141,Drama,7.8,Jaco Van Dormael,Jared Leto,216421,3600.0,63.0\\nApocalypto,2006,139,Action,7.8,Mel Gibson,Gerardo Taracena,291018,50866635.0,68.0\\nLittle Miss Sunshine,2006,101,Comedy,7.8,Jonathan Dayton,Valerie Faris,439856,59891098.0,80.0\\nHot Fuzz,2007,121,Action,7.8,Edgar Wright,Simon Pegg,463466,23637265.0,81.0\\nThe Curious Case of Benjamin Button,2008,166,Drama,7.8,David Fincher,Brad Pitt,589160,127509326.0,70.0\\nVeer-Zaara,2004,192,Drama,7.8,Yash Chopra,Shah Rukh Khan,49050,2921738.0,67.0\\nAdams æbler,2005,94,Comedy,7.8,Anders Thomas Jensen,Ulrich Thomsen,45717,1305.0,51.0\\nPride & Prejudice,2005,129,Drama,7.8,Joe Wright,Keira Knightley,258924,38405088.0,82.0\\nThe World\\'s Fastest Indian,2005,127,Biography,7.8,Roger Donaldson,Anthony Hopkins,51980,5128124.0,68.0\\nTôkyô goddofâzâzu,2003,90,Animation,7.8,Satoshi Kon,Shôgo Furuya,31658,128985.0,73.0\\nSerenity,2005,119,Action,7.8,Joss Whedon,Nathan Fillion,283310,25514517.0,74.0\\nWalk the Line,2005,136,Biography,7.8,James Mangold,Joaquin Phoenix,234207,119519402.0,72.0\\nOndskan,2003,113,Drama,7.8,Mikael Håfström,Andreas Wilson,35682,15280.0,61.0\\nThe Notebook,2004,123,Drama,7.8,Nick Cassavetes,Gena Rowlands,520284,81001787.0,53.0\\nDiarios de motocicleta,2004,126,Adventure,7.8,Walter Salles,Gael García Bernal,96703,16756372.0,75.0\\nLilja 4-ever,2002,109,Crime,7.8,Lukas Moodysson,Oksana Akinshina,42673,181655.0,82.0\\nLes triplettes de Belleville,2003,80,Animation,7.8,Sylvain Chomet,Michèle Caucheteux,50622,7002255.0,91.0\\nGongdong gyeongbi guyeok JSA,2000,110,Action,7.8,Chan-wook Park,Lee Yeong-ae,26518,147161249.0,58.0\\nThe Count of Monte Cristo,2002,131,Action,7.8,Kevin Reynolds,Jim Caviezel,129022,54234062.0,61.0\\nWaking Life,2001,99,Animation,7.8,Richard Linklater,Ethan Hawke,60684,2892011.0,83.0\\nRemember the Titans,2000,113,Biography,7.8,Boaz Yakin,Denzel Washington,198089,115654751.0,48.0\\nWo hu cang long,2000,120,Action,7.8,Ang Lee,Yun-Fat Chow,253228,128078872.0,94.0\\nTodo sobre mi madre,1999,101,Drama,7.8,Pedro Almodóvar,Cecilia Roth,89058,8264530.0,87.0\\nCast Away,2000,143,Adventure,7.8,Robert Zemeckis,Tom Hanks,524235,233632142.0,73.0\\nThe Boondock Saints,1999,108,Action,7.8,Troy Duffy,Willem Dafoe,227143,25812.0,44.0\\nThe Insider,1999,157,Biography,7.8,Michael Mann,Russell Crowe,159886,28965197.0,84.0\\nOctober Sky,1999,108,Biography,7.8,Joe Johnston,Jake Gyllenhaal,82855,32481825.0,71.0\\nShrek,2001,90,Animation,7.8,Andrew Adamson,Vicky Jenson,613941,267665011.0,84.0\\nTitanic,1997,194,Drama,7.8,James Cameron,Leonardo DiCaprio,1046089,659325379.0,75.0\\nHana-bi,1997,103,Crime,7.8,Takeshi Kitano,Takeshi Kitano,27712,233986.0,\\nGattaca,1997,106,Drama,7.8,Andrew Niccol,Ethan Hawke,280845,12339633.0,64.0\\nThe Game,1997,129,Action,7.8,David Fincher,Michael Douglas,345096,48323648.0,61.0\\nBreaking the Waves,1996,159,Drama,7.8,Lars von Trier,Emily Watson,62428,4040691.0,76.0\\nEd Wood,1994,127,Biography,7.8,Tim Burton,Johnny Depp,164937,5887457.0,70.0\\nWhat\\'s Eating Gilbert Grape,1993,118,Drama,7.8,Lasse Hallström,Johnny Depp,215034,9170214.0,73.0\\nTombstone,1993,130,Action,7.8,George P. Cosmatos,Kevin Jarre,126871,56505065.0,50.0\\nThe Sandlot,1993,101,Comedy,7.8,David Mickey Evans,Tom Guiry,78963,32416586.0,55.0\\nThe Remains of the Day,1993,134,Drama,7.8,James Ivory,Anthony Hopkins,66065,22954968.0,84.0\\nNaked,1993,132,Comedy,7.8,Mike Leigh,David Thewlis,34635,1769305.0,84.0\\nThe Fugitive,1993,130,Action,7.8,Andrew Davis,Harrison Ford,267684,183875760.0,87.0\\nA Bronx Tale,1993,121,Crime,7.8,Robert De Niro,Robert De Niro,128171,17266971.0,80.0\\nBatman: Mask of the Phantasm,1993,76,Animation,7.8,Kevin Altieri,Boyd Kirkland,43690,5617391.0,\\nLat sau san taam,1992,128,Action,7.8,John Woo,Yun-Fat Chow,46700,565451439.0,\\nNight on Earth,1991,129,Comedy,7.8,Jim Jarmusch,Winona Ryder,55362,2015810.0,68.0\\nLa double vie de Véronique,1991,98,Drama,7.8,Krzysztof Kieslowski,Irène Jacob,42376,1999955.0,86.0\\nBoyz n the Hood,1991,112,Crime,7.8,John Singleton,Cuba Gooding Jr.,126082,57504069.0,76.0\\nMisery,1990,107,Drama,7.8,Rob Reiner,James Caan,184740,61276872.0,75.0\\nAwakenings,1990,121,Biography,7.8,Penny Marshall,Robert De Niro,125276,52096475.0,74.0\\nMajo no takkyûbin,1989,103,Animation,7.8,Hayao Miyazaki,Kirsten Dunst,124193,58564351.0,83.0\\nGlory,1989,122,Biography,7.8,Edward Zwick,Matthew Broderick,122779,26830000.0,78.0\\nDip huet seung hung,1989,111,Action,7.8,John Woo,Yun-Fat Chow,45624,549325150.0,82.0\\nBack to the Future Part II,1989,108,Adventure,7.8,Robert Zemeckis,Michael J. Fox,481918,118500000.0,57.0\\nMississippi Burning,1988,128,Crime,7.8,Alan Parker,Gene Hackman,88214,34603943.0,65.0\\nPredator,1987,107,Action,7.8,John McTiernan,Arnold Schwarzenegger,371387,59735548.0,45.0\\nEvil Dead II,1987,84,Action,7.8,Sam Raimi,Bruce Campbell,148359,5923044.0,72.0\\nFerris Bueller\\'s Day Off,1986,103,Comedy,7.8,John Hughes,Matthew Broderick,321382,70136369.0,61.0\\nDown by Law,1986,107,Comedy,7.8,Jim Jarmusch,Tom Waits,47834,1436000.0,75.0\\nThe Goonies,1985,114,Adventure,7.8,Richard Donner,Sean Astin,244430,61503218.0,62.0\\nThe Color Purple,1985,154,Drama,7.8,Steven Spielberg,Danny Glover,78321,98467863.0,78.0\\nThe Breakfast Club,1985,97,Comedy,7.8,John Hughes,Emilio Estevez,357026,45875171.0,66.0\\nThe Killing Fields,1984,141,Biography,7.8,Roland Joffé,Sam Waterston,51585,34700291.0,76.0\\nGhostbusters,1984,105,Action,7.8,Ivan Reitman,Bill Murray,355413,238632124.0,71.0\\nThe Right Stuff,1983,193,Adventure,7.8,Philip Kaufman,Sam Shepard,56235,21500000.0,91.0\\nThe King of Comedy,1982,109,Comedy,7.8,Martin Scorsese,Robert De Niro,88511,2500000.0,73.0\\nE.T. the Extra-Terrestrial,1982,115,Family,7.8,Steven Spielberg,Henry Thomas,372490,435110554.0,91.0\\nKramer vs. Kramer,1979,105,Drama,7.8,Robert Benton,Dustin Hoffman,133351,106260000.0,77.0\\nDays of Heaven,1978,94,Drama,7.8,Terrence Malick,Richard Gere,52852,116446147.0,93.0\\nThe Outlaw Josey Wales,1976,135,Western,7.8,Clint Eastwood,Clint Eastwood,65659,31800000.0,69.0\\nThe Man Who Would Be King,1975,129,Adventure,7.8,John Huston,Sean Connery,44917,335861628.0,91.0\\nThe Conversation,1974,113,Drama,7.8,Francis Ford Coppola,Gene Hackman,98611,4420000.0,85.0\\nLa planète sauvage,1973,72,Animation,7.8,René Laloux,Barry Bostwick,25229,193817.0,73.0\\nThe Day of the Jackal,1973,143,Crime,7.8,Fred Zinnemann,Edward Fox,37445,16056255.0,80.0\\nBadlands,1973,94,Action,7.8,Terrence Malick,Martin Sheen,66009,88117434.0,93.0\\nCabaret,1972,124,Drama,7.8,Bob Fosse,Liza Minnelli,48334,42765000.0,80.0\\nWilly Wonka & the Chocolate Factory,1971,100,Family,7.8,Mel Stuart,Gene Wilder,178731,4000000.0,67.0\\nMidnight Cowboy,1969,113,Drama,7.8,John Schlesinger,Dustin Hoffman,101124,44785053.0,79.0\\nWait Until Dark,1967,108,Thriller,7.8,Terence Young,Audrey Hepburn,27733,17550741.0,81.0\\nGuess Who\\'s Coming to Dinner,1967,108,Comedy,7.8,Stanley Kramer,Spencer Tracy,39642,56700000.0,63.0\\nBonnie and Clyde,1967,111,Action,7.8,Arthur Penn,Warren Beatty,102415,909838190.0,86.0\\nMy Fair Lady,1964,170,Drama,7.8,George Cukor,Audrey Hepburn,86525,72000000.0,95.0\\nMary Poppins,1964,139,Comedy,7.8,Robert Stevenson,Julie Andrews,158029,102272727.0,88.0\\nThe Longest Day,1962,178,Action,7.8,Ken Annakin,Andrew Marton,52141,39100000.0,75.0\\nJules et Jim,1962,105,Drama,7.8,François Truffaut,Jeanne Moreau,37605,819571597.0,97.0\\nThe Innocents,1961,100,Horror,7.8,Jack Clayton,Deborah Kerr,27007,2616000.0,88.0\\nÀ bout de souffle,1960,90,Crime,7.8,Jean-Luc Godard,Jean-Paul Belmondo,73251,336705.0,\\nRed River,1948,133,Action,7.8,Howard Hawks,Arthur Rosson,28167,116161549.0,\\nKey Largo,1948,100,Action,7.8,John Huston,Humphrey Bogart,36995,55936517.0,\\nTo Have and Have Not,1944,100,Adventure,7.8,Howard Hawks,Humphrey Bogart,31053,477606207.0,\\nShadow of a Doubt,1943,108,Film-Noir,7.8,Alfred Hitchcock,Teresa Wright,59556,123353292.0,94.0\\nStagecoach,1939,96,Adventure,7.8,John Ford,John Wayne,43621,404971331.0,93.0\\nThe Lady Vanishes,1938,96,Mystery,7.8,Alfred Hitchcock,Margaret Lockwood,47400,474203697.0,98.0\\nBringing Up Baby,1938,102,Comedy,7.8,Howard Hawks,Katharine Hepburn,55163,152238346.0,91.0\\nBride of Frankenstein,1935,75,Drama,7.8,James Whale,Boris Karloff,43542,4360000.0,95.0\\nDuck Soup,1933,69,Comedy,7.8,Leo McCarey,Groucho Marx,55581,350197185.0,93.0\\nScarface: The Shame of the Nation,1932,93,Action,7.8,Howard Hawks,Richard Rosson,25312,82900837.0,87.0\\nFrankenstein,1931,70,Drama,7.8,James Whale,Colin Clive,65341,63617892.0,91.0\\nRoma,2018,135,Drama,7.7,Alfonso Cuarón,Yalitza Aparicio,140375,557873261.0,96.0\\nGod\\'s Own Country,2017,104,Drama,7.7,Francis Lee,Josh O\\'Connor,25198,335609.0,85.0\\nDeadpool 2,2018,119,Action,7.7,David Leitch,Ryan Reynolds,478586,324591735.0,66.0\\nWind River,2017,107,Crime,7.7,Taylor Sheridan,Kelsey Asbille,205444,33800859.0,73.0\\nGet Out,2017,104,Horror,7.7,Jordan Peele,Daniel Kaluuya,492851,176040665.0,85.0\\nMission: Impossible - Fallout,2018,147,Action,7.7,Christopher McQuarrie,Tom Cruise,291257,220159104.0,86.0\\nEn man som heter Ove,2015,116,Comedy,7.7,Hannes Holm,Rolf Lassgård,47444,3358518.0,70.0\\nWhat We Do in the Shadows,2014,86,Comedy,7.7,Jemaine Clement,Taika Waititi,157498,3333000.0,76.0\\nOmoide no Mânî,2014,103,Animation,7.7,James Simone,Hiromasa Yonebayashi,32798,765127.0,72.0\\nThe Theory of Everything,2014,123,Biography,7.7,James Marsh,Eddie Redmayne,404182,35893537.0,72.0\\nKingsman: The Secret Service,2014,129,Action,7.7,Matthew Vaughn,Colin Firth,590440,128261724.0,60.0\\nThe Fault in Our Stars,2014,126,Drama,7.7,Josh Boone,Shailene Woodley,344312,124872350.0,69.0\\nMe and Earl and the Dying Girl,2015,105,Comedy,7.7,Alfonso Gomez-Rejon,Thomas Mann,123210,6743776.0,74.0\\nBirdman or (The Unexpected Virtue of Ignorance),2014,119,Comedy,7.7,Alejandro G. Iñárritu,Michael Keaton,580291,42340598.0,87.0\\nLa vie d\\'Adèle,2013,180,Drama,7.7,Abdellatif Kechiche,Léa Seydoux,138741,2199675.0,89.0\\nKai po che!,2013,130,Drama,7.7,Abhishek Kapoor,Amit Sadh,32628,1122527.0,40.0\\nThe Broken Circle Breakdown,2012,111,Drama,7.7,Felix van Groeningen,Veerle Baetens,39379,175058.0,70.0\\nCaptain America: The Winter Soldier,2014,136,Action,7.7,Anthony Russo,Joe Russo,736182,259766572.0,70.0\\nRockstar,2011,159,Drama,7.7,Imtiaz Ali,Ranbir Kapoor,39501,985912.0,\\nNebraska,2013,115,Adventure,7.7,Alexander Payne,Bruce Dern,112298,17654912.0,87.0\\nWreck-It Ralph,2012,101,Animation,7.7,Rich Moore,John C. Reilly,380195,189422889.0,72.0\\nLe Petit Prince,2015,108,Animation,7.7,Mark Osborne,Jeff Bridges,56720,1339152.0,70.0\\nDetachment,2011,98,Drama,7.7,Tony Kaye,Adrien Brody,77071,71177.0,52.0\\nMidnight in Paris,2011,96,Comedy,7.7,Woody Allen,Owen Wilson,388089,56816662.0,81.0\\nThe Lego Movie,2014,100,Animation,7.7,Christopher Miller,Phil Lord,323982,257760692.0,83.0\\nGravity,2013,91,Drama,7.7,Alfonso Cuarón,Sandra Bullock,769145,274092705.0,96.0\\nStar Trek Into Darkness,2013,132,Action,7.7,J.J. Abrams,Chris Pine,463188,228778661.0,72.0\\nBeasts of No Nation,2015,137,Drama,7.7,Cary Joji Fukunaga,Abraham Attah,73964,83861.0,79.0\\nThe Social Network,2010,120,Biography,7.7,David Fincher,Jesse Eisenberg,624982,9'"
     ]
    }
   ],
   "source": [
    "dbutils.fs.head(\"/FileStore/tables/imdb_top_1000.csv\")"
   ]
  },
  {
   "cell_type": "code",
   "execution_count": 0,
   "metadata": {
    "application/vnd.databricks.v1+cell": {
     "cellMetadata": {
      "byteLimit": 2048000,
      "rowLimit": 10000
     },
     "inputWidgets": {},
     "nuid": "5d37a73a-7d48-41ca-84a3-032653a56498",
     "showTitle": false,
     "title": ""
    }
   },
   "outputs": [
    {
     "output_type": "stream",
     "name": "stdout",
     "output_type": "stream",
     "text": [
      "Out[33]: [FileInfo(path='dbfs:/FileStore/tables/', name='tables/', size=0, modificationTime=0)]"
     ]
    }
   ],
   "source": [
    "# dbutils.fs.mkdirs(\"/FileStore/tutorial/test\")\n",
    "dbutils.fs.ls(\"/FileStore/\")"
   ]
  },
  {
   "cell_type": "code",
   "execution_count": 0,
   "metadata": {
    "application/vnd.databricks.v1+cell": {
     "cellMetadata": {
      "byteLimit": 2048000,
      "rowLimit": 10000
     },
     "inputWidgets": {},
     "nuid": "9767e4e2-9a5b-41f8-a64c-4286a40ee508",
     "showTitle": false,
     "title": ""
    }
   },
   "outputs": [
    {
     "output_type": "stream",
     "name": "stdout",
     "output_type": "stream",
     "text": [
      "Out[14]: True"
     ]
    }
   ],
   "source": [
    "dbutils.fs.cp(\"/FileStore/tutorial/imdb_top_1000.csv\",\"/FileStore/tutorial/test\")"
   ]
  },
  {
   "cell_type": "code",
   "execution_count": 0,
   "metadata": {
    "application/vnd.databricks.v1+cell": {
     "cellMetadata": {
      "byteLimit": 2048000,
      "rowLimit": 10000
     },
     "inputWidgets": {},
     "nuid": "54c5939b-d300-4449-8b9c-523f38289adc",
     "showTitle": false,
     "title": ""
    }
   },
   "outputs": [
    {
     "output_type": "stream",
     "name": "stdout",
     "output_type": "stream",
     "text": [
      "Out[4]: True"
     ]
    }
   ],
   "source": [
    "dbutils.fs.cp(\"/FileStore/tables/batsman_runs_ipl.csv\",\"/FileStore/images\")"
   ]
  },
  {
   "cell_type": "code",
   "execution_count": 0,
   "metadata": {
    "application/vnd.databricks.v1+cell": {
     "cellMetadata": {
      "byteLimit": 2048000,
      "rowLimit": 10000
     },
     "inputWidgets": {},
     "nuid": "158d970b-ff27-4e32-87eb-20783b5f2aac",
     "showTitle": false,
     "title": ""
    }
   },
   "outputs": [
    {
     "output_type": "display_data",
     "data": {
      "text/html": [
       "<div class = \"ansiout\">/**<br /> * Writes the given String out to a file, encoded in UTF-8.<br /> * <br /> * Example: put(\"/mnt/my-folder/my-file\", \"Hello world!\", true)<br /> * <br /> * @param file FileSystem URI<br /> * @param contents Contents of file to write, encoded in System default charset.<br /> * @param overwrite If set to true, the file will be overwritten if it existed already.<br /> *                  Note that if overwrite is true and the the write fails, the original file<br /> *                  may still be deleted.<br /> */<br /><b>put(file: java.lang.String, contents: java.lang.String, overwrite: boolean = false): boolean</b></div><br />"
      ]
     },
     "metadata": {
      "application/vnd.databricks.v1+output": {
       "addedWidgets": {},
       "arguments": {},
       "data": "<div class = \"ansiout\">/**<br /> * Writes the given String out to a file, encoded in UTF-8.<br /> * <br /> * Example: put(\"/mnt/my-folder/my-file\", \"Hello world!\", true)<br /> * <br /> * @param file FileSystem URI<br /> * @param contents Contents of file to write, encoded in System default charset.<br /> * @param overwrite If set to true, the file will be overwritten if it existed already.<br /> *                  Note that if overwrite is true and the the write fails, the original file<br /> *                  may still be deleted.<br /> */<br /><b>put(file: java.lang.String, contents: java.lang.String, overwrite: boolean = false): boolean</b></div><br />",
       "datasetInfos": [],
       "metadata": {},
       "removedWidgets": [],
       "textData": null,
       "type": "htmlSandbox"
      }
     },
     "output_type": "display_data"
    }
   ],
   "source": [
    "dbutils.fs.help(\"put\")"
   ]
  },
  {
   "cell_type": "code",
   "execution_count": 0,
   "metadata": {
    "application/vnd.databricks.v1+cell": {
     "cellMetadata": {
      "byteLimit": 2048000,
      "rowLimit": 10000
     },
     "inputWidgets": {},
     "nuid": "fcacca85-7656-4ec8-b8d0-f8c2cbf0490a",
     "showTitle": false,
     "title": ""
    }
   },
   "outputs": [
    {
     "output_type": "display_data",
     "data": {
      "text/plain": [
       "\u001B[0;31m---------------------------------------------------------------------------\u001B[0m\n",
       "\u001B[0;31mExecutionError\u001B[0m                            Traceback (most recent call last)\n",
       "\u001B[0;32m<command-215239882848682>\u001B[0m in \u001B[0;36m<cell line: 1>\u001B[0;34m()\u001B[0m\n",
       "\u001B[0;32m----> 1\u001B[0;31m \u001B[0mdbutils\u001B[0m\u001B[0;34m.\u001B[0m\u001B[0mfs\u001B[0m\u001B[0;34m.\u001B[0m\u001B[0mput\u001B[0m\u001B[0;34m(\u001B[0m\u001B[0;34m\"/FileStore/tutorial/test/test.txt\"\u001B[0m\u001B[0;34m,\u001B[0m\u001B[0;34m\"hello\"\u001B[0m\u001B[0;34m)\u001B[0m\u001B[0;34m\u001B[0m\u001B[0;34m\u001B[0m\u001B[0m\n",
       "\u001B[0m\n",
       "\u001B[0;32m/databricks/python_shell/dbruntime/dbutils.py\u001B[0m in \u001B[0;36mf_with_exception_handling\u001B[0;34m(*args, **kwargs)\u001B[0m\n",
       "\u001B[1;32m    360\u001B[0m                     \u001B[0mexc\u001B[0m\u001B[0;34m.\u001B[0m\u001B[0m__context__\u001B[0m \u001B[0;34m=\u001B[0m \u001B[0;32mNone\u001B[0m\u001B[0;34m\u001B[0m\u001B[0;34m\u001B[0m\u001B[0m\n",
       "\u001B[1;32m    361\u001B[0m                     \u001B[0mexc\u001B[0m\u001B[0;34m.\u001B[0m\u001B[0m__cause__\u001B[0m \u001B[0;34m=\u001B[0m \u001B[0;32mNone\u001B[0m\u001B[0;34m\u001B[0m\u001B[0;34m\u001B[0m\u001B[0m\n",
       "\u001B[0;32m--> 362\u001B[0;31m                     \u001B[0;32mraise\u001B[0m \u001B[0mexc\u001B[0m\u001B[0;34m\u001B[0m\u001B[0;34m\u001B[0m\u001B[0m\n",
       "\u001B[0m\u001B[1;32m    363\u001B[0m \u001B[0;34m\u001B[0m\u001B[0m\n",
       "\u001B[1;32m    364\u001B[0m             \u001B[0;32mreturn\u001B[0m \u001B[0mf_with_exception_handling\u001B[0m\u001B[0;34m\u001B[0m\u001B[0;34m\u001B[0m\u001B[0m\n",
       "\n",
       "\u001B[0;31mExecutionError\u001B[0m: An error occurred while calling o387.put.\n",
       ": org.apache.hadoop.fs.FileAlreadyExistsException: s3a://databricks-prod-storage-oregon/devtierprod1/239590035921172/FileStore/tutorial/test/test.txt already exists\n",
       "\tat com.databricks.backend.daemon.data.client.DbfsClient.send0(DbfsClient.scala:124)\n",
       "\tat com.databricks.backend.daemon.data.client.DbfsClient.sendNonIdempotent(DbfsClient.scala:82)\n",
       "\tat com.databricks.backend.daemon.data.client.DatabricksFileSystemV1.createUnbuffered(DatabricksFileSystemV1.scala:127)\n",
       "\tat com.databricks.backend.daemon.data.client.DatabricksFileSystemV1.create(DatabricksFileSystemV1.scala:109)\n",
       "\tat com.databricks.backend.daemon.data.client.DatabricksFileSystem.create(DatabricksFileSystem.scala:142)\n",
       "\tat org.apache.hadoop.fs.FileSystem.create(FileSystem.java:1195)\n",
       "\tat org.apache.hadoop.fs.FileSystem.create(FileSystem.java:1175)\n",
       "\tat org.apache.hadoop.fs.FileSystem.create(FileSystem.java:1064)\n",
       "\tat com.databricks.backend.daemon.dbutils.FSUtils.$anonfun$put$3(DBUtilsCore.scala:448)\n",
       "\tat com.databricks.backend.daemon.dbutils.FSUtils.withFsSafetyCheck(DBUtilsCore.scala:143)\n",
       "\tat com.databricks.backend.daemon.dbutils.FSUtils.$anonfun$put$2(DBUtilsCore.scala:445)\n",
       "\tat com.databricks.backend.daemon.dbutils.FSUtils.checkPermission(DBUtilsCore.scala:138)\n",
       "\tat com.databricks.backend.daemon.dbutils.FSUtils.$anonfun$put$1(DBUtilsCore.scala:445)\n",
       "\tat com.databricks.logging.UsageLogging.$anonfun$recordOperation$1(UsageLogging.scala:547)\n",
       "\tat com.databricks.logging.UsageLogging.executeThunkAndCaptureResultTags$1(UsageLogging.scala:642)\n",
       "\tat com.databricks.logging.UsageLogging.$anonfun$recordOperationWithResultTags$4(UsageLogging.scala:663)\n",
       "\tat com.databricks.logging.UsageLogging.$anonfun$withAttributionContext$1(UsageLogging.scala:404)\n",
       "\tat scala.util.DynamicVariable.withValue(DynamicVariable.scala:62)\n",
       "\tat com.databricks.logging.AttributionContext$.withValue(AttributionContext.scala:147)\n",
       "\tat com.databricks.logging.UsageLogging.withAttributionContext(UsageLogging.scala:402)\n",
       "\tat com.databricks.logging.UsageLogging.withAttributionContext$(UsageLogging.scala:399)\n",
       "\tat com.databricks.backend.daemon.dbutils.FSUtils.withAttributionContext(DBUtilsCore.scala:67)\n",
       "\tat com.databricks.logging.UsageLogging.withAttributionTags(UsageLogging.scala:447)\n",
       "\tat com.databricks.logging.UsageLogging.withAttributionTags$(UsageLogging.scala:432)\n",
       "\tat com.databricks.backend.daemon.dbutils.FSUtils.withAttributionTags(DBUtilsCore.scala:67)\n",
       "\tat com.databricks.logging.UsageLogging.recordOperationWithResultTags(UsageLogging.scala:637)\n",
       "\tat com.databricks.logging.UsageLogging.recordOperationWithResultTags$(UsageLogging.scala:556)\n",
       "\tat com.databricks.backend.daemon.dbutils.FSUtils.recordOperationWithResultTags(DBUtilsCore.scala:67)\n",
       "\tat com.databricks.logging.UsageLogging.recordOperation(UsageLogging.scala:547)\n",
       "\tat com.databricks.logging.UsageLogging.recordOperation$(UsageLogging.scala:517)\n",
       "\tat com.databricks.backend.daemon.dbutils.FSUtils.recordOperation(DBUtilsCore.scala:67)\n",
       "\tat com.databricks.backend.daemon.dbutils.FSUtils.recordDbutilsFsOp(DBUtilsCore.scala:131)\n",
       "\tat com.databricks.backend.daemon.dbutils.FSUtils.put(DBUtilsCore.scala:444)\n",
       "\tat sun.reflect.NativeMethodAccessorImpl.invoke0(Native Method)\n",
       "\tat sun.reflect.NativeMethodAccessorImpl.invoke(NativeMethodAccessorImpl.java:62)\n",
       "\tat sun.reflect.DelegatingMethodAccessorImpl.invoke(DelegatingMethodAccessorImpl.java:43)\n",
       "\tat java.lang.reflect.Method.invoke(Method.java:498)\n",
       "\tat py4j.reflection.MethodInvoker.invoke(MethodInvoker.java:244)\n",
       "\tat py4j.reflection.ReflectionEngine.invoke(ReflectionEngine.java:380)\n",
       "\tat py4j.Gateway.invoke(Gateway.java:306)\n",
       "\tat py4j.commands.AbstractCommand.invokeMethod(AbstractCommand.java:132)\n",
       "\tat py4j.commands.CallCommand.execute(CallCommand.java:79)\n",
       "\tat py4j.ClientServerConnection.waitForCommands(ClientServerConnection.java:195)\n",
       "\tat py4j.ClientServerConnection.run(ClientServerConnection.java:115)\n",
       "\tat java.lang.Thread.run(Thread.java:750)\n"
      ]
     },
     "metadata": {
      "application/vnd.databricks.v1+output": {
       "arguments": {},
       "data": "\u001B[0;31m---------------------------------------------------------------------------\u001B[0m\n\u001B[0;31mExecutionError\u001B[0m                            Traceback (most recent call last)\n\u001B[0;32m<command-215239882848682>\u001B[0m in \u001B[0;36m<cell line: 1>\u001B[0;34m()\u001B[0m\n\u001B[0;32m----> 1\u001B[0;31m \u001B[0mdbutils\u001B[0m\u001B[0;34m.\u001B[0m\u001B[0mfs\u001B[0m\u001B[0;34m.\u001B[0m\u001B[0mput\u001B[0m\u001B[0;34m(\u001B[0m\u001B[0;34m\"/FileStore/tutorial/test/test.txt\"\u001B[0m\u001B[0;34m,\u001B[0m\u001B[0;34m\"hello\"\u001B[0m\u001B[0;34m)\u001B[0m\u001B[0;34m\u001B[0m\u001B[0;34m\u001B[0m\u001B[0m\n\u001B[0m\n\u001B[0;32m/databricks/python_shell/dbruntime/dbutils.py\u001B[0m in \u001B[0;36mf_with_exception_handling\u001B[0;34m(*args, **kwargs)\u001B[0m\n\u001B[1;32m    360\u001B[0m                     \u001B[0mexc\u001B[0m\u001B[0;34m.\u001B[0m\u001B[0m__context__\u001B[0m \u001B[0;34m=\u001B[0m \u001B[0;32mNone\u001B[0m\u001B[0;34m\u001B[0m\u001B[0;34m\u001B[0m\u001B[0m\n\u001B[1;32m    361\u001B[0m                     \u001B[0mexc\u001B[0m\u001B[0;34m.\u001B[0m\u001B[0m__cause__\u001B[0m \u001B[0;34m=\u001B[0m \u001B[0;32mNone\u001B[0m\u001B[0;34m\u001B[0m\u001B[0;34m\u001B[0m\u001B[0m\n\u001B[0;32m--> 362\u001B[0;31m                     \u001B[0;32mraise\u001B[0m \u001B[0mexc\u001B[0m\u001B[0;34m\u001B[0m\u001B[0;34m\u001B[0m\u001B[0m\n\u001B[0m\u001B[1;32m    363\u001B[0m \u001B[0;34m\u001B[0m\u001B[0m\n\u001B[1;32m    364\u001B[0m             \u001B[0;32mreturn\u001B[0m \u001B[0mf_with_exception_handling\u001B[0m\u001B[0;34m\u001B[0m\u001B[0;34m\u001B[0m\u001B[0m\n\n\u001B[0;31mExecutionError\u001B[0m: An error occurred while calling o387.put.\n: org.apache.hadoop.fs.FileAlreadyExistsException: s3a://databricks-prod-storage-oregon/devtierprod1/239590035921172/FileStore/tutorial/test/test.txt already exists\n\tat com.databricks.backend.daemon.data.client.DbfsClient.send0(DbfsClient.scala:124)\n\tat com.databricks.backend.daemon.data.client.DbfsClient.sendNonIdempotent(DbfsClient.scala:82)\n\tat com.databricks.backend.daemon.data.client.DatabricksFileSystemV1.createUnbuffered(DatabricksFileSystemV1.scala:127)\n\tat com.databricks.backend.daemon.data.client.DatabricksFileSystemV1.create(DatabricksFileSystemV1.scala:109)\n\tat com.databricks.backend.daemon.data.client.DatabricksFileSystem.create(DatabricksFileSystem.scala:142)\n\tat org.apache.hadoop.fs.FileSystem.create(FileSystem.java:1195)\n\tat org.apache.hadoop.fs.FileSystem.create(FileSystem.java:1175)\n\tat org.apache.hadoop.fs.FileSystem.create(FileSystem.java:1064)\n\tat com.databricks.backend.daemon.dbutils.FSUtils.$anonfun$put$3(DBUtilsCore.scala:448)\n\tat com.databricks.backend.daemon.dbutils.FSUtils.withFsSafetyCheck(DBUtilsCore.scala:143)\n\tat com.databricks.backend.daemon.dbutils.FSUtils.$anonfun$put$2(DBUtilsCore.scala:445)\n\tat com.databricks.backend.daemon.dbutils.FSUtils.checkPermission(DBUtilsCore.scala:138)\n\tat com.databricks.backend.daemon.dbutils.FSUtils.$anonfun$put$1(DBUtilsCore.scala:445)\n\tat com.databricks.logging.UsageLogging.$anonfun$recordOperation$1(UsageLogging.scala:547)\n\tat com.databricks.logging.UsageLogging.executeThunkAndCaptureResultTags$1(UsageLogging.scala:642)\n\tat com.databricks.logging.UsageLogging.$anonfun$recordOperationWithResultTags$4(UsageLogging.scala:663)\n\tat com.databricks.logging.UsageLogging.$anonfun$withAttributionContext$1(UsageLogging.scala:404)\n\tat scala.util.DynamicVariable.withValue(DynamicVariable.scala:62)\n\tat com.databricks.logging.AttributionContext$.withValue(AttributionContext.scala:147)\n\tat com.databricks.logging.UsageLogging.withAttributionContext(UsageLogging.scala:402)\n\tat com.databricks.logging.UsageLogging.withAttributionContext$(UsageLogging.scala:399)\n\tat com.databricks.backend.daemon.dbutils.FSUtils.withAttributionContext(DBUtilsCore.scala:67)\n\tat com.databricks.logging.UsageLogging.withAttributionTags(UsageLogging.scala:447)\n\tat com.databricks.logging.UsageLogging.withAttributionTags$(UsageLogging.scala:432)\n\tat com.databricks.backend.daemon.dbutils.FSUtils.withAttributionTags(DBUtilsCore.scala:67)\n\tat com.databricks.logging.UsageLogging.recordOperationWithResultTags(UsageLogging.scala:637)\n\tat com.databricks.logging.UsageLogging.recordOperationWithResultTags$(UsageLogging.scala:556)\n\tat com.databricks.backend.daemon.dbutils.FSUtils.recordOperationWithResultTags(DBUtilsCore.scala:67)\n\tat com.databricks.logging.UsageLogging.recordOperation(UsageLogging.scala:547)\n\tat com.databricks.logging.UsageLogging.recordOperation$(UsageLogging.scala:517)\n\tat com.databricks.backend.daemon.dbutils.FSUtils.recordOperation(DBUtilsCore.scala:67)\n\tat com.databricks.backend.daemon.dbutils.FSUtils.recordDbutilsFsOp(DBUtilsCore.scala:131)\n\tat com.databricks.backend.daemon.dbutils.FSUtils.put(DBUtilsCore.scala:444)\n\tat sun.reflect.NativeMethodAccessorImpl.invoke0(Native Method)\n\tat sun.reflect.NativeMethodAccessorImpl.invoke(NativeMethodAccessorImpl.java:62)\n\tat sun.reflect.DelegatingMethodAccessorImpl.invoke(DelegatingMethodAccessorImpl.java:43)\n\tat java.lang.reflect.Method.invoke(Method.java:498)\n\tat py4j.reflection.MethodInvoker.invoke(MethodInvoker.java:244)\n\tat py4j.reflection.ReflectionEngine.invoke(ReflectionEngine.java:380)\n\tat py4j.Gateway.invoke(Gateway.java:306)\n\tat py4j.commands.AbstractCommand.invokeMethod(AbstractCommand.java:132)\n\tat py4j.commands.CallCommand.execute(CallCommand.java:79)\n\tat py4j.ClientServerConnection.waitForCommands(ClientServerConnection.java:195)\n\tat py4j.ClientServerConnection.run(ClientServerConnection.java:115)\n\tat java.lang.Thread.run(Thread.java:750)\n",
       "errorSummary": "org.apache.hadoop.fs.FileAlreadyExistsException: s3a://databricks-prod-storage-oregon/devtierprod1/239590035921172/FileStore/tutorial/test/test.txt already exists",
       "errorTraceType": "ansi",
       "metadata": {},
       "type": "ipynbError"
      }
     },
     "output_type": "display_data"
    }
   ],
   "source": [
    "dbutils.fs.put(\"/FileStore/tutorial/test/test.txt\",\"hello\")"
   ]
  },
  {
   "cell_type": "code",
   "execution_count": 0,
   "metadata": {
    "application/vnd.databricks.v1+cell": {
     "cellMetadata": {
      "byteLimit": 2048000,
      "rowLimit": 10000
     },
     "inputWidgets": {},
     "nuid": "1b083f21-cfd2-48aa-ad3e-a81ac450a19c",
     "showTitle": false,
     "title": ""
    }
   },
   "outputs": [
    {
     "output_type": "stream",
     "name": "stdout",
     "output_type": "stream",
     "text": [
      "Out[11]: 'hi my name is'"
     ]
    }
   ],
   "source": [
    "dbutils.fs.head(\"/FileStore/tutorial/test/test.txt\")"
   ]
  },
  {
   "cell_type": "code",
   "execution_count": 0,
   "metadata": {
    "application/vnd.databricks.v1+cell": {
     "cellMetadata": {
      "byteLimit": 2048000,
      "rowLimit": 10000
     },
     "inputWidgets": {},
     "nuid": "e3475839-e8d7-49cd-8b76-c1fa12bd37a8",
     "showTitle": false,
     "title": ""
    }
   },
   "outputs": [
    {
     "output_type": "stream",
     "name": "stdout",
     "output_type": "stream",
     "text": [
      "Out[12]: True"
     ]
    }
   ],
   "source": [
    "dbutils.fs.rm(\"/FileStore/images/batsman_runs_ipl.csv\")"
   ]
  },
  {
   "cell_type": "code",
   "execution_count": 0,
   "metadata": {
    "application/vnd.databricks.v1+cell": {
     "cellMetadata": {
      "byteLimit": 2048000,
      "rowLimit": 10000
     },
     "inputWidgets": {},
     "nuid": "f3abcd60-ef43-491d-87d2-d77c6939dea0",
     "showTitle": false,
     "title": ""
    }
   },
   "outputs": [
    {
     "output_type": "stream",
     "name": "stdout",
     "output_type": "stream",
     "text": [
      "Out[30]: True"
     ]
    }
   ],
   "source": [
    "dbutils.fs.rm(\"/FileStore/t\",True)"
   ]
  },
  {
   "cell_type": "code",
   "execution_count": 0,
   "metadata": {
    "application/vnd.databricks.v1+cell": {
     "cellMetadata": {},
     "inputWidgets": {},
     "nuid": "35b9f58e-87b1-447b-8c2c-5fc9ed9acf6b",
     "showTitle": true,
     "title": "DBUtils Notebook comand"
    }
   },
   "outputs": [],
   "source": [
    "dnutils.notebook.run(\" \",60)"
   ]
  },
  {
   "cell_type": "code",
   "execution_count": 0,
   "metadata": {
    "application/vnd.databricks.v1+cell": {
     "cellMetadata": {
      "byteLimit": 2048000,
      "rowLimit": 10000
     },
     "inputWidgets": {},
     "nuid": "620395ec-20a2-4eb5-add1-56b1e6a6a794",
     "showTitle": true,
     "title": "Widgets"
    }
   },
   "outputs": [],
   "source": [
    "\n",
    "dbutils.widgets.text(\"folder_name\", \"hello\")\n",
    "# dbutils.widgets.remove(\"drop_doen\")\n",
    "# dbutils.widgets.removeAll()"
   ]
  },
  {
   "cell_type": "code",
   "execution_count": 0,
   "metadata": {
    "application/vnd.databricks.v1+cell": {
     "cellMetadata": {
      "byteLimit": 2048000,
      "rowLimit": 10000
     },
     "inputWidgets": {},
     "nuid": "7299faca-85fd-452a-9d37-f4a03fb3e9ab",
     "showTitle": false,
     "title": ""
    }
   },
   "outputs": [],
   "source": [
    "# dbutils.widgets.text(\"folder_name\", \",\")"
   ]
  },
  {
   "cell_type": "code",
   "execution_count": 0,
   "metadata": {
    "application/vnd.databricks.v1+cell": {
     "cellMetadata": {
      "byteLimit": 2048000,
      "rowLimit": 10000
     },
     "inputWidgets": {},
     "nuid": "fab239dc-15be-4aa2-a4a4-fbbb5125857b",
     "showTitle": false,
     "title": ""
    }
   },
   "outputs": [
    {
     "output_type": "stream",
     "name": "stdout",
     "output_type": "stream",
     "text": [
      "bye\n"
     ]
    }
   ],
   "source": [
    "folder=dbutils.widgets.get(\"multiselect\")\n",
    "print(folder)"
   ]
  },
  {
   "cell_type": "code",
   "execution_count": 0,
   "metadata": {
    "application/vnd.databricks.v1+cell": {
     "cellMetadata": {
      "byteLimit": 2048000,
      "rowLimit": 10000
     },
     "inputWidgets": {},
     "nuid": "01062d5b-847f-4e5e-b8c2-a79092e23978",
     "showTitle": false,
     "title": ""
    }
   },
   "outputs": [],
   "source": [
    "dbutils.widgets.dropdown(\"drop_down\", \"1\",['1', '2', '3', '4', '5', '6', '7', '8', '9'])\n",
    "dbutils.widgets.combobox(\"combo_box\", \"1\",['1', '2', '3', '4', '5', '6', '7', '8', '9','10','21'])\n",
    "dbutils.widgets.multiselect(\"multiselect\",\"name\",[\"name\",\"hello\",\"my\",\"hi\",\"bye\"])\n",
    "#  "
   ]
  },
  {
   "cell_type": "code",
   "execution_count": 0,
   "metadata": {
    "application/vnd.databricks.v1+cell": {
     "cellMetadata": {
      "byteLimit": 2048000,
      "rowLimit": 10000
     },
     "inputWidgets": {},
     "nuid": "d163cc21-d270-45f1-971c-e2afc895718a",
     "showTitle": false,
     "title": ""
    }
   },
   "outputs": [
    {
     "output_type": "stream",
     "name": "stdout",
     "output_type": "stream",
     "text": [
      "Out[36]: ['1', '2', '3', '4', '5', '6', '7', '8', '9']"
     ]
    }
   ],
   "source": [
    "[str(x) for x in range(1,10)]"
   ]
  },
  {
   "cell_type": "code",
   "execution_count": 0,
   "metadata": {
    "application/vnd.databricks.v1+cell": {
     "cellMetadata": {
      "byteLimit": 2048000,
      "rowLimit": 10000
     },
     "inputWidgets": {},
     "nuid": "d20c136a-51d0-4792-aa68-ae282814cec6",
     "showTitle": false,
     "title": ""
    }
   },
   "outputs": [
    {
     "output_type": "stream",
     "name": "stdout",
     "output_type": "stream",
     "text": [
      "Out[35]: [0,\n 1,\n 2,\n 3,\n 4,\n 5,\n 6,\n 7,\n 8,\n 9,\n 10,\n 11,\n 12,\n 13,\n 14,\n 15,\n 16,\n 17,\n 18,\n 19,\n 20,\n 21,\n 22,\n 23,\n 24,\n 25,\n 26,\n 27,\n 28,\n 29,\n 30,\n 31,\n 32,\n 33,\n 34,\n 35,\n 36,\n 37,\n 38,\n 39,\n 40,\n 41,\n 42,\n 43,\n 44,\n 45,\n 46,\n 47,\n 48,\n 49,\n 50,\n 51,\n 52,\n 53,\n 54,\n 55,\n 56,\n 57,\n 58,\n 59,\n 60,\n 61,\n 62,\n 63,\n 64,\n 65,\n 66,\n 67,\n 68,\n 69,\n 70,\n 71,\n 72,\n 73,\n 74,\n 75,\n 76,\n 77,\n 78,\n 79,\n 80,\n 81,\n 82,\n 83,\n 84,\n 85,\n 86,\n 87,\n 88,\n 89,\n 90,\n 91,\n 92,\n 93,\n 94,\n 95,\n 96,\n 97,\n 98,\n 99]"
     ]
    }
   ],
   "source": [
    "(i for i in range(100))"
   ]
  },
  {
   "cell_type": "code",
   "execution_count": 0,
   "metadata": {
    "application/vnd.databricks.v1+cell": {
     "cellMetadata": {
      "byteLimit": 2048000,
      "rowLimit": 10000
     },
     "inputWidgets": {},
     "nuid": "5a0fda9d-7c63-44b1-9d19-e767d4538b70",
     "showTitle": false,
     "title": ""
    }
   },
   "outputs": [
    {
     "output_type": "stream",
     "name": "stdout",
     "output_type": "stream",
     "text": [
      "Out[34]: [0,\n 1,\n 2,\n 3,\n 4,\n 5,\n 6,\n 7,\n 8,\n 9,\n 10,\n 11,\n 12,\n 13,\n 14,\n 15,\n 16,\n 17,\n 18,\n 19,\n 20,\n 21,\n 22,\n 23,\n 24,\n 25,\n 26,\n 27,\n 28,\n 29,\n 30,\n 31,\n 32,\n 33,\n 34,\n 35,\n 36,\n 37,\n 38,\n 39,\n 40,\n 41,\n 42,\n 43,\n 44,\n 45,\n 46,\n 47,\n 48,\n 49,\n 50,\n 51,\n 52,\n 53,\n 54,\n 55,\n 56,\n 57,\n 58,\n 59,\n 60,\n 61,\n 62,\n 63,\n 64,\n 65,\n 66,\n 67,\n 68,\n 69,\n 70,\n 71,\n 72,\n 73,\n 74,\n 75,\n 76,\n 77,\n 78,\n 79,\n 80,\n 81,\n 82,\n 83,\n 84,\n 85,\n 86,\n 87,\n 88,\n 89,\n 90,\n 91,\n 92,\n 93,\n 94,\n 95,\n 96,\n 97,\n 98,\n 99]"
     ]
    }
   ],
   "source": [
    "l=[]\n",
    "for i in range(100):\n",
    "    l.append(i)\n",
    "l"
   ]
  },
  {
   "cell_type": "code",
   "execution_count": 0,
   "metadata": {
    "application/vnd.databricks.v1+cell": {
     "cellMetadata": {
      "byteLimit": 2048000,
      "rowLimit": 10000
     },
     "inputWidgets": {},
     "nuid": "af484720-53ac-4011-ab2d-631fb68ed9da",
     "showTitle": false,
     "title": ""
    }
   },
   "outputs": [
    {
     "output_type": "stream",
     "name": "stdout",
     "output_type": "stream",
     "text": [
      "Out[39]: 'bye'"
     ]
    }
   ],
   "source": [
    "dbutils.widgets.get(\"multiselect\")"
   ]
  },
  {
   "cell_type": "code",
   "execution_count": 0,
   "metadata": {
    "application/vnd.databricks.v1+cell": {
     "cellMetadata": {
      "byteLimit": 2048000,
      "rowLimit": 10000
     },
     "inputWidgets": {},
     "nuid": "560ac971-af4b-48d1-a936-32d41715f5b6",
     "showTitle": false,
     "title": ""
    }
   },
   "outputs": [
    {
     "output_type": "display_data",
     "data": {
      "text/html": [
       "<div class = \"ansiout\"><b>dbutils.fs</b> provides utilities for working with FileSystems. Most methods in\n",
       "this package can take either a DBFS path (e.g., \"/foo\" or \"dbfs:/foo\"), or\n",
       "another FileSystem URI.\n",
       "\n",
       "For more info about a method, use <b>dbutils.fs.help(\"methodName\")</b>.\n",
       "\n",
       "In notebooks, you can also use the %fs shorthand to access DBFS. The %fs shorthand maps\n",
       "straightforwardly onto dbutils calls. For example, \"%fs head --maxBytes=10000 /file/path\"\n",
       "translates into \"dbutils.fs.head(\"/file/path\", maxBytes = 10000)\".\n",
       "    <h3>mount</h3><b>mount(source: String, mountPoint: String, encryptionType: String = \"\", owner: String = null, extraConfigs: Map = Map.empty[String, String]): boolean</b> -> Mounts the given source directory into DBFS at the given mount point<br /><b>mounts: Seq</b> -> Displays information about what is mounted within DBFS<br /><b>refreshMounts: boolean</b> -> Forces all machines in this cluster to refresh their mount cache, ensuring they receive the most recent information<br /><b>unmount(mountPoint: String): boolean</b> -> Deletes a DBFS mount point<br /><b>updateMount(source: String, mountPoint: String, encryptionType: String = \"\", owner: String = null, extraConfigs: Map = Map.empty[String, String]): boolean</b> -> Similar to mount(), but updates an existing mount point (if present) instead of creating a new one<br /><br /><h3>fsutils</h3><b>cp(from: String, to: String, recurse: boolean = false): boolean</b> -> Copies a file or directory, possibly across FileSystems<br /><b>head(file: String, maxBytes: int = 65536): String</b> -> Returns up to the first 'maxBytes' bytes of the given file as a String encoded in UTF-8<br /><b>ls(dir: String): Seq</b> -> Lists the contents of a directory<br /><b>mkdirs(dir: String): boolean</b> -> Creates the given directory if it does not exist, also creating any necessary parent directories<br /><b>mv(from: String, to: String, recurse: boolean = false): boolean</b> -> Moves a file or directory, possibly across FileSystems<br /><b>put(file: String, contents: String, overwrite: boolean = false): boolean</b> -> Writes the given String out to a file, encoded in UTF-8<br /><b>rm(dir: String, recurse: boolean = false): boolean</b> -> Removes a file or directory<br /><br /></div>"
      ]
     },
     "metadata": {
      "application/vnd.databricks.v1+output": {
       "addedWidgets": {},
       "arguments": {},
       "data": "<div class = \"ansiout\"><b>dbutils.fs</b> provides utilities for working with FileSystems. Most methods in\nthis package can take either a DBFS path (e.g., \"/foo\" or \"dbfs:/foo\"), or\nanother FileSystem URI.\n\nFor more info about a method, use <b>dbutils.fs.help(\"methodName\")</b>.\n\nIn notebooks, you can also use the %fs shorthand to access DBFS. The %fs shorthand maps\nstraightforwardly onto dbutils calls. For example, \"%fs head --maxBytes=10000 /file/path\"\ntranslates into \"dbutils.fs.head(\"/file/path\", maxBytes = 10000)\".\n    <h3>mount</h3><b>mount(source: String, mountPoint: String, encryptionType: String = \"\", owner: String = null, extraConfigs: Map = Map.empty[String, String]): boolean</b> -> Mounts the given source directory into DBFS at the given mount point<br /><b>mounts: Seq</b> -> Displays information about what is mounted within DBFS<br /><b>refreshMounts: boolean</b> -> Forces all machines in this cluster to refresh their mount cache, ensuring they receive the most recent information<br /><b>unmount(mountPoint: String): boolean</b> -> Deletes a DBFS mount point<br /><b>updateMount(source: String, mountPoint: String, encryptionType: String = \"\", owner: String = null, extraConfigs: Map = Map.empty[String, String]): boolean</b> -> Similar to mount(), but updates an existing mount point (if present) instead of creating a new one<br /><br /><h3>fsutils</h3><b>cp(from: String, to: String, recurse: boolean = false): boolean</b> -> Copies a file or directory, possibly across FileSystems<br /><b>head(file: String, maxBytes: int = 65536): String</b> -> Returns up to the first 'maxBytes' bytes of the given file as a String encoded in UTF-8<br /><b>ls(dir: String): Seq</b> -> Lists the contents of a directory<br /><b>mkdirs(dir: String): boolean</b> -> Creates the given directory if it does not exist, also creating any necessary parent directories<br /><b>mv(from: String, to: String, recurse: boolean = false): boolean</b> -> Moves a file or directory, possibly across FileSystems<br /><b>put(file: String, contents: String, overwrite: boolean = false): boolean</b> -> Writes the given String out to a file, encoded in UTF-8<br /><b>rm(dir: String, recurse: boolean = false): boolean</b> -> Removes a file or directory<br /><br /></div>",
       "datasetInfos": [],
       "metadata": {},
       "removedWidgets": [],
       "textData": null,
       "type": "htmlSandbox"
      }
     },
     "output_type": "display_data"
    }
   ],
   "source": [
    "dbutils.fs.help()"
   ]
  },
  {
   "cell_type": "code",
   "execution_count": 0,
   "metadata": {
    "application/vnd.databricks.v1+cell": {
     "cellMetadata": {},
     "inputWidgets": {},
     "nuid": "2213cd7d-e41d-4dcb-bbdb-f1f8cfe89a5c",
     "showTitle": false,
     "title": ""
    }
   },
   "outputs": [],
   "source": []
  }
 ],
 "metadata": {
  "application/vnd.databricks.v1+notebook": {
   "dashboards": [],
   "language": "python",
   "notebookMetadata": {
    "pythonIndentUnit": 4
   },
   "notebookName": "05 - DBUtils",
   "widgets": {
    "combo_box": {
     "currentValue": "",
     "nuid": "43e99260-9db4-413a-bcc4-c5d3b625107b",
     "widgetInfo": {
      "widgetType": "combobox",
      "defaultValue": "1",
      "label": null,
      "name": "combo_box",
      "options": {
       "widgetType": "dropdown",
       "autoCreated": null,
       "choices": [
        "1",
        "2",
        "3",
        "4",
        "5",
        "6",
        "7",
        "8",
        "9",
        "10",
        "21"
       ]
      }
     }
    },
    "drop_down": {
     "currentValue": "1",
     "nuid": "4e572851-99e8-4eb5-ad7f-f1b9e62b1a80",
     "widgetInfo": {
      "widgetType": "dropdown",
      "defaultValue": "1",
      "label": null,
      "name": "drop_down",
      "options": {
       "widgetType": "dropdown",
       "autoCreated": null,
       "choices": [
        "1",
        "2",
        "3",
        "4",
        "5",
        "6",
        "7",
        "8",
        "9"
       ]
      }
     }
    },
    "folder_name": {
     "currentValue": "hello",
     "nuid": "f0be0774-ee05-4a68-ba34-9811a6193733",
     "widgetInfo": {
      "widgetType": "text",
      "defaultValue": "hello",
      "label": null,
      "name": "folder_name",
      "options": {
       "widgetType": "text",
       "autoCreated": null,
       "validationRegex": null
      }
     }
    },
    "multiselect": {
     "currentValue": "bye",
     "nuid": "168430ad-5eb4-48e0-9135-952b4bd11cfe",
     "widgetInfo": {
      "widgetType": "multiselect",
      "defaultValue": "name",
      "label": null,
      "name": "multiselect",
      "options": {
       "widgetType": "dropdown",
       "autoCreated": null,
       "choices": [
        "name",
        "hello",
        "my",
        "hi",
        "bye"
       ]
      }
     }
    }
   }
  }
 },
 "nbformat": 4,
 "nbformat_minor": 0
}
