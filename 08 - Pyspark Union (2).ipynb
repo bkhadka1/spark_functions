{
 "cells": [
  {
   "cell_type": "code",
   "execution_count": 0,
   "metadata": {
    "application/vnd.databricks.v1+cell": {
     "cellMetadata": {
      "byteLimit": 2048000,
      "rowLimit": 10000
     },
     "inputWidgets": {},
     "nuid": "2164f0fa-68a2-40d9-812e-83f81696a432",
     "showTitle": false,
     "tableResultSettingsMap": {},
     "title": ""
    }
   },
   "outputs": [
    {
     "output_type": "display_data",
     "data": {
      "text/html": [
       "<style scoped>\n",
       "  .table-result-container {\n",
       "    max-height: 300px;\n",
       "    overflow: auto;\n",
       "  }\n",
       "  table, th, td {\n",
       "    border: 1px solid black;\n",
       "    border-collapse: collapse;\n",
       "  }\n",
       "  th, td {\n",
       "    padding: 5px;\n",
       "  }\n",
       "  th {\n",
       "    text-align: left;\n",
       "  }\n",
       "</style><div class='table-result-container'><table class='table-result'><thead style='background-color: white'><tr><th>name</th><th>marks</th><th>status</th><th>attendence</th></tr></thead><tbody><tr><td>ashutosh</td><td>80</td><td>P</td><td>90</td></tr><tr><td>ravi</td><td>45</td><td>F</td><td>20</td></tr><tr><td>rakesh</td><td>55</td><td>F</td><td>40</td></tr><tr><td>sunny</td><td>80</td><td>P</td><td>90</td></tr><tr><td>sanidhia</td><td>null</td><td>P</td><td>90</td></tr></tbody></table></div>"
      ]
     },
     "metadata": {
      "application/vnd.databricks.v1+output": {
       "addedWidgets": {},
       "aggData": [],
       "aggError": "",
       "aggOverflow": false,
       "aggSchema": [],
       "aggSeriesLimitReached": false,
       "aggType": "",
       "arguments": {},
       "columnCustomDisplayInfos": {},
       "data": [
        [
         "ashutosh",
         "80",
         "P",
         90
        ],
        [
         "ravi",
         "45",
         "F",
         20
        ],
        [
         "rakesh",
         "55",
         "F",
         40
        ],
        [
         "sunny",
         "80",
         "P",
         90
        ],
        [
         "sanidhia",
         "null",
         "P",
         90
        ]
       ],
       "datasetInfos": [],
       "dbfsResultPath": null,
       "isJsonSchema": true,
       "metadata": {},
       "overflow": false,
       "plotOptions": {
        "customPlotOptions": {},
        "displayType": "table",
        "pivotAggregation": null,
        "pivotColumns": null,
        "xColumns": null,
        "yColumns": null
       },
       "removedWidgets": [],
       "schema": [
        {
         "metadata": "{}",
         "name": "name",
         "type": "\"string\""
        },
        {
         "metadata": "{}",
         "name": "marks",
         "type": "\"string\""
        },
        {
         "metadata": "{}",
         "name": "status",
         "type": "\"string\""
        },
        {
         "metadata": "{}",
         "name": "attendence",
         "type": "\"long\""
        }
       ],
       "type": "table"
      }
     },
     "output_type": "display_data"
    }
   ],
   "source": [
    "data_student = [(\"ashutosh\",\"80\",\"P\",90),\n",
    "                (\"ravi\",\"45\",\"F\",20),\n",
    "                (\"rakesh\",\"55\",\"F\",40),\n",
    "                (\"sunny\",\"80\",\"P\",90)\n",
    "                ,(\"sanidhia\",\"null\",\"P\",90)]\n",
    "df=spark.createDataFrame(data= data_student , schema =[\"name\",\"marks\",\"status\",\"attendence\"]) # Create sample student data as a list of tuples.\n",
    "# Each tuple represents a student record with the following fields:\n",
    "# (name, marks, status, attendence)\n",
    "# - 'marks' contains numeric values as strings, with \"null\" representing missing data.\n",
    "# - 'status' could be \"P\" (pass) or \"F\" (fail).\n",
    "# - 'attendence' represents the attendance score. \n",
    "# Create a Spark DataFrame using the sample student data and specify the schema.\n",
    "display(df) # Display the DataFrame in an interactive tabular view in Databricks."
   ]
  },
  {
   "cell_type": "code",
   "execution_count": 0,
   "metadata": {
    "application/vnd.databricks.v1+cell": {
     "cellMetadata": {
      "byteLimit": 2048000,
      "rowLimit": 10000
     },
     "inputWidgets": {},
     "nuid": "d4b788b9-2915-4aea-b0a7-7946a3d4ae45",
     "showTitle": false,
     "tableResultSettingsMap": {},
     "title": ""
    }
   },
   "outputs": [
    {
     "output_type": "display_data",
     "data": {
      "text/html": [
       "<style scoped>\n",
       "  .table-result-container {\n",
       "    max-height: 300px;\n",
       "    overflow: auto;\n",
       "  }\n",
       "  table, th, td {\n",
       "    border: 1px solid black;\n",
       "    border-collapse: collapse;\n",
       "  }\n",
       "  th, td {\n",
       "    padding: 5px;\n",
       "  }\n",
       "  th {\n",
       "    text-align: left;\n",
       "  }\n",
       "</style><div class='table-result-container'><table class='table-result'><thead style='background-color: white'><tr><th>name</th><th>marks</th><th>status</th><th>attendance</th></tr></thead><tbody><tr><td>ashutosh</td><td>80</td><td>P</td><td>90</td></tr><tr><td>ram</td><td>45</td><td>F</td><td>20</td></tr><tr><td>avinash</td><td>55</td><td>F</td><td>40</td></tr><tr><td>abhishek</td><td>80</td><td>P</td><td>90</td></tr><tr><td>rahul</td><td>null</td><td>P</td><td>90</td></tr></tbody></table></div>"
      ]
     },
     "metadata": {
      "application/vnd.databricks.v1+output": {
       "addedWidgets": {},
       "aggData": [],
       "aggError": "",
       "aggOverflow": false,
       "aggSchema": [],
       "aggSeriesLimitReached": false,
       "aggType": "",
       "arguments": {},
       "columnCustomDisplayInfos": {},
       "data": [
        [
         "ashutosh",
         "80",
         "P",
         90
        ],
        [
         "ram",
         "45",
         "F",
         20
        ],
        [
         "avinash",
         "55",
         "F",
         40
        ],
        [
         "abhishek",
         "80",
         "P",
         90
        ],
        [
         "rahul",
         null,
         "P",
         90
        ]
       ],
       "datasetInfos": [],
       "dbfsResultPath": null,
       "isJsonSchema": true,
       "metadata": {},
       "overflow": false,
       "plotOptions": {
        "customPlotOptions": {},
        "displayType": "table",
        "pivotAggregation": null,
        "pivotColumns": null,
        "xColumns": null,
        "yColumns": null
       },
       "removedWidgets": [],
       "schema": [
        {
         "metadata": "{}",
         "name": "name",
         "type": "\"string\""
        },
        {
         "metadata": "{}",
         "name": "marks",
         "type": "\"string\""
        },
        {
         "metadata": "{}",
         "name": "status",
         "type": "\"string\""
        },
        {
         "metadata": "{}",
         "name": "attendance",
         "type": "\"long\""
        }
       ],
       "type": "table"
      }
     },
     "output_type": "display_data"
    }
   ],
   "source": [
    "data_student1 = [\n",
    "    (\"ashutosh\", \"80\", \"P\", 90),\n",
    "    (\"ram\", \"45\", \"F\", 20),\n",
    "    (\"avinash\", \"55\", \"F\", 40),\n",
    "    (\"abhishek\", \"80\", \"P\", 90),\n",
    "    (\"rahul\", None, \"P\", 90)  # Use None instead of \"null\" for missing values\n",
    "] # Create sample student data as a list of tuples with corrected handling of missing values.\n",
    "# Each tuple represents a student record: (name, marks, status, attendance)\n",
    "# - Use None (Python null) instead of the string \"null\" for missing values.\n",
    "\n",
    "# Corrected variable name df1 instead of df\n",
    "df1 = spark.createDataFrame(data=data_student1, schema=[\"name\", \"marks\", \"status\", \"attendance\"]) # Create a Spark DataFrame 'df1' using the corrected student data and schema.\n",
    "display(df1) # Display the DataFrame in an interactive tabular view in Databricks."
   ]
  },
  {
   "cell_type": "code",
   "execution_count": 0,
   "metadata": {
    "application/vnd.databricks.v1+cell": {
     "cellMetadata": {
      "byteLimit": 2048000,
      "rowLimit": 10000
     },
     "inputWidgets": {},
     "nuid": "0f3b20f1-805a-4235-b799-862397b967ee",
     "showTitle": true,
     "tableResultSettingsMap": {},
     "title": "Union"
    }
   },
   "outputs": [
    {
     "output_type": "display_data",
     "data": {
      "text/html": [
       "<style scoped>\n",
       "  .table-result-container {\n",
       "    max-height: 300px;\n",
       "    overflow: auto;\n",
       "  }\n",
       "  table, th, td {\n",
       "    border: 1px solid black;\n",
       "    border-collapse: collapse;\n",
       "  }\n",
       "  th, td {\n",
       "    padding: 5px;\n",
       "  }\n",
       "  th {\n",
       "    text-align: left;\n",
       "  }\n",
       "</style><div class='table-result-container'><table class='table-result'><thead style='background-color: white'><tr><th>name</th><th>marks</th><th>status</th><th>attendence</th></tr></thead><tbody><tr><td>ashutosh</td><td>80</td><td>P</td><td>90</td></tr><tr><td>ravi</td><td>45</td><td>F</td><td>20</td></tr><tr><td>rakesh</td><td>55</td><td>F</td><td>40</td></tr><tr><td>sunny</td><td>80</td><td>P</td><td>90</td></tr><tr><td>sanidhia</td><td>null</td><td>P</td><td>90</td></tr><tr><td>ashutosh</td><td>80</td><td>P</td><td>90</td></tr><tr><td>ram</td><td>45</td><td>F</td><td>20</td></tr><tr><td>avinash</td><td>55</td><td>F</td><td>40</td></tr><tr><td>abhishek</td><td>80</td><td>P</td><td>90</td></tr><tr><td>rahul</td><td>null</td><td>P</td><td>90</td></tr></tbody></table></div>"
      ]
     },
     "metadata": {
      "application/vnd.databricks.v1+output": {
       "addedWidgets": {},
       "aggData": [],
       "aggError": "",
       "aggOverflow": false,
       "aggSchema": [],
       "aggSeriesLimitReached": false,
       "aggType": "",
       "arguments": {},
       "columnCustomDisplayInfos": {},
       "data": [
        [
         "ashutosh",
         "80",
         "P",
         90
        ],
        [
         "ravi",
         "45",
         "F",
         20
        ],
        [
         "rakesh",
         "55",
         "F",
         40
        ],
        [
         "sunny",
         "80",
         "P",
         90
        ],
        [
         "sanidhia",
         "null",
         "P",
         90
        ],
        [
         "ashutosh",
         "80",
         "P",
         90
        ],
        [
         "ram",
         "45",
         "F",
         20
        ],
        [
         "avinash",
         "55",
         "F",
         40
        ],
        [
         "abhishek",
         "80",
         "P",
         90
        ],
        [
         "rahul",
         null,
         "P",
         90
        ]
       ],
       "datasetInfos": [],
       "dbfsResultPath": null,
       "isJsonSchema": true,
       "metadata": {},
       "overflow": false,
       "plotOptions": {
        "customPlotOptions": {},
        "displayType": "table",
        "pivotAggregation": null,
        "pivotColumns": null,
        "xColumns": null,
        "yColumns": null
       },
       "removedWidgets": [],
       "schema": [
        {
         "metadata": "{}",
         "name": "name",
         "type": "\"string\""
        },
        {
         "metadata": "{}",
         "name": "marks",
         "type": "\"string\""
        },
        {
         "metadata": "{}",
         "name": "status",
         "type": "\"string\""
        },
        {
         "metadata": "{}",
         "name": "attendence",
         "type": "\"long\""
        }
       ],
       "type": "table"
      }
     },
     "output_type": "display_data"
    }
   ],
   "source": [
    "df_union = df.union(df1)# Perform a union of two DataFrames, 'df' and 'df1'.\n",
    "# - Combines all rows from both DataFrames into a single DataFrame 'df_union'.\n",
    "# - Both DataFrames must have the same schema for union to work correctly.\n",
    "# Display the resulting combined DataFrame in an interactive tabular view in Databricks.\n",
    "display(df_union)"
   ]
  },
  {
   "cell_type": "code",
   "execution_count": 0,
   "metadata": {
    "application/vnd.databricks.v1+cell": {
     "cellMetadata": {
      "byteLimit": 2048000,
      "rowLimit": 10000
     },
     "inputWidgets": {},
     "nuid": "70fb093e-8a53-48a3-8853-11a60c66bbfd",
     "showTitle": true,
     "tableResultSettingsMap": {},
     "title": "UnionAll"
    }
   },
   "outputs": [
    {
     "output_type": "display_data",
     "data": {
      "text/html": [
       "<style scoped>\n",
       "  .table-result-container {\n",
       "    max-height: 300px;\n",
       "    overflow: auto;\n",
       "  }\n",
       "  table, th, td {\n",
       "    border: 1px solid black;\n",
       "    border-collapse: collapse;\n",
       "  }\n",
       "  th, td {\n",
       "    padding: 5px;\n",
       "  }\n",
       "  th {\n",
       "    text-align: left;\n",
       "  }\n",
       "</style><div class='table-result-container'><table class='table-result'><thead style='background-color: white'><tr><th>name</th><th>marks</th><th>status</th><th>attendence</th></tr></thead><tbody><tr><td>ashutosh</td><td>80</td><td>P</td><td>90</td></tr><tr><td>ravi</td><td>45</td><td>F</td><td>20</td></tr><tr><td>rakesh</td><td>55</td><td>F</td><td>40</td></tr><tr><td>sunny</td><td>80</td><td>P</td><td>90</td></tr><tr><td>sanidhia</td><td>null</td><td>P</td><td>90</td></tr><tr><td>ashutosh</td><td>80</td><td>P</td><td>90</td></tr><tr><td>ram</td><td>45</td><td>F</td><td>20</td></tr><tr><td>avinash</td><td>55</td><td>F</td><td>40</td></tr><tr><td>abhishek</td><td>80</td><td>P</td><td>90</td></tr><tr><td>rahul</td><td>null</td><td>P</td><td>90</td></tr></tbody></table></div>"
      ]
     },
     "metadata": {
      "application/vnd.databricks.v1+output": {
       "addedWidgets": {},
       "aggData": [],
       "aggError": "",
       "aggOverflow": false,
       "aggSchema": [],
       "aggSeriesLimitReached": false,
       "aggType": "",
       "arguments": {},
       "columnCustomDisplayInfos": {},
       "data": [
        [
         "ashutosh",
         "80",
         "P",
         90
        ],
        [
         "ravi",
         "45",
         "F",
         20
        ],
        [
         "rakesh",
         "55",
         "F",
         40
        ],
        [
         "sunny",
         "80",
         "P",
         90
        ],
        [
         "sanidhia",
         "null",
         "P",
         90
        ],
        [
         "ashutosh",
         "80",
         "P",
         90
        ],
        [
         "ram",
         "45",
         "F",
         20
        ],
        [
         "avinash",
         "55",
         "F",
         40
        ],
        [
         "abhishek",
         "80",
         "P",
         90
        ],
        [
         "rahul",
         null,
         "P",
         90
        ]
       ],
       "datasetInfos": [],
       "dbfsResultPath": null,
       "isJsonSchema": true,
       "metadata": {},
       "overflow": false,
       "plotOptions": {
        "customPlotOptions": {},
        "displayType": "table",
        "pivotAggregation": null,
        "pivotColumns": null,
        "xColumns": null,
        "yColumns": null
       },
       "removedWidgets": [],
       "schema": [
        {
         "metadata": "{}",
         "name": "name",
         "type": "\"string\""
        },
        {
         "metadata": "{}",
         "name": "marks",
         "type": "\"string\""
        },
        {
         "metadata": "{}",
         "name": "status",
         "type": "\"string\""
        },
        {
         "metadata": "{}",
         "name": "attendence",
         "type": "\"long\""
        }
       ],
       "type": "table"
      }
     },
     "output_type": "display_data"
    }
   ],
   "source": [
    "df_union_all = df.unionAll(df1) # Perform a unionAll of two DataFrames, 'df' and 'df1'.\n",
    "# - Combines all rows from both DataFrames into a single DataFrame 'df_union_all'.\n",
    "# - Unlike SQL UNION, unionAll keeps all duplicate rows.\n",
    "# - Both DataFrames must have the same schema for unionAll to work correctly.\n",
    "# Display the resulting combined DataFrame in an interactive tabular view in Databricks.\n",
    "display(df_union_all)"
   ]
  },
  {
   "cell_type": "code",
   "execution_count": 0,
   "metadata": {
    "application/vnd.databricks.v1+cell": {
     "cellMetadata": {
      "byteLimit": 2048000,
      "rowLimit": 10000
     },
     "inputWidgets": {},
     "nuid": "cb3724de-41fd-4782-87f7-b1f35c724336",
     "showTitle": false,
     "tableResultSettingsMap": {},
     "title": ""
    }
   },
   "outputs": [
    {
     "output_type": "display_data",
     "data": {
      "text/html": [
       "<style scoped>\n",
       "  .table-result-container {\n",
       "    max-height: 300px;\n",
       "    overflow: auto;\n",
       "  }\n",
       "  table, th, td {\n",
       "    border: 1px solid black;\n",
       "    border-collapse: collapse;\n",
       "  }\n",
       "  th, td {\n",
       "    padding: 5px;\n",
       "  }\n",
       "  th {\n",
       "    text-align: left;\n",
       "  }\n",
       "</style><div class='table-result-container'><table class='table-result'><thead style='background-color: white'><tr><th>name</th><th>marks</th><th>status</th><th>attendence</th></tr></thead><tbody><tr><td>ashutosh</td><td>80</td><td>P</td><td>90</td></tr><tr><td>ravi</td><td>45</td><td>F</td><td>20</td></tr><tr><td>rakesh</td><td>55</td><td>F</td><td>40</td></tr><tr><td>sunny</td><td>80</td><td>P</td><td>90</td></tr><tr><td>sanidhia</td><td>null</td><td>P</td><td>90</td></tr><tr><td>ram</td><td>45</td><td>F</td><td>20</td></tr><tr><td>avinash</td><td>55</td><td>F</td><td>40</td></tr><tr><td>abhishek</td><td>80</td><td>P</td><td>90</td></tr><tr><td>rahul</td><td>null</td><td>P</td><td>90</td></tr></tbody></table></div>"
      ]
     },
     "metadata": {
      "application/vnd.databricks.v1+output": {
       "addedWidgets": {},
       "aggData": [],
       "aggError": "",
       "aggOverflow": false,
       "aggSchema": [],
       "aggSeriesLimitReached": false,
       "aggType": "",
       "arguments": {},
       "columnCustomDisplayInfos": {},
       "data": [
        [
         "ashutosh",
         "80",
         "P",
         90
        ],
        [
         "ravi",
         "45",
         "F",
         20
        ],
        [
         "rakesh",
         "55",
         "F",
         40
        ],
        [
         "sunny",
         "80",
         "P",
         90
        ],
        [
         "sanidhia",
         "null",
         "P",
         90
        ],
        [
         "ram",
         "45",
         "F",
         20
        ],
        [
         "avinash",
         "55",
         "F",
         40
        ],
        [
         "abhishek",
         "80",
         "P",
         90
        ],
        [
         "rahul",
         null,
         "P",
         90
        ]
       ],
       "datasetInfos": [],
       "dbfsResultPath": null,
       "isJsonSchema": true,
       "metadata": {},
       "overflow": false,
       "plotOptions": {
        "customPlotOptions": {},
        "displayType": "table",
        "pivotAggregation": null,
        "pivotColumns": null,
        "xColumns": null,
        "yColumns": null
       },
       "removedWidgets": [],
       "schema": [
        {
         "metadata": "{}",
         "name": "name",
         "type": "\"string\""
        },
        {
         "metadata": "{}",
         "name": "marks",
         "type": "\"string\""
        },
        {
         "metadata": "{}",
         "name": "status",
         "type": "\"string\""
        },
        {
         "metadata": "{}",
         "name": "attendence",
         "type": "\"long\""
        }
       ],
       "type": "table"
      }
     },
     "output_type": "display_data"
    }
   ],
   "source": [
    "display(df_union.dropDuplicates()) # Remove duplicate rows from the 'df_union' DataFrame.\n",
    "# - The resulting DataFrame will contain only unique rows.\n",
    "# Display the DataFrame without duplicates in an interactive tabular view in Databricks."
   ]
  },
  {
   "cell_type": "code",
   "execution_count": 0,
   "metadata": {
    "application/vnd.databricks.v1+cell": {
     "cellMetadata": {
      "byteLimit": 2048000,
      "rowLimit": 10000
     },
     "inputWidgets": {},
     "nuid": "84213ac3-e332-466e-9926-f6a540be7acd",
     "showTitle": false,
     "tableResultSettingsMap": {},
     "title": ""
    }
   },
   "outputs": [
    {
     "output_type": "display_data",
     "data": {
      "text/html": [
       "<style scoped>\n",
       "  .table-result-container {\n",
       "    max-height: 300px;\n",
       "    overflow: auto;\n",
       "  }\n",
       "  table, th, td {\n",
       "    border: 1px solid black;\n",
       "    border-collapse: collapse;\n",
       "  }\n",
       "  th, td {\n",
       "    padding: 5px;\n",
       "  }\n",
       "  th {\n",
       "    text-align: left;\n",
       "  }\n",
       "</style><div class='table-result-container'><table class='table-result'><thead style='background-color: white'><tr><th>name</th><th>marks</th><th>status</th><th>_4</th></tr></thead><tbody><tr><td>ashutosh</td><td>80</td><td>P</td><td>90</td></tr><tr><td>ravi</td><td>45</td><td>F</td><td>20</td></tr><tr><td>rakesh</td><td>55</td><td>F</td><td>40</td></tr><tr><td>sunny</td><td>80</td><td>P</td><td>90</td></tr><tr><td>sanidhia</td><td>null</td><td>P</td><td>90</td></tr></tbody></table></div>"
      ]
     },
     "metadata": {
      "application/vnd.databricks.v1+output": {
       "addedWidgets": {},
       "aggData": [],
       "aggError": "",
       "aggOverflow": false,
       "aggSchema": [],
       "aggSeriesLimitReached": false,
       "aggType": "",
       "arguments": {},
       "columnCustomDisplayInfos": {},
       "data": [
        [
         "ashutosh",
         "80",
         "P",
         90
        ],
        [
         "ravi",
         "45",
         "F",
         20
        ],
        [
         "rakesh",
         "55",
         "F",
         40
        ],
        [
         "sunny",
         "80",
         "P",
         90
        ],
        [
         "sanidhia",
         "null",
         "P",
         90
        ]
       ],
       "datasetInfos": [],
       "dbfsResultPath": null,
       "isJsonSchema": true,
       "metadata": {},
       "overflow": false,
       "plotOptions": {
        "customPlotOptions": {},
        "displayType": "table",
        "pivotAggregation": null,
        "pivotColumns": null,
        "xColumns": null,
        "yColumns": null
       },
       "removedWidgets": [],
       "schema": [
        {
         "metadata": "{}",
         "name": "name",
         "type": "\"string\""
        },
        {
         "metadata": "{}",
         "name": "marks",
         "type": "\"string\""
        },
        {
         "metadata": "{}",
         "name": "status",
         "type": "\"string\""
        },
        {
         "metadata": "{}",
         "name": "_4",
         "type": "\"long\""
        }
       ],
       "type": "table"
      }
     },
     "output_type": "display_data"
    }
   ],
   "source": [
    "data_student_5_col = [(\"ashutosh\",\"80\",\"P\"),\n",
    "                (\"ram\",\"45\",\"F\"),\n",
    "                (\"avinash\",\"55\",\"F\"),\n",
    "                (\"abhishek\",\"80\",\"P\")\n",
    "                ,(\"rahul\",\"null\",\"P\")] # Create sample student data with 3 columns: name, marks, and status.\n",
    "# Each tuple represents a student record: (name, marks, status)\n",
    "# - 'marks' contains numeric values as strings, with \"null\" representing missing values.\n",
    "df_5_col=spark.createDataFrame(data= data_student , schema =[\"name\",\"marks\",\"status\"]) # Create a Spark DataFrame 'df_5_col' using the sample data and schema.\n",
    "display(df_5_col) # Display the DataFrame in an interactive tabular view in Databricks."
   ]
  },
  {
   "cell_type": "code",
   "execution_count": 0,
   "metadata": {
    "application/vnd.databricks.v1+cell": {
     "cellMetadata": {
      "byteLimit": 2048000,
      "rowLimit": 10000
     },
     "inputWidgets": {},
     "nuid": "f41035ff-f6fc-4167-8b75-a4592cff632b",
     "showTitle": true,
     "tableResultSettingsMap": {},
     "title": "Mismatch in schema"
    }
   },
   "outputs": [
    {
     "output_type": "display_data",
     "data": {
      "text/html": [
       "<style scoped>\n",
       "  .table-result-container {\n",
       "    max-height: 300px;\n",
       "    overflow: auto;\n",
       "  }\n",
       "  table, th, td {\n",
       "    border: 1px solid black;\n",
       "    border-collapse: collapse;\n",
       "  }\n",
       "  th, td {\n",
       "    padding: 5px;\n",
       "  }\n",
       "  th {\n",
       "    text-align: left;\n",
       "  }\n",
       "</style><div class='table-result-container'><table class='table-result'><thead style='background-color: white'><tr><th>name</th><th>marks</th><th>status</th><th>attendence</th></tr></thead><tbody><tr><td>ashutosh</td><td>80</td><td>P</td><td>90</td></tr><tr><td>ravi</td><td>45</td><td>F</td><td>20</td></tr><tr><td>rakesh</td><td>55</td><td>F</td><td>40</td></tr><tr><td>sunny</td><td>80</td><td>P</td><td>90</td></tr><tr><td>sanidhia</td><td>null</td><td>P</td><td>90</td></tr><tr><td>ashutosh</td><td>80</td><td>P</td><td>90</td></tr><tr><td>ram</td><td>45</td><td>F</td><td>20</td></tr><tr><td>avinash</td><td>55</td><td>F</td><td>40</td></tr><tr><td>abhishek</td><td>80</td><td>P</td><td>90</td></tr><tr><td>rahul</td><td>null</td><td>P</td><td>90</td></tr></tbody></table></div>"
      ]
     },
     "metadata": {
      "application/vnd.databricks.v1+output": {
       "addedWidgets": {},
       "aggData": [],
       "aggError": "",
       "aggOverflow": false,
       "aggSchema": [],
       "aggSeriesLimitReached": false,
       "aggType": "",
       "arguments": {},
       "columnCustomDisplayInfos": {},
       "data": [
        [
         "ashutosh",
         "80",
         "P",
         90
        ],
        [
         "ravi",
         "45",
         "F",
         20
        ],
        [
         "rakesh",
         "55",
         "F",
         40
        ],
        [
         "sunny",
         "80",
         "P",
         90
        ],
        [
         "sanidhia",
         "null",
         "P",
         90
        ],
        [
         "ashutosh",
         "80",
         "P",
         90
        ],
        [
         "ram",
         "45",
         "F",
         20
        ],
        [
         "avinash",
         "55",
         "F",
         40
        ],
        [
         "abhishek",
         "80",
         "P",
         90
        ],
        [
         "rahul",
         null,
         "P",
         90
        ]
       ],
       "datasetInfos": [],
       "dbfsResultPath": null,
       "isJsonSchema": true,
       "metadata": {},
       "overflow": false,
       "plotOptions": {
        "customPlotOptions": {},
        "displayType": "table",
        "pivotAggregation": null,
        "pivotColumns": null,
        "xColumns": null,
        "yColumns": null
       },
       "removedWidgets": [],
       "schema": [
        {
         "metadata": "{}",
         "name": "name",
         "type": "\"string\""
        },
        {
         "metadata": "{}",
         "name": "marks",
         "type": "\"string\""
        },
        {
         "metadata": "{}",
         "name": "status",
         "type": "\"string\""
        },
        {
         "metadata": "{}",
         "name": "attendence",
         "type": "\"long\""
        }
       ],
       "type": "table"
      }
     },
     "output_type": "display_data"
    }
   ],
   "source": [
    "df_union = df.union(df1) # Perform a union of two DataFrames, 'df' and 'df1'.\n",
    "# - Combines all rows from both DataFrames into a single DataFrame 'df_union'.\n",
    "# - Both DataFrames must have the same schema for the union operation to work correctly.\n",
    "# Display the combined DataFrame in an interactive tabular view in Databricks.\n",
    "display(df_union)"
   ]
  },
  {
   "cell_type": "markdown",
   "metadata": {
    "application/vnd.databricks.v1+cell": {
     "cellMetadata": {},
     "inputWidgets": {},
     "nuid": "08ade107-cbcf-40d3-856f-ce2fa773ffe2",
     "showTitle": false,
     "tableResultSettingsMap": {},
     "title": ""
    }
   },
   "source": [
    "![test image](/FileStore/images/Pivot-1.PNG)"
   ]
  },
  {
   "cell_type": "code",
   "execution_count": 0,
   "metadata": {
    "application/vnd.databricks.v1+cell": {
     "cellMetadata": {},
     "inputWidgets": {},
     "nuid": "6664325f-56b8-47d6-a92f-ce783e86541d",
     "showTitle": false,
     "tableResultSettingsMap": {},
     "title": ""
    }
   },
   "outputs": [],
   "source": []
  }
 ],
 "metadata": {
  "application/vnd.databricks.v1+notebook": {
   "computePreferences": null,
   "dashboards": [],
   "environmentMetadata": null,
   "inputWidgetPreferences": null,
   "language": "python",
   "notebookMetadata": {
    "pythonIndentUnit": 4
   },
   "notebookName": "08 - Pyspark Union",
   "widgets": {}
  }
 },
 "nbformat": 4,
 "nbformat_minor": 0
}